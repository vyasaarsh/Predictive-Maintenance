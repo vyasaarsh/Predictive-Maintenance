{
 "cells": [
  {
   "cell_type": "markdown",
   "metadata": {},
   "source": [
    "## RNN Time Series Classification"
   ]
  },
  {
   "cell_type": "markdown",
   "metadata": {},
   "source": [
    "### Importing Required Libraries and Data"
   ]
  },
  {
   "cell_type": "code",
   "execution_count": 5,
   "metadata": {},
   "outputs": [],
   "source": [
    "import pandas as pd\n",
    "import numpy as np\n",
    "\n",
    "#to plot the data\n",
    "import matplotlib.pyplot as plt\n",
    "import seaborn as sns\n",
    "%matplotlib inline\n",
    "import matplotlib as mpl\n",
    "mpl.rcParams.update(mpl.rcParamsDefault)\n",
    "\n",
    "import time\n",
    "import os\n",
    "os.chdir(\"C:/Data/aircraft/\")\n",
    "\n",
    "from sklearn.preprocessing import MinMaxScaler #to normalize data\n",
    "from sklearn.metrics import classification_report, confusion_matrix, roc_curve\n",
    "from sklearn.metrics import f1_score, roc_auc_score, accuracy_score, precision_score, recall_score\n",
    "from sklearn.utils import class_weight\n",
    "\n",
    "#for deep learning\n",
    "import keras\n",
    "import keras.backend as k\n",
    "from keras.models import Sequential\n",
    "from keras.layers import Dense, Activation, Masking, Dropout, SimpleRNN\n",
    "from keras.callbacks import History\n",
    "from keras import callbacks\n",
    "from keras.utils import to_categorical"
   ]
  },
  {
   "cell_type": "code",
   "execution_count": 6,
   "metadata": {},
   "outputs": [],
   "source": [
    "def prepare_data(drop_cols = True):\n",
    "    dependent_var = ['RUL']\n",
    "    index_columns_names =  [\"UnitNumber\",\"Cycle\"]\n",
    "    operational_settings_columns_names = [\"OpSet\"+str(i) for i in range(1,4)]\n",
    "    sensor_measure_columns_names =[\"SensorMeasure\"+str(i) for i in range(1,22)]\n",
    "    input_file_column_names = index_columns_names + operational_settings_columns_names + sensor_measure_columns_names\n",
    "\n",
    "    cols_to_drop = ['OpSet3', 'SensorMeasure1', 'SensorMeasure5', 'SensorMeasure6', 'SensorMeasure10', 'SensorMeasure14',\n",
    "     'SensorMeasure16', 'SensorMeasure18', 'SensorMeasure19']\n",
    "\n",
    "    df_train = pd.read_csv('train_FD001.txt',delim_whitespace=True,names=input_file_column_names)\n",
    "\n",
    "    rul = pd.DataFrame(df_train.groupby('UnitNumber')['Cycle'].max()).reset_index()\n",
    "    rul.columns = ['UnitNumber', 'max']\n",
    "    df_train = df_train.merge(rul, on=['UnitNumber'], how='left')\n",
    "    df_train['RUL'] = df_train['max'] - df_train['Cycle']\n",
    "    df_train.drop('max', axis=1, inplace=True)\n",
    "    df_train['failure_lbl_1'] = [1 if i < 50 else 0 for i in df_train.RUL]\n",
    "    df_train['failure_lbl_2'] = df_train['failure_lbl_1']\n",
    "    df_train.failure_lbl_2[df_train.RUL < 25] = 2\n",
    "\n",
    "    df_test = pd.read_csv('test_FD001.txt', delim_whitespace=True, names=input_file_column_names)\n",
    "    \n",
    "    if(drop_cols == True):\n",
    "        df_train = df_train.drop(cols_to_drop, axis = 1)\n",
    "        df_test = df_test.drop(cols_to_drop, axis = 1)\n",
    "\n",
    "    y_true = pd.read_csv('RUL_FD001.txt', delim_whitespace=True,names=[\"RUL\"])\n",
    "    y_true[\"UnitNumber\"] = y_true.index\n",
    "    y_true['failure_lbl_1'] = [1 if i < 50 else 0 for i in y_true.RUL]\n",
    "    y_true['failure_lbl_2'] = y_true['failure_lbl_1']\n",
    "    y_true.failure_lbl_2[y_true.RUL < 25] = 2\n",
    "    \n",
    "    return df_train, df_test, y_true"
   ]
  },
  {
   "cell_type": "code",
   "execution_count": 7,
   "metadata": {},
   "outputs": [
    {
     "name": "stderr",
     "output_type": "stream",
     "text": [
      "C:\\Users\\archd\\Anaconda3\\lib\\site-packages\\ipykernel_launcher.py:20: SettingWithCopyWarning: \n",
      "A value is trying to be set on a copy of a slice from a DataFrame\n",
      "\n",
      "See the caveats in the documentation: http://pandas.pydata.org/pandas-docs/stable/indexing.html#indexing-view-versus-copy\n"
     ]
    },
    {
     "data": {
      "text/plain": [
       "((20631, 20), (13096, 17), (100, 4))"
      ]
     },
     "execution_count": 7,
     "metadata": {},
     "output_type": "execute_result"
    }
   ],
   "source": [
    "df_train, df_test, y_true = prepare_data(drop_cols=True)\n",
    "df_train.shape, df_test.shape, y_true.shape"
   ]
  },
  {
   "cell_type": "code",
   "execution_count": 8,
   "metadata": {},
   "outputs": [],
   "source": [
    "feats = df_train.columns.drop(['UnitNumber', 'Cycle', 'RUL', 'failure_lbl_1', 'failure_lbl_2'])"
   ]
  },
  {
   "cell_type": "code",
   "execution_count": 9,
   "metadata": {},
   "outputs": [],
   "source": [
    "min_max_scaler = MinMaxScaler(feature_range=(-1,1))\n",
    "\n",
    "df_train[feats] = min_max_scaler.fit_transform(df_train[feats])\n",
    "df_test[feats] = min_max_scaler.transform(df_test[feats])"
   ]
  },
  {
   "cell_type": "code",
   "execution_count": 10,
   "metadata": {
    "scrolled": true
   },
   "outputs": [
    {
     "data": {
      "text/html": [
       "<div>\n",
       "<style scoped>\n",
       "    .dataframe tbody tr th:only-of-type {\n",
       "        vertical-align: middle;\n",
       "    }\n",
       "\n",
       "    .dataframe tbody tr th {\n",
       "        vertical-align: top;\n",
       "    }\n",
       "\n",
       "    .dataframe thead th {\n",
       "        text-align: right;\n",
       "    }\n",
       "</style>\n",
       "<table border=\"1\" class=\"dataframe\">\n",
       "  <thead>\n",
       "    <tr style=\"text-align: right;\">\n",
       "      <th></th>\n",
       "      <th>UnitNumber</th>\n",
       "      <th>Cycle</th>\n",
       "      <th>OpSet1</th>\n",
       "      <th>OpSet2</th>\n",
       "      <th>SensorMeasure2</th>\n",
       "      <th>SensorMeasure3</th>\n",
       "      <th>SensorMeasure4</th>\n",
       "      <th>SensorMeasure7</th>\n",
       "      <th>SensorMeasure8</th>\n",
       "      <th>SensorMeasure9</th>\n",
       "      <th>SensorMeasure11</th>\n",
       "      <th>SensorMeasure12</th>\n",
       "      <th>SensorMeasure13</th>\n",
       "      <th>SensorMeasure15</th>\n",
       "      <th>SensorMeasure17</th>\n",
       "      <th>SensorMeasure20</th>\n",
       "      <th>SensorMeasure21</th>\n",
       "      <th>RUL</th>\n",
       "      <th>failure_lbl_1</th>\n",
       "      <th>failure_lbl_2</th>\n",
       "    </tr>\n",
       "  </thead>\n",
       "  <tbody>\n",
       "    <tr>\n",
       "      <th>0</th>\n",
       "      <td>1</td>\n",
       "      <td>1</td>\n",
       "      <td>-0.080460</td>\n",
       "      <td>-0.666667</td>\n",
       "      <td>-0.632530</td>\n",
       "      <td>-0.186396</td>\n",
       "      <td>-0.380486</td>\n",
       "      <td>0.452496</td>\n",
       "      <td>-0.515152</td>\n",
       "      <td>-0.780490</td>\n",
       "      <td>-0.261905</td>\n",
       "      <td>0.266525</td>\n",
       "      <td>-0.588235</td>\n",
       "      <td>-0.272028</td>\n",
       "      <td>-0.333333</td>\n",
       "      <td>0.426357</td>\n",
       "      <td>0.449323</td>\n",
       "      <td>191</td>\n",
       "      <td>0</td>\n",
       "      <td>0</td>\n",
       "    </tr>\n",
       "    <tr>\n",
       "      <th>1</th>\n",
       "      <td>1</td>\n",
       "      <td>2</td>\n",
       "      <td>0.218391</td>\n",
       "      <td>-0.500000</td>\n",
       "      <td>-0.433735</td>\n",
       "      <td>-0.093961</td>\n",
       "      <td>-0.294733</td>\n",
       "      <td>0.256039</td>\n",
       "      <td>-0.575758</td>\n",
       "      <td>-0.799515</td>\n",
       "      <td>-0.238095</td>\n",
       "      <td>0.530917</td>\n",
       "      <td>-0.441176</td>\n",
       "      <td>-0.177376</td>\n",
       "      <td>-0.333333</td>\n",
       "      <td>0.333333</td>\n",
       "      <td>0.462027</td>\n",
       "      <td>190</td>\n",
       "      <td>0</td>\n",
       "      <td>0</td>\n",
       "    </tr>\n",
       "    <tr>\n",
       "      <th>2</th>\n",
       "      <td>1</td>\n",
       "      <td>3</td>\n",
       "      <td>-0.494253</td>\n",
       "      <td>0.500000</td>\n",
       "      <td>-0.313253</td>\n",
       "      <td>-0.260955</td>\n",
       "      <td>-0.258947</td>\n",
       "      <td>0.420290</td>\n",
       "      <td>-0.454545</td>\n",
       "      <td>-0.719914</td>\n",
       "      <td>-0.500000</td>\n",
       "      <td>0.590618</td>\n",
       "      <td>-0.558824</td>\n",
       "      <td>-0.285110</td>\n",
       "      <td>-0.666667</td>\n",
       "      <td>0.255814</td>\n",
       "      <td>0.242751</td>\n",
       "      <td>189</td>\n",
       "      <td>0</td>\n",
       "      <td>0</td>\n",
       "    </tr>\n",
       "    <tr>\n",
       "      <th>3</th>\n",
       "      <td>1</td>\n",
       "      <td>4</td>\n",
       "      <td>0.080460</td>\n",
       "      <td>0.000000</td>\n",
       "      <td>-0.313253</td>\n",
       "      <td>-0.487683</td>\n",
       "      <td>-0.337610</td>\n",
       "      <td>0.481481</td>\n",
       "      <td>-0.363636</td>\n",
       "      <td>-0.750965</td>\n",
       "      <td>-0.666667</td>\n",
       "      <td>0.778252</td>\n",
       "      <td>-0.411765</td>\n",
       "      <td>-0.666795</td>\n",
       "      <td>-0.333333</td>\n",
       "      <td>0.147287</td>\n",
       "      <td>0.324772</td>\n",
       "      <td>188</td>\n",
       "      <td>0</td>\n",
       "      <td>0</td>\n",
       "    </tr>\n",
       "    <tr>\n",
       "      <th>4</th>\n",
       "      <td>1</td>\n",
       "      <td>5</td>\n",
       "      <td>-0.218391</td>\n",
       "      <td>-0.333333</td>\n",
       "      <td>-0.301205</td>\n",
       "      <td>-0.485066</td>\n",
       "      <td>-0.190749</td>\n",
       "      <td>0.336554</td>\n",
       "      <td>-0.515152</td>\n",
       "      <td>-0.700081</td>\n",
       "      <td>-0.488095</td>\n",
       "      <td>0.492537</td>\n",
       "      <td>-0.529412</td>\n",
       "      <td>-0.195845</td>\n",
       "      <td>-0.166667</td>\n",
       "      <td>0.178295</td>\n",
       "      <td>0.409003</td>\n",
       "      <td>187</td>\n",
       "      <td>0</td>\n",
       "      <td>0</td>\n",
       "    </tr>\n",
       "  </tbody>\n",
       "</table>\n",
       "</div>"
      ],
      "text/plain": [
       "   UnitNumber  Cycle    OpSet1    OpSet2  SensorMeasure2  SensorMeasure3  \\\n",
       "0           1      1 -0.080460 -0.666667       -0.632530       -0.186396   \n",
       "1           1      2  0.218391 -0.500000       -0.433735       -0.093961   \n",
       "2           1      3 -0.494253  0.500000       -0.313253       -0.260955   \n",
       "3           1      4  0.080460  0.000000       -0.313253       -0.487683   \n",
       "4           1      5 -0.218391 -0.333333       -0.301205       -0.485066   \n",
       "\n",
       "   SensorMeasure4  SensorMeasure7  SensorMeasure8  SensorMeasure9  \\\n",
       "0       -0.380486        0.452496       -0.515152       -0.780490   \n",
       "1       -0.294733        0.256039       -0.575758       -0.799515   \n",
       "2       -0.258947        0.420290       -0.454545       -0.719914   \n",
       "3       -0.337610        0.481481       -0.363636       -0.750965   \n",
       "4       -0.190749        0.336554       -0.515152       -0.700081   \n",
       "\n",
       "   SensorMeasure11  SensorMeasure12  SensorMeasure13  SensorMeasure15  \\\n",
       "0        -0.261905         0.266525        -0.588235        -0.272028   \n",
       "1        -0.238095         0.530917        -0.441176        -0.177376   \n",
       "2        -0.500000         0.590618        -0.558824        -0.285110   \n",
       "3        -0.666667         0.778252        -0.411765        -0.666795   \n",
       "4        -0.488095         0.492537        -0.529412        -0.195845   \n",
       "\n",
       "   SensorMeasure17  SensorMeasure20  SensorMeasure21  RUL  failure_lbl_1  \\\n",
       "0        -0.333333         0.426357         0.449323  191              0   \n",
       "1        -0.333333         0.333333         0.462027  190              0   \n",
       "2        -0.666667         0.255814         0.242751  189              0   \n",
       "3        -0.333333         0.147287         0.324772  188              0   \n",
       "4        -0.166667         0.178295         0.409003  187              0   \n",
       "\n",
       "   failure_lbl_2  \n",
       "0              0  \n",
       "1              0  \n",
       "2              0  \n",
       "3              0  \n",
       "4              0  "
      ]
     },
     "execution_count": 10,
     "metadata": {},
     "output_type": "execute_result"
    }
   ],
   "source": [
    "df_train.head()"
   ]
  },
  {
   "cell_type": "code",
   "execution_count": 11,
   "metadata": {},
   "outputs": [
    {
     "data": {
      "text/html": [
       "<div>\n",
       "<style scoped>\n",
       "    .dataframe tbody tr th:only-of-type {\n",
       "        vertical-align: middle;\n",
       "    }\n",
       "\n",
       "    .dataframe tbody tr th {\n",
       "        vertical-align: top;\n",
       "    }\n",
       "\n",
       "    .dataframe thead th {\n",
       "        text-align: right;\n",
       "    }\n",
       "</style>\n",
       "<table border=\"1\" class=\"dataframe\">\n",
       "  <thead>\n",
       "    <tr style=\"text-align: right;\">\n",
       "      <th></th>\n",
       "      <th>UnitNumber</th>\n",
       "      <th>Cycle</th>\n",
       "      <th>OpSet1</th>\n",
       "      <th>OpSet2</th>\n",
       "      <th>SensorMeasure2</th>\n",
       "      <th>SensorMeasure3</th>\n",
       "      <th>SensorMeasure4</th>\n",
       "      <th>SensorMeasure7</th>\n",
       "      <th>SensorMeasure8</th>\n",
       "      <th>SensorMeasure9</th>\n",
       "      <th>SensorMeasure11</th>\n",
       "      <th>SensorMeasure12</th>\n",
       "      <th>SensorMeasure13</th>\n",
       "      <th>SensorMeasure15</th>\n",
       "      <th>SensorMeasure17</th>\n",
       "      <th>SensorMeasure20</th>\n",
       "      <th>SensorMeasure21</th>\n",
       "    </tr>\n",
       "  </thead>\n",
       "  <tbody>\n",
       "    <tr>\n",
       "      <th>0</th>\n",
       "      <td>1</td>\n",
       "      <td>1</td>\n",
       "      <td>0.264368</td>\n",
       "      <td>0.500000</td>\n",
       "      <td>0.090361</td>\n",
       "      <td>-0.378679</td>\n",
       "      <td>-0.461175</td>\n",
       "      <td>0.304348</td>\n",
       "      <td>-0.575758</td>\n",
       "      <td>-0.744773</td>\n",
       "      <td>-0.583333</td>\n",
       "      <td>0.292111</td>\n",
       "      <td>-0.558824</td>\n",
       "      <td>-0.382070</td>\n",
       "      <td>-0.333333</td>\n",
       "      <td>0.116279</td>\n",
       "      <td>0.323667</td>\n",
       "    </tr>\n",
       "    <tr>\n",
       "      <th>1</th>\n",
       "      <td>1</td>\n",
       "      <td>2</td>\n",
       "      <td>-0.310345</td>\n",
       "      <td>-0.500000</td>\n",
       "      <td>-0.698795</td>\n",
       "      <td>-0.240898</td>\n",
       "      <td>-0.555368</td>\n",
       "      <td>0.610306</td>\n",
       "      <td>-0.666667</td>\n",
       "      <td>-0.706632</td>\n",
       "      <td>-0.226190</td>\n",
       "      <td>0.479744</td>\n",
       "      <td>-0.470588</td>\n",
       "      <td>-0.573682</td>\n",
       "      <td>-0.166667</td>\n",
       "      <td>0.364341</td>\n",
       "      <td>0.373654</td>\n",
       "    </tr>\n",
       "    <tr>\n",
       "      <th>2</th>\n",
       "      <td>1</td>\n",
       "      <td>3</td>\n",
       "      <td>0.034483</td>\n",
       "      <td>0.166667</td>\n",
       "      <td>-0.246988</td>\n",
       "      <td>-0.306736</td>\n",
       "      <td>-0.355503</td>\n",
       "      <td>0.371981</td>\n",
       "      <td>-0.545455</td>\n",
       "      <td>-0.683837</td>\n",
       "      <td>-0.226190</td>\n",
       "      <td>0.398721</td>\n",
       "      <td>-0.558824</td>\n",
       "      <td>-0.082724</td>\n",
       "      <td>-0.166667</td>\n",
       "      <td>0.457364</td>\n",
       "      <td>0.442695</td>\n",
       "    </tr>\n",
       "    <tr>\n",
       "      <th>3</th>\n",
       "      <td>1</td>\n",
       "      <td>4</td>\n",
       "      <td>0.482759</td>\n",
       "      <td>0.000000</td>\n",
       "      <td>-0.259036</td>\n",
       "      <td>-0.429693</td>\n",
       "      <td>-0.183997</td>\n",
       "      <td>0.359098</td>\n",
       "      <td>-0.606061</td>\n",
       "      <td>-0.788567</td>\n",
       "      <td>-0.488095</td>\n",
       "      <td>0.147122</td>\n",
       "      <td>-0.500000</td>\n",
       "      <td>-0.485956</td>\n",
       "      <td>-0.500000</td>\n",
       "      <td>0.333333</td>\n",
       "      <td>0.324220</td>\n",
       "    </tr>\n",
       "    <tr>\n",
       "      <th>4</th>\n",
       "      <td>1</td>\n",
       "      <td>5</td>\n",
       "      <td>0.160920</td>\n",
       "      <td>0.000000</td>\n",
       "      <td>-0.216867</td>\n",
       "      <td>-0.295836</td>\n",
       "      <td>-0.335922</td>\n",
       "      <td>0.388084</td>\n",
       "      <td>-0.666667</td>\n",
       "      <td>-0.795208</td>\n",
       "      <td>-0.452381</td>\n",
       "      <td>0.475480</td>\n",
       "      <td>-0.558824</td>\n",
       "      <td>-0.398230</td>\n",
       "      <td>-0.666667</td>\n",
       "      <td>0.317829</td>\n",
       "      <td>0.432753</td>\n",
       "    </tr>\n",
       "  </tbody>\n",
       "</table>\n",
       "</div>"
      ],
      "text/plain": [
       "   UnitNumber  Cycle    OpSet1    OpSet2  SensorMeasure2  SensorMeasure3  \\\n",
       "0           1      1  0.264368  0.500000        0.090361       -0.378679   \n",
       "1           1      2 -0.310345 -0.500000       -0.698795       -0.240898   \n",
       "2           1      3  0.034483  0.166667       -0.246988       -0.306736   \n",
       "3           1      4  0.482759  0.000000       -0.259036       -0.429693   \n",
       "4           1      5  0.160920  0.000000       -0.216867       -0.295836   \n",
       "\n",
       "   SensorMeasure4  SensorMeasure7  SensorMeasure8  SensorMeasure9  \\\n",
       "0       -0.461175        0.304348       -0.575758       -0.744773   \n",
       "1       -0.555368        0.610306       -0.666667       -0.706632   \n",
       "2       -0.355503        0.371981       -0.545455       -0.683837   \n",
       "3       -0.183997        0.359098       -0.606061       -0.788567   \n",
       "4       -0.335922        0.388084       -0.666667       -0.795208   \n",
       "\n",
       "   SensorMeasure11  SensorMeasure12  SensorMeasure13  SensorMeasure15  \\\n",
       "0        -0.583333         0.292111        -0.558824        -0.382070   \n",
       "1        -0.226190         0.479744        -0.470588        -0.573682   \n",
       "2        -0.226190         0.398721        -0.558824        -0.082724   \n",
       "3        -0.488095         0.147122        -0.500000        -0.485956   \n",
       "4        -0.452381         0.475480        -0.558824        -0.398230   \n",
       "\n",
       "   SensorMeasure17  SensorMeasure20  SensorMeasure21  \n",
       "0        -0.333333         0.116279         0.323667  \n",
       "1        -0.166667         0.364341         0.373654  \n",
       "2        -0.166667         0.457364         0.442695  \n",
       "3        -0.500000         0.333333         0.324220  \n",
       "4        -0.666667         0.317829         0.432753  "
      ]
     },
     "execution_count": 11,
     "metadata": {},
     "output_type": "execute_result"
    }
   ],
   "source": [
    "df_test.head()"
   ]
  },
  {
   "cell_type": "code",
   "execution_count": 12,
   "metadata": {},
   "outputs": [
    {
     "data": {
      "text/html": [
       "<div>\n",
       "<style scoped>\n",
       "    .dataframe tbody tr th:only-of-type {\n",
       "        vertical-align: middle;\n",
       "    }\n",
       "\n",
       "    .dataframe tbody tr th {\n",
       "        vertical-align: top;\n",
       "    }\n",
       "\n",
       "    .dataframe thead th {\n",
       "        text-align: right;\n",
       "    }\n",
       "</style>\n",
       "<table border=\"1\" class=\"dataframe\">\n",
       "  <thead>\n",
       "    <tr style=\"text-align: right;\">\n",
       "      <th></th>\n",
       "      <th>RUL</th>\n",
       "      <th>UnitNumber</th>\n",
       "      <th>failure_lbl_1</th>\n",
       "      <th>failure_lbl_2</th>\n",
       "    </tr>\n",
       "  </thead>\n",
       "  <tbody>\n",
       "    <tr>\n",
       "      <th>0</th>\n",
       "      <td>112</td>\n",
       "      <td>0</td>\n",
       "      <td>0</td>\n",
       "      <td>0</td>\n",
       "    </tr>\n",
       "    <tr>\n",
       "      <th>1</th>\n",
       "      <td>98</td>\n",
       "      <td>1</td>\n",
       "      <td>0</td>\n",
       "      <td>0</td>\n",
       "    </tr>\n",
       "    <tr>\n",
       "      <th>2</th>\n",
       "      <td>69</td>\n",
       "      <td>2</td>\n",
       "      <td>0</td>\n",
       "      <td>0</td>\n",
       "    </tr>\n",
       "    <tr>\n",
       "      <th>3</th>\n",
       "      <td>82</td>\n",
       "      <td>3</td>\n",
       "      <td>0</td>\n",
       "      <td>0</td>\n",
       "    </tr>\n",
       "    <tr>\n",
       "      <th>4</th>\n",
       "      <td>91</td>\n",
       "      <td>4</td>\n",
       "      <td>0</td>\n",
       "      <td>0</td>\n",
       "    </tr>\n",
       "  </tbody>\n",
       "</table>\n",
       "</div>"
      ],
      "text/plain": [
       "   RUL  UnitNumber  failure_lbl_1  failure_lbl_2\n",
       "0  112           0              0              0\n",
       "1   98           1              0              0\n",
       "2   69           2              0              0\n",
       "3   82           3              0              0\n",
       "4   91           4              0              0"
      ]
     },
     "execution_count": 12,
     "metadata": {},
     "output_type": "execute_result"
    }
   ],
   "source": [
    "y_true.head()"
   ]
  },
  {
   "cell_type": "markdown",
   "metadata": {},
   "source": [
    "\n",
    "LSTM expects an input in the shape of a numpy array of 3 dimensions and I will need to convert train and test data accordingly."
   ]
  },
  {
   "cell_type": "code",
   "execution_count": 13,
   "metadata": {},
   "outputs": [],
   "source": [
    "def gen_train(id_df, seq_length, seq_cols):\n",
    "    \"\"\"\n",
    "        function to prepare train data into (samples, time steps, features)\n",
    "        id_df = train dataframe\n",
    "        seq_length = look back period\n",
    "        seq_cols = feature columns\n",
    "    \"\"\"\n",
    "        \n",
    "    data_array = id_df[seq_cols].values\n",
    "    num_elements = data_array.shape[0]\n",
    "    lstm_array=[]\n",
    "    \n",
    "    for start, stop in zip(range(0, num_elements-seq_length+1), range(seq_length, num_elements+1)):\n",
    "        lstm_array.append(data_array[start:stop, :])\n",
    "    \n",
    "    return np.array(lstm_array)"
   ]
  },
  {
   "cell_type": "code",
   "execution_count": 14,
   "metadata": {},
   "outputs": [],
   "source": [
    "def gen_target(id_df, seq_length, label):\n",
    "    data_array = id_df[label].values\n",
    "    num_elements = data_array.shape[0]\n",
    "    return data_array[seq_length-1:num_elements+1]"
   ]
  },
  {
   "cell_type": "code",
   "execution_count": 15,
   "metadata": {},
   "outputs": [],
   "source": [
    "def gen_test(id_df, seq_length, seq_cols, mask_value):\n",
    "    \"\"\"\n",
    "        function to prepare test data into (samples, time steps, features)\n",
    "        function only returns last sequence of data for every unit\n",
    "        id_df = test dataframe\n",
    "        seq_length = look back period\n",
    "        seq_cols = feature columns\n",
    "    \"\"\"\n",
    "    df_mask = pd.DataFrame(np.zeros((seq_length-1,id_df.shape[1])),columns=id_df.columns)\n",
    "    df_mask[:] = mask_value\n",
    "    \n",
    "    id_df = df_mask.append(id_df,ignore_index=True)\n",
    "    \n",
    "    data_array = id_df[seq_cols].values\n",
    "    num_elements = data_array.shape[0]\n",
    "    lstm_array=[]\n",
    "    \n",
    "    start = num_elements-seq_length\n",
    "    stop = num_elements\n",
    "    \n",
    "    lstm_array.append(data_array[start:stop, :])\n",
    "    \n",
    "    return np.array(lstm_array)"
   ]
  },
  {
   "cell_type": "markdown",
   "metadata": {},
   "source": [
    "### Function to Print results"
   ]
  },
  {
   "cell_type": "code",
   "execution_count": 16,
   "metadata": {},
   "outputs": [],
   "source": [
    "def print_results(y_test, y_pred, multi_class = False):\n",
    "    \n",
    "    #f1-score\n",
    "    if multi_class == True:\n",
    "        f1 = f1_score(y_test, y_pred, average=\"macro\")\n",
    "    else:\n",
    "        f1 = f1_score(y_test, y_pred)\n",
    "    print(\"F1 Score: \", f1)\n",
    "    print(classification_report(y_test, y_pred))\n",
    "    \n",
    "    conf_matrix = confusion_matrix(y_test, y_pred)\n",
    "    plt.figure(figsize=(12,12))\n",
    "    plt.subplot(221)\n",
    "    sns.heatmap(conf_matrix, fmt = \"d\",annot=True, cmap='Blues')\n",
    "    b, t = plt.ylim()\n",
    "    plt.ylim(b + 0.5, t - 0.5)\n",
    "    plt.title('Confuion Matrix')\n",
    "    plt.ylabel('True Values')\n",
    "    plt.xlabel('Predicted Values')\n",
    "\n",
    "    #roc_auc_score\n",
    "    if multi_class == False:\n",
    "        model_roc_auc = roc_auc_score(y_test, y_pred) \n",
    "        print (\"Area under curve : \",model_roc_auc,\"\\n\")\n",
    "        fpr,tpr,thresholds = roc_curve(y_test, y_pred)\n",
    "        gmeans = np.sqrt(tpr * (1-fpr))\n",
    "        ix = np.argmax(gmeans)\n",
    "        threshold = np.round(thresholds[ix],3)\n",
    "\n",
    "        plt.subplot(222)\n",
    "        plt.plot(fpr, tpr, color='darkorange', lw=1, label = \"Auc : %.3f\" %model_roc_auc)\n",
    "        plt.plot([0, 1], [0, 1], color='navy', lw=2, linestyle='--')\n",
    "        plt.scatter(fpr[ix], tpr[ix], marker='o', color='black', label='Best Threshold:' + str(threshold))\n",
    "        plt.xlim([0.0, 1.0])\n",
    "        plt.ylim([0.0, 1.05])\n",
    "        plt.xlabel('False Positive Rate')\n",
    "        plt.ylabel('True Positive Rate')\n",
    "        plt.title('Receiver operating characteristic')\n",
    "        plt.legend(loc=\"lower right\")"
   ]
  },
  {
   "cell_type": "markdown",
   "metadata": {},
   "source": [
    "## Binary Classification"
   ]
  },
  {
   "cell_type": "code",
   "execution_count": 87,
   "metadata": {},
   "outputs": [],
   "source": [
    "sequence_length = 50\n",
    "mask_value = 0\n",
    "label = \"failure_lbl_1\""
   ]
  },
  {
   "cell_type": "markdown",
   "metadata": {},
   "source": [
    "\n",
    "Let's prepare data using above functions."
   ]
  },
  {
   "cell_type": "code",
   "execution_count": 88,
   "metadata": {},
   "outputs": [
    {
     "name": "stdout",
     "output_type": "stream",
     "text": [
      "(15731, 50, 15)\n"
     ]
    }
   ],
   "source": [
    "#generate train\n",
    "x_train=np.concatenate(list(list(gen_train(df_train[df_train['UnitNumber']==unit], sequence_length, feats)) for unit in df_train['UnitNumber'].unique()))\n",
    "print(x_train.shape)"
   ]
  },
  {
   "cell_type": "code",
   "execution_count": 89,
   "metadata": {
    "scrolled": true
   },
   "outputs": [
    {
     "data": {
      "text/plain": [
       "(15731,)"
      ]
     },
     "execution_count": 89,
     "metadata": {},
     "output_type": "execute_result"
    }
   ],
   "source": [
    "#generate target of train\n",
    "y_train = np.concatenate(list(list(gen_target(df_train[df_train['UnitNumber']==unit], sequence_length, label)) for unit in df_train['UnitNumber'].unique()))\n",
    "y_train.shape"
   ]
  },
  {
   "cell_type": "code",
   "execution_count": 90,
   "metadata": {},
   "outputs": [
    {
     "name": "stdout",
     "output_type": "stream",
     "text": [
      "(100, 50, 15)\n"
     ]
    }
   ],
   "source": [
    "#generate test\n",
    "x_test=np.concatenate(list(list(gen_test(df_test[df_test['UnitNumber']==unit], sequence_length, feats, mask_value)) for unit in df_test['UnitNumber'].unique()))\n",
    "print(x_test.shape)"
   ]
  },
  {
   "cell_type": "code",
   "execution_count": 91,
   "metadata": {},
   "outputs": [
    {
     "data": {
      "text/plain": [
       "(100,)"
      ]
     },
     "execution_count": 91,
     "metadata": {},
     "output_type": "execute_result"
    }
   ],
   "source": [
    "#true target of test \n",
    "y_test = y_true.RUL.values\n",
    "y_test.shape"
   ]
  },
  {
   "cell_type": "code",
   "execution_count": 92,
   "metadata": {},
   "outputs": [],
   "source": [
    "nb_features = x_train.shape[2]\n",
    "nb_out = 1"
   ]
  },
  {
   "cell_type": "code",
   "execution_count": 93,
   "metadata": {},
   "outputs": [
    {
     "data": {
      "text/plain": [
       "15"
      ]
     },
     "execution_count": 93,
     "metadata": {},
     "output_type": "execute_result"
    }
   ],
   "source": [
    "nb_features"
   ]
  },
  {
   "cell_type": "code",
   "execution_count": 94,
   "metadata": {},
   "outputs": [
    {
     "data": {
      "text/plain": [
       "array([0.7329699, 1.5731   ])"
      ]
     },
     "execution_count": 94,
     "metadata": {},
     "output_type": "execute_result"
    }
   ],
   "source": [
    "cls_wt= class_weight.compute_class_weight('balanced',np.unique(y_train), y_train)\n",
    "cls_wt"
   ]
  },
  {
   "cell_type": "markdown",
   "metadata": {},
   "source": [
    "### Model"
   ]
  },
  {
   "cell_type": "code",
   "execution_count": 100,
   "metadata": {},
   "outputs": [
    {
     "name": "stdout",
     "output_type": "stream",
     "text": [
      "_________________________________________________________________\n",
      "Layer (type)                 Output Shape              Param #   \n",
      "=================================================================\n",
      "simple_rnn_13 (SimpleRNN)    (None, 16)                512       \n",
      "_________________________________________________________________\n",
      "dense_16 (Dense)             (None, 8)                 136       \n",
      "_________________________________________________________________\n",
      "dense_17 (Dense)             (None, 1)                 9         \n",
      "=================================================================\n",
      "Total params: 657\n",
      "Trainable params: 657\n",
      "Non-trainable params: 0\n",
      "_________________________________________________________________\n"
     ]
    }
   ],
   "source": [
    "history = History()\n",
    "\n",
    "model = Sequential()\n",
    "model.add(SimpleRNN(16, input_shape=(sequence_length, nb_features),\n",
    "                    activation = 'relu'))\n",
    "model.add(Dense(8, activation = 'relu'))\n",
    "model.add(Dense(1, activation='sigmoid'))\n",
    "\n",
    "model.compile(loss=\"binary_crossentropy\", optimizer=\"adam\", metrics=['accuracy'])\n",
    "\n",
    "model.summary()"
   ]
  },
  {
   "cell_type": "code",
   "execution_count": 101,
   "metadata": {
    "scrolled": true
   },
   "outputs": [
    {
     "name": "stdout",
     "output_type": "stream",
     "text": [
      "Train on 12584 samples, validate on 3147 samples\n",
      "Epoch 1/100\n",
      "12584/12584 [==============================] - 6s 478us/step - loss: 0.3399 - acc: 0.8586 - val_loss: 0.2351 - val_acc: 0.8958\n",
      "Epoch 2/100\n",
      "12584/12584 [==============================] - 3s 249us/step - loss: 0.2144 - acc: 0.9074 - val_loss: 0.2258 - val_acc: 0.9047\n",
      "Epoch 3/100\n",
      "12584/12584 [==============================] - 3s 246us/step - loss: 0.2030 - acc: 0.9135 - val_loss: 0.2214 - val_acc: 0.9059\n",
      "Epoch 4/100\n",
      "12584/12584 [==============================] - 3s 249us/step - loss: 0.1943 - acc: 0.9163 - val_loss: 0.2152 - val_acc: 0.9053\n",
      "Epoch 5/100\n",
      "12584/12584 [==============================] - 3s 247us/step - loss: 0.1856 - acc: 0.9197 - val_loss: 0.2076 - val_acc: 0.9018\n",
      "Epoch 6/100\n",
      "12584/12584 [==============================] - 3s 242us/step - loss: 0.1724 - acc: 0.9279 - val_loss: 0.1800 - val_acc: 0.9196\n",
      "Epoch 7/100\n",
      "12584/12584 [==============================] - 3s 249us/step - loss: 0.1585 - acc: 0.9309 - val_loss: 0.1677 - val_acc: 0.9234\n",
      "Epoch 8/100\n",
      "12584/12584 [==============================] - 3s 248us/step - loss: 0.1465 - acc: 0.9381 - val_loss: 0.1575 - val_acc: 0.9317\n",
      "Epoch 9/100\n",
      "12584/12584 [==============================] - 3s 246us/step - loss: 0.1435 - acc: 0.9394 - val_loss: 0.1790 - val_acc: 0.9263\n",
      "Epoch 10/100\n",
      "12584/12584 [==============================] - 3s 251us/step - loss: 0.1358 - acc: 0.9447 - val_loss: 0.1901 - val_acc: 0.9314\n",
      "Epoch 11/100\n",
      "12584/12584 [==============================] - 3s 249us/step - loss: 0.1322 - acc: 0.9464 - val_loss: 0.1545 - val_acc: 0.9323\n",
      "Epoch 12/100\n",
      "12584/12584 [==============================] - 3s 248us/step - loss: 0.1282 - acc: 0.9456 - val_loss: 0.1621 - val_acc: 0.9307\n",
      "Epoch 13/100\n",
      "12584/12584 [==============================] - 3s 275us/step - loss: 0.1300 - acc: 0.9472 - val_loss: 0.1841 - val_acc: 0.9152\n",
      "Epoch 14/100\n",
      "12584/12584 [==============================] - 3s 247us/step - loss: 0.1245 - acc: 0.9499 - val_loss: 0.2081 - val_acc: 0.9148\n",
      "Epoch 15/100\n",
      "12584/12584 [==============================] - 3s 265us/step - loss: 0.1232 - acc: 0.9507 - val_loss: 0.1767 - val_acc: 0.9339\n",
      "Epoch 16/100\n",
      "12584/12584 [==============================] - 3s 248us/step - loss: 0.1217 - acc: 0.9478 - val_loss: 0.1932 - val_acc: 0.9295\n",
      "Wall time: 54.3 s\n"
     ]
    },
    {
     "data": {
      "text/plain": [
       "<keras.callbacks.History at 0x277f53ccf98>"
      ]
     },
     "execution_count": 101,
     "metadata": {},
     "output_type": "execute_result"
    }
   ],
   "source": [
    "%%time\n",
    "# fit the model\n",
    "model.fit(x_train, y_train, epochs=100, batch_size=64, validation_split=0.2, verbose=1, class_weight = cls_wt,\n",
    "          callbacks = [history,\n",
    "                      keras.callbacks.EarlyStopping(monitor='val_loss', min_delta=0, patience=5, verbose=0, mode='auto')])"
   ]
  },
  {
   "cell_type": "code",
   "execution_count": 102,
   "metadata": {},
   "outputs": [
    {
     "data": {
      "text/plain": [
       "Text(0.5, 1.0, 'Loss')"
      ]
     },
     "execution_count": 102,
     "metadata": {},
     "output_type": "execute_result"
    },
    {
     "data": {
      "image/png": "[encoded data removed]",
      "text/plain": [
       "<Figure size 1000x400 with 2 Axes>"
      ]
     },
     "metadata": {},
     "output_type": "display_data"
    }
   ],
   "source": [
    "fig, ax = plt.subplots(nrows = 1, ncols = 2, figsize = (10, 4))\n",
    "\n",
    "# Accuracy\n",
    "ax[0].plot(history.history['acc'])\n",
    "ax[0].plot(history.history['val_acc'])\n",
    "ax[0].set_ylabel('Accuracy')\n",
    "ax[0].set_xlabel('# Epoch')\n",
    "ax[0].legend(['train', 'validation'], loc='upper left')\n",
    "ax[0].set_title('Accuracy')\n",
    "\n",
    "# Loss\n",
    "ax[1].plot(history.history['loss'])\n",
    "ax[1].plot(history.history['val_loss'])\n",
    "ax[1].set_ylabel('Loss')\n",
    "ax[1].set_xlabel('# Epoch')\n",
    "ax[1].legend(['train', 'validation'], loc='upper left')\n",
    "ax[1].set_title('Loss')"
   ]
  },
  {
   "cell_type": "code",
   "execution_count": 103,
   "metadata": {},
   "outputs": [
    {
     "name": "stdout",
     "output_type": "stream",
     "text": [
      "F1 Score:  0.9354838709677419\n",
      "              precision    recall  f1-score   support\n",
      "\n",
      "           0       0.99      0.96      0.97        70\n",
      "           1       0.91      0.97      0.94        30\n",
      "\n",
      "    accuracy                           0.96       100\n",
      "   macro avg       0.95      0.96      0.95       100\n",
      "weighted avg       0.96      0.96      0.96       100\n",
      "\n",
      "Area under curve :  0.9619047619047619 \n",
      "\n"
     ]
    },
    {
     "data": {
      "image/png": "[encoded data removed]",
      "text/plain": [
       "<Figure size 1200x1200 with 3 Axes>"
      ]
     },
     "metadata": {},
     "output_type": "display_data"
    }
   ],
   "source": [
    "y_pred = model.predict_classes(x_test)\n",
    "\n",
    "print_results(y_true.failure_lbl_1, y_pred)"
   ]
  },
  {
   "cell_type": "code",
   "execution_count": 99,
   "metadata": {},
   "outputs": [
    {
     "data": {
      "text/plain": [
       "array([[10250,   481],\n",
       "       [  735,  4265]], dtype=int64)"
      ]
     },
     "execution_count": 99,
     "metadata": {},
     "output_type": "execute_result"
    }
   ],
   "source": [
    "confusion_matrix(y_train, model.predict_classes(x_train))"
   ]
  },
  {
   "cell_type": "markdown",
   "metadata": {},
   "source": [
    "## Multiclass Classification"
   ]
  },
  {
   "cell_type": "code",
   "execution_count": 104,
   "metadata": {},
   "outputs": [],
   "source": [
    "sequence_length = 50\n",
    "mask_value = 0\n",
    "label = \"failure_lbl_2\""
   ]
  },
  {
   "cell_type": "markdown",
   "metadata": {},
   "source": [
    "\n",
    "Let's prepare data using above functions."
   ]
  },
  {
   "cell_type": "code",
   "execution_count": 105,
   "metadata": {},
   "outputs": [
    {
     "name": "stdout",
     "output_type": "stream",
     "text": [
      "(15731, 50, 15)\n"
     ]
    }
   ],
   "source": [
    "#generate train\n",
    "x_train=np.concatenate(list(list(gen_train(df_train[df_train['UnitNumber']==unit], sequence_length, feats)) for unit in df_train['UnitNumber'].unique()))\n",
    "print(x_train.shape)"
   ]
  },
  {
   "cell_type": "code",
   "execution_count": 106,
   "metadata": {
    "scrolled": true
   },
   "outputs": [
    {
     "data": {
      "text/plain": [
       "(15731,)"
      ]
     },
     "execution_count": 106,
     "metadata": {},
     "output_type": "execute_result"
    }
   ],
   "source": [
    "#generate target of train\n",
    "y_train = np.concatenate(list(list(gen_target(df_train[df_train['UnitNumber']==unit], sequence_length, label)) for unit in df_train['UnitNumber'].unique()))\n",
    "y_train.shape"
   ]
  },
  {
   "cell_type": "code",
   "execution_count": 107,
   "metadata": {},
   "outputs": [
    {
     "data": {
      "text/plain": [
       "array([[1., 0., 0.],\n",
       "       [1., 0., 0.],\n",
       "       [1., 0., 0.],\n",
       "       ...,\n",
       "       [0., 0., 1.],\n",
       "       [0., 0., 1.],\n",
       "       [0., 0., 1.]], dtype=float32)"
      ]
     },
     "execution_count": 107,
     "metadata": {},
     "output_type": "execute_result"
    }
   ],
   "source": [
    "y_train2 = to_categorical(y_train)\n",
    "y_train2"
   ]
  },
  {
   "cell_type": "code",
   "execution_count": 108,
   "metadata": {},
   "outputs": [
    {
     "name": "stdout",
     "output_type": "stream",
     "text": [
      "(100, 50, 15)\n"
     ]
    }
   ],
   "source": [
    "#generate test\n",
    "x_test=np.concatenate(list(list(gen_test(df_test[df_test['UnitNumber']==unit], sequence_length, feats, mask_value)) for unit in df_test['UnitNumber'].unique()))\n",
    "print(x_test.shape)"
   ]
  },
  {
   "cell_type": "code",
   "execution_count": 109,
   "metadata": {},
   "outputs": [],
   "source": [
    "nb_features = x_train.shape[2]\n",
    "nb_out = 1"
   ]
  },
  {
   "cell_type": "code",
   "execution_count": 110,
   "metadata": {},
   "outputs": [
    {
     "data": {
      "text/plain": [
       "15"
      ]
     },
     "execution_count": 110,
     "metadata": {},
     "output_type": "execute_result"
    }
   ],
   "source": [
    "nb_features"
   ]
  },
  {
   "cell_type": "code",
   "execution_count": 111,
   "metadata": {
    "scrolled": true
   },
   "outputs": [
    {
     "data": {
      "text/plain": [
       "array([0.4886466 , 2.09746667, 2.09746667])"
      ]
     },
     "execution_count": 111,
     "metadata": {},
     "output_type": "execute_result"
    }
   ],
   "source": [
    "cls_wt= class_weight.compute_class_weight('balanced',np.unique(y_train), y_train)\n",
    "cls_wt"
   ]
  },
  {
   "cell_type": "markdown",
   "metadata": {},
   "source": [
    "### Model"
   ]
  },
  {
   "cell_type": "code",
   "execution_count": 112,
   "metadata": {},
   "outputs": [
    {
     "name": "stdout",
     "output_type": "stream",
     "text": [
      "_________________________________________________________________\n",
      "Layer (type)                 Output Shape              Param #   \n",
      "=================================================================\n",
      "simple_rnn_14 (SimpleRNN)    (None, 16)                512       \n",
      "_________________________________________________________________\n",
      "dense_18 (Dense)             (None, 8)                 136       \n",
      "_________________________________________________________________\n",
      "dense_19 (Dense)             (None, 3)                 27        \n",
      "=================================================================\n",
      "Total params: 675\n",
      "Trainable params: 675\n",
      "Non-trainable params: 0\n",
      "_________________________________________________________________\n"
     ]
    }
   ],
   "source": [
    "history2 = History()\n",
    "\n",
    "model2 = Sequential()\n",
    "model2.add(SimpleRNN(16, input_shape=(sequence_length, nb_features),\n",
    "                    activation = 'relu'))\n",
    "model2.add(Dense(8, activation = 'relu'))\n",
    "model2.add(Dense(units=3, activation='softmax'))\n",
    "\n",
    "model2.compile(loss=\"categorical_crossentropy\", optimizer=\"adam\", metrics=['accuracy'])\n",
    "\n",
    "model2.summary()"
   ]
  },
  {
   "cell_type": "code",
   "execution_count": 113,
   "metadata": {
    "scrolled": true
   },
   "outputs": [
    {
     "name": "stdout",
     "output_type": "stream",
     "text": [
      "Train on 12584 samples, validate on 3147 samples\n",
      "Epoch 1/10\n",
      "12584/12584 [==============================] - 6s 441us/step - loss: 0.5184 - acc: 0.8041 - val_loss: 0.3455 - val_acc: 0.8494\n",
      "Epoch 2/10\n",
      "12584/12584 [==============================] - 3s 239us/step - loss: 0.3096 - acc: 0.8685 - val_loss: 0.2812 - val_acc: 0.8837\n",
      "Epoch 3/10\n",
      "12584/12584 [==============================] - 2s 195us/step - loss: 0.2234 - acc: 0.9078 - val_loss: 0.1940 - val_acc: 0.9171\n",
      "Epoch 4/10\n",
      "12584/12584 [==============================] - 3s 218us/step - loss: 0.1838 - acc: 0.9225 - val_loss: 0.1748 - val_acc: 0.9304\n",
      "Epoch 5/10\n",
      "12584/12584 [==============================] - 2s 188us/step - loss: 0.1689 - acc: 0.9282 - val_loss: 0.1633 - val_acc: 0.9355\n",
      "Epoch 6/10\n",
      "12584/12584 [==============================] - 3s 210us/step - loss: 0.1668 - acc: 0.9270 - val_loss: 0.1803 - val_acc: 0.9218\n",
      "Epoch 7/10\n",
      "12584/12584 [==============================] - 3s 250us/step - loss: 0.1588 - acc: 0.9296 - val_loss: 0.1747 - val_acc: 0.9304\n",
      "Epoch 8/10\n",
      "12584/12584 [==============================] - 3s 246us/step - loss: 0.1587 - acc: 0.9332 - val_loss: 0.1874 - val_acc: 0.9282\n",
      "Wall time: 25.8 s\n"
     ]
    },
    {
     "data": {
      "text/plain": [
       "<keras.callbacks.History at 0x27786ca11d0>"
      ]
     },
     "execution_count": 113,
     "metadata": {},
     "output_type": "execute_result"
    }
   ],
   "source": [
    "%%time\n",
    "# fit the model\n",
    "model2.fit(x_train, y_train2, epochs=10, batch_size=64, validation_split=0.2, verbose=1, class_weight = cls_wt,\n",
    "          callbacks = [history2,\n",
    "                      keras.callbacks.EarlyStopping(monitor='val_loss', min_delta=0, patience=3, verbose=0, mode='auto')])"
   ]
  },
  {
   "cell_type": "code",
   "execution_count": 114,
   "metadata": {},
   "outputs": [
    {
     "data": {
      "text/plain": [
       "Text(0.5, 1.0, 'Loss')"
      ]
     },
     "execution_count": 114,
     "metadata": {},
     "output_type": "execute_result"
    },
    {
     "data": {
      "image/png": "[encoded data removed]",
      "text/plain": [
       "<Figure size 1000x400 with 2 Axes>"
      ]
     },
     "metadata": {},
     "output_type": "display_data"
    }
   ],
   "source": [
    "fig, ax = plt.subplots(nrows = 1, ncols = 2, figsize = (10, 4))\n",
    "\n",
    "# Accuracy\n",
    "ax[0].plot(history2.history['acc'])\n",
    "ax[0].plot(history2.history['val_acc'])\n",
    "ax[0].set_ylabel('Accuracy')\n",
    "ax[0].set_xlabel('# Epoch')\n",
    "ax[0].legend(['train', 'validation'], loc='upper left')\n",
    "ax[0].set_title('Accuracy')\n",
    "\n",
    "# Loss\n",
    "ax[1].plot(history2.history['loss'])\n",
    "ax[1].plot(history2.history['val_loss'])\n",
    "ax[1].set_ylabel('Loss')\n",
    "ax[1].set_xlabel('# Epoch')\n",
    "ax[1].legend(['train', 'validation'], loc='upper left')\n",
    "ax[1].set_title('Loss')"
   ]
  },
  {
   "cell_type": "code",
   "execution_count": 115,
   "metadata": {},
   "outputs": [
    {
     "name": "stdout",
     "output_type": "stream",
     "text": [
      "F1 Score:  0.8692412850307587\n",
      "              precision    recall  f1-score   support\n",
      "\n",
      "           0       0.99      0.99      0.99        70\n",
      "           1       0.73      0.73      0.73        11\n",
      "           2       0.89      0.89      0.89        19\n",
      "\n",
      "    accuracy                           0.94       100\n",
      "   macro avg       0.87      0.87      0.87       100\n",
      "weighted avg       0.94      0.94      0.94       100\n",
      "\n"
     ]
    },
    {
     "data": {
      "image/png": "[encoded data removed]",
      "text/plain": [
       "<Figure size 1200x1200 with 2 Axes>"
      ]
     },
     "metadata": {},
     "output_type": "display_data"
    }
   ],
   "source": [
    "y_pred = model2.predict_classes(x_test)\n",
    "\n",
    "print_results(y_true.failure_lbl_2, y_pred, multi_class=True)"
   ]
  },
  {
   "cell_type": "code",
   "execution_count": 116,
   "metadata": {},
   "outputs": [
    {
     "data": {
      "text/plain": [
       "array([[10623,   108,     0],\n",
       "       [  602,  1655,   243],\n",
       "       [    0,   146,  2354]], dtype=int64)"
      ]
     },
     "execution_count": 116,
     "metadata": {},
     "output_type": "execute_result"
    }
   ],
   "source": [
    "confusion_matrix(y_train, model2.predict_classes(x_train))"
   ]
  },
  {
   "cell_type": "code",
   "execution_count": null,
   "metadata": {},
   "outputs": [],
   "source": []
  }
 ],
 "metadata": {
  "kernelspec": {
   "display_name": "Python 3",
   "language": "python",
   "name": "python3"
  },
  "language_info": {
   "codemirror_mode": {
    "name": "ipython",
    "version": 3
   },
   "file_extension": ".py",
   "mimetype": "text/x-python",
   "name": "python",
   "nbconvert_exporter": "python",
   "pygments_lexer": "ipython3",
   "version": "3.7.3"
  }
 },
 "nbformat": 4,
 "nbformat_minor": 2
}
