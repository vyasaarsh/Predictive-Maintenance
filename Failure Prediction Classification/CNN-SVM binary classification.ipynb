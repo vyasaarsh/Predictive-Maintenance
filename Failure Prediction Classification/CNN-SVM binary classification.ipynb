{
 "cells": [
  {
   "cell_type": "markdown",
   "metadata": {},
   "source": [
    "## CNN-SVM"
   ]
  },
  {
   "cell_type": "markdown",
   "metadata": {},
   "source": [
    "CNN is very good for feature extraction but not very good for classification. SVM is the state of the art algorithm for binary classification. Combining both of them achieves best of both worlds.  "
   ]
  },
  {
   "cell_type": "markdown",
   "metadata": {},
   "source": [
    "There are two ways of implementing CNN-SVM.\n",
    "\n",
    "(1) The hinge loss with regularization term forms the complete SVM loss function which gives CNN_SVM implementation.\n",
    "\n",
    "(2) Train the CNN model as usual and build SVM model using the output of second last layer of CNN model as an input. "
   ]
  },
  {
   "cell_type": "markdown",
   "metadata": {},
   "source": [
    "### Importing Required Libraries and Data"
   ]
  },
  {
   "cell_type": "code",
   "execution_count": 62,
   "metadata": {},
   "outputs": [],
   "source": [
    "import pandas as pd\n",
    "import numpy as np\n",
    "\n",
    "#to plot the data\n",
    "import matplotlib.pyplot as plt\n",
    "import seaborn as sns\n",
    "%matplotlib inline\n",
    "import matplotlib as mpl\n",
    "mpl.rcParams.update(mpl.rcParamsDefault)\n",
    "\n",
    "import time\n",
    "import os\n",
    "os.chdir(\"C:/Data/aircraft/\")\n",
    "\n",
    "from sklearn.preprocessing import MinMaxScaler #to normalize data\n",
    "from sklearn.metrics import classification_report, confusion_matrix, roc_curve\n",
    "from sklearn.metrics import f1_score, roc_auc_score, accuracy_score, precision_score, recall_score\n",
    "from sklearn.svm import SVC\n",
    "\n",
    "#for deep learning\n",
    "import keras\n",
    "import keras.backend as k\n",
    "from keras.models import Sequential, Model\n",
    "from keras.layers import Dense, LSTM, Activation, Masking, Dropout, Conv1D, GlobalAveragePooling1D, MaxPooling1D\n",
    "from keras.optimizers import RMSprop,adam\n",
    "from keras.regularizers import l2\n",
    "from keras.callbacks import History\n",
    "from keras import callbacks"
   ]
  },
  {
   "cell_type": "code",
   "execution_count": 2,
   "metadata": {},
   "outputs": [],
   "source": [
    "def prepare_data(drop_cols = True):\n",
    "    dependent_var = ['RUL']\n",
    "    index_columns_names =  [\"UnitNumber\",\"Cycle\"]\n",
    "    operational_settings_columns_names = [\"OpSet\"+str(i) for i in range(1,4)]\n",
    "    sensor_measure_columns_names =[\"SensorMeasure\"+str(i) for i in range(1,22)]\n",
    "    input_file_column_names = index_columns_names + operational_settings_columns_names + sensor_measure_columns_names\n",
    "\n",
    "    cols_to_drop = ['OpSet3', 'SensorMeasure1', 'SensorMeasure5', 'SensorMeasure6', 'SensorMeasure10', 'SensorMeasure14',\n",
    "     'SensorMeasure16', 'SensorMeasure18', 'SensorMeasure19']\n",
    "\n",
    "    df_train = pd.read_csv('train_FD001.txt',delim_whitespace=True,names=input_file_column_names)\n",
    "\n",
    "    rul = pd.DataFrame(df_train.groupby('UnitNumber')['Cycle'].max()).reset_index()\n",
    "    rul.columns = ['UnitNumber', 'max']\n",
    "    df_train = df_train.merge(rul, on=['UnitNumber'], how='left')\n",
    "    df_train['RUL'] = df_train['max'] - df_train['Cycle']\n",
    "    df_train.drop('max', axis=1, inplace=True)\n",
    "\n",
    "    df_test = pd.read_csv('test_FD001.txt', delim_whitespace=True, names=input_file_column_names)\n",
    "    \n",
    "    if(drop_cols == True):\n",
    "        df_train = df_train.drop(cols_to_drop, axis = 1)\n",
    "        df_test = df_test.drop(cols_to_drop, axis = 1)\n",
    "\n",
    "    y_true = pd.read_csv('RUL_FD001.txt', delim_whitespace=True,names=[\"RUL\"])\n",
    "    y_true[\"UnitNumber\"] = y_true.index + 1\n",
    "    \n",
    "    return df_train, df_test, y_true"
   ]
  },
  {
   "cell_type": "code",
   "execution_count": 3,
   "metadata": {},
   "outputs": [
    {
     "data": {
      "text/plain": [
       "((20631, 18), (13096, 17), (100, 2))"
      ]
     },
     "execution_count": 3,
     "metadata": {},
     "output_type": "execute_result"
    }
   ],
   "source": [
    "df_train, df_test, y_true = prepare_data(drop_cols=True)\n",
    "df_train.shape, df_test.shape, y_true.shape"
   ]
  },
  {
   "cell_type": "code",
   "execution_count": 4,
   "metadata": {},
   "outputs": [],
   "source": [
    "feats = df_train.columns.drop(['UnitNumber', 'Cycle', 'RUL'])"
   ]
  },
  {
   "cell_type": "code",
   "execution_count": 5,
   "metadata": {},
   "outputs": [],
   "source": [
    "min_max_scaler = MinMaxScaler(feature_range=(-1,1))\n",
    "\n",
    "df_train[feats] = min_max_scaler.fit_transform(df_train[feats])\n",
    "df_test[feats] = min_max_scaler.transform(df_test[feats])"
   ]
  },
  {
   "cell_type": "code",
   "execution_count": 6,
   "metadata": {},
   "outputs": [],
   "source": [
    "df_train['failure'] = [1 if i < 50 else 0 for i in df_train.RUL]\n",
    "y_true['failure'] = [1 if i < 50 else 0 for i in y_true.RUL]"
   ]
  },
  {
   "cell_type": "code",
   "execution_count": 7,
   "metadata": {
    "scrolled": true
   },
   "outputs": [
    {
     "data": {
      "text/html": [
       "<div>\n",
       "<style scoped>\n",
       "    .dataframe tbody tr th:only-of-type {\n",
       "        vertical-align: middle;\n",
       "    }\n",
       "\n",
       "    .dataframe tbody tr th {\n",
       "        vertical-align: top;\n",
       "    }\n",
       "\n",
       "    .dataframe thead th {\n",
       "        text-align: right;\n",
       "    }\n",
       "</style>\n",
       "<table border=\"1\" class=\"dataframe\">\n",
       "  <thead>\n",
       "    <tr style=\"text-align: right;\">\n",
       "      <th></th>\n",
       "      <th>UnitNumber</th>\n",
       "      <th>Cycle</th>\n",
       "      <th>OpSet1</th>\n",
       "      <th>OpSet2</th>\n",
       "      <th>SensorMeasure2</th>\n",
       "      <th>SensorMeasure3</th>\n",
       "      <th>SensorMeasure4</th>\n",
       "      <th>SensorMeasure7</th>\n",
       "      <th>SensorMeasure8</th>\n",
       "      <th>SensorMeasure9</th>\n",
       "      <th>SensorMeasure11</th>\n",
       "      <th>SensorMeasure12</th>\n",
       "      <th>SensorMeasure13</th>\n",
       "      <th>SensorMeasure15</th>\n",
       "      <th>SensorMeasure17</th>\n",
       "      <th>SensorMeasure20</th>\n",
       "      <th>SensorMeasure21</th>\n",
       "      <th>RUL</th>\n",
       "      <th>failure</th>\n",
       "    </tr>\n",
       "  </thead>\n",
       "  <tbody>\n",
       "    <tr>\n",
       "      <th>0</th>\n",
       "      <td>1</td>\n",
       "      <td>1</td>\n",
       "      <td>-0.080460</td>\n",
       "      <td>-0.666667</td>\n",
       "      <td>-0.632530</td>\n",
       "      <td>-0.186396</td>\n",
       "      <td>-0.380486</td>\n",
       "      <td>0.452496</td>\n",
       "      <td>-0.515152</td>\n",
       "      <td>-0.780490</td>\n",
       "      <td>-0.261905</td>\n",
       "      <td>0.266525</td>\n",
       "      <td>-0.588235</td>\n",
       "      <td>-0.272028</td>\n",
       "      <td>-0.333333</td>\n",
       "      <td>0.426357</td>\n",
       "      <td>0.449323</td>\n",
       "      <td>191</td>\n",
       "      <td>0</td>\n",
       "    </tr>\n",
       "    <tr>\n",
       "      <th>1</th>\n",
       "      <td>1</td>\n",
       "      <td>2</td>\n",
       "      <td>0.218391</td>\n",
       "      <td>-0.500000</td>\n",
       "      <td>-0.433735</td>\n",
       "      <td>-0.093961</td>\n",
       "      <td>-0.294733</td>\n",
       "      <td>0.256039</td>\n",
       "      <td>-0.575758</td>\n",
       "      <td>-0.799515</td>\n",
       "      <td>-0.238095</td>\n",
       "      <td>0.530917</td>\n",
       "      <td>-0.441176</td>\n",
       "      <td>-0.177376</td>\n",
       "      <td>-0.333333</td>\n",
       "      <td>0.333333</td>\n",
       "      <td>0.462027</td>\n",
       "      <td>190</td>\n",
       "      <td>0</td>\n",
       "    </tr>\n",
       "    <tr>\n",
       "      <th>2</th>\n",
       "      <td>1</td>\n",
       "      <td>3</td>\n",
       "      <td>-0.494253</td>\n",
       "      <td>0.500000</td>\n",
       "      <td>-0.313253</td>\n",
       "      <td>-0.260955</td>\n",
       "      <td>-0.258947</td>\n",
       "      <td>0.420290</td>\n",
       "      <td>-0.454545</td>\n",
       "      <td>-0.719914</td>\n",
       "      <td>-0.500000</td>\n",
       "      <td>0.590618</td>\n",
       "      <td>-0.558824</td>\n",
       "      <td>-0.285110</td>\n",
       "      <td>-0.666667</td>\n",
       "      <td>0.255814</td>\n",
       "      <td>0.242751</td>\n",
       "      <td>189</td>\n",
       "      <td>0</td>\n",
       "    </tr>\n",
       "    <tr>\n",
       "      <th>3</th>\n",
       "      <td>1</td>\n",
       "      <td>4</td>\n",
       "      <td>0.080460</td>\n",
       "      <td>0.000000</td>\n",
       "      <td>-0.313253</td>\n",
       "      <td>-0.487683</td>\n",
       "      <td>-0.337610</td>\n",
       "      <td>0.481481</td>\n",
       "      <td>-0.363636</td>\n",
       "      <td>-0.750965</td>\n",
       "      <td>-0.666667</td>\n",
       "      <td>0.778252</td>\n",
       "      <td>-0.411765</td>\n",
       "      <td>-0.666795</td>\n",
       "      <td>-0.333333</td>\n",
       "      <td>0.147287</td>\n",
       "      <td>0.324772</td>\n",
       "      <td>188</td>\n",
       "      <td>0</td>\n",
       "    </tr>\n",
       "    <tr>\n",
       "      <th>4</th>\n",
       "      <td>1</td>\n",
       "      <td>5</td>\n",
       "      <td>-0.218391</td>\n",
       "      <td>-0.333333</td>\n",
       "      <td>-0.301205</td>\n",
       "      <td>-0.485066</td>\n",
       "      <td>-0.190749</td>\n",
       "      <td>0.336554</td>\n",
       "      <td>-0.515152</td>\n",
       "      <td>-0.700081</td>\n",
       "      <td>-0.488095</td>\n",
       "      <td>0.492537</td>\n",
       "      <td>-0.529412</td>\n",
       "      <td>-0.195845</td>\n",
       "      <td>-0.166667</td>\n",
       "      <td>0.178295</td>\n",
       "      <td>0.409003</td>\n",
       "      <td>187</td>\n",
       "      <td>0</td>\n",
       "    </tr>\n",
       "  </tbody>\n",
       "</table>\n",
       "</div>"
      ],
      "text/plain": [
       "   UnitNumber  Cycle    OpSet1    OpSet2  SensorMeasure2  SensorMeasure3  \\\n",
       "0           1      1 -0.080460 -0.666667       -0.632530       -0.186396   \n",
       "1           1      2  0.218391 -0.500000       -0.433735       -0.093961   \n",
       "2           1      3 -0.494253  0.500000       -0.313253       -0.260955   \n",
       "3           1      4  0.080460  0.000000       -0.313253       -0.487683   \n",
       "4           1      5 -0.218391 -0.333333       -0.301205       -0.485066   \n",
       "\n",
       "   SensorMeasure4  SensorMeasure7  SensorMeasure8  SensorMeasure9  \\\n",
       "0       -0.380486        0.452496       -0.515152       -0.780490   \n",
       "1       -0.294733        0.256039       -0.575758       -0.799515   \n",
       "2       -0.258947        0.420290       -0.454545       -0.719914   \n",
       "3       -0.337610        0.481481       -0.363636       -0.750965   \n",
       "4       -0.190749        0.336554       -0.515152       -0.700081   \n",
       "\n",
       "   SensorMeasure11  SensorMeasure12  SensorMeasure13  SensorMeasure15  \\\n",
       "0        -0.261905         0.266525        -0.588235        -0.272028   \n",
       "1        -0.238095         0.530917        -0.441176        -0.177376   \n",
       "2        -0.500000         0.590618        -0.558824        -0.285110   \n",
       "3        -0.666667         0.778252        -0.411765        -0.666795   \n",
       "4        -0.488095         0.492537        -0.529412        -0.195845   \n",
       "\n",
       "   SensorMeasure17  SensorMeasure20  SensorMeasure21  RUL  failure  \n",
       "0        -0.333333         0.426357         0.449323  191        0  \n",
       "1        -0.333333         0.333333         0.462027  190        0  \n",
       "2        -0.666667         0.255814         0.242751  189        0  \n",
       "3        -0.333333         0.147287         0.324772  188        0  \n",
       "4        -0.166667         0.178295         0.409003  187        0  "
      ]
     },
     "execution_count": 7,
     "metadata": {},
     "output_type": "execute_result"
    }
   ],
   "source": [
    "df_train.head()"
   ]
  },
  {
   "cell_type": "code",
   "execution_count": 8,
   "metadata": {},
   "outputs": [
    {
     "data": {
      "text/html": [
       "<div>\n",
       "<style scoped>\n",
       "    .dataframe tbody tr th:only-of-type {\n",
       "        vertical-align: middle;\n",
       "    }\n",
       "\n",
       "    .dataframe tbody tr th {\n",
       "        vertical-align: top;\n",
       "    }\n",
       "\n",
       "    .dataframe thead th {\n",
       "        text-align: right;\n",
       "    }\n",
       "</style>\n",
       "<table border=\"1\" class=\"dataframe\">\n",
       "  <thead>\n",
       "    <tr style=\"text-align: right;\">\n",
       "      <th></th>\n",
       "      <th>UnitNumber</th>\n",
       "      <th>Cycle</th>\n",
       "      <th>OpSet1</th>\n",
       "      <th>OpSet2</th>\n",
       "      <th>SensorMeasure2</th>\n",
       "      <th>SensorMeasure3</th>\n",
       "      <th>SensorMeasure4</th>\n",
       "      <th>SensorMeasure7</th>\n",
       "      <th>SensorMeasure8</th>\n",
       "      <th>SensorMeasure9</th>\n",
       "      <th>SensorMeasure11</th>\n",
       "      <th>SensorMeasure12</th>\n",
       "      <th>SensorMeasure13</th>\n",
       "      <th>SensorMeasure15</th>\n",
       "      <th>SensorMeasure17</th>\n",
       "      <th>SensorMeasure20</th>\n",
       "      <th>SensorMeasure21</th>\n",
       "    </tr>\n",
       "  </thead>\n",
       "  <tbody>\n",
       "    <tr>\n",
       "      <th>0</th>\n",
       "      <td>1</td>\n",
       "      <td>1</td>\n",
       "      <td>0.264368</td>\n",
       "      <td>0.500000</td>\n",
       "      <td>0.090361</td>\n",
       "      <td>-0.378679</td>\n",
       "      <td>-0.461175</td>\n",
       "      <td>0.304348</td>\n",
       "      <td>-0.575758</td>\n",
       "      <td>-0.744773</td>\n",
       "      <td>-0.583333</td>\n",
       "      <td>0.292111</td>\n",
       "      <td>-0.558824</td>\n",
       "      <td>-0.382070</td>\n",
       "      <td>-0.333333</td>\n",
       "      <td>0.116279</td>\n",
       "      <td>0.323667</td>\n",
       "    </tr>\n",
       "    <tr>\n",
       "      <th>1</th>\n",
       "      <td>1</td>\n",
       "      <td>2</td>\n",
       "      <td>-0.310345</td>\n",
       "      <td>-0.500000</td>\n",
       "      <td>-0.698795</td>\n",
       "      <td>-0.240898</td>\n",
       "      <td>-0.555368</td>\n",
       "      <td>0.610306</td>\n",
       "      <td>-0.666667</td>\n",
       "      <td>-0.706632</td>\n",
       "      <td>-0.226190</td>\n",
       "      <td>0.479744</td>\n",
       "      <td>-0.470588</td>\n",
       "      <td>-0.573682</td>\n",
       "      <td>-0.166667</td>\n",
       "      <td>0.364341</td>\n",
       "      <td>0.373654</td>\n",
       "    </tr>\n",
       "    <tr>\n",
       "      <th>2</th>\n",
       "      <td>1</td>\n",
       "      <td>3</td>\n",
       "      <td>0.034483</td>\n",
       "      <td>0.166667</td>\n",
       "      <td>-0.246988</td>\n",
       "      <td>-0.306736</td>\n",
       "      <td>-0.355503</td>\n",
       "      <td>0.371981</td>\n",
       "      <td>-0.545455</td>\n",
       "      <td>-0.683837</td>\n",
       "      <td>-0.226190</td>\n",
       "      <td>0.398721</td>\n",
       "      <td>-0.558824</td>\n",
       "      <td>-0.082724</td>\n",
       "      <td>-0.166667</td>\n",
       "      <td>0.457364</td>\n",
       "      <td>0.442695</td>\n",
       "    </tr>\n",
       "    <tr>\n",
       "      <th>3</th>\n",
       "      <td>1</td>\n",
       "      <td>4</td>\n",
       "      <td>0.482759</td>\n",
       "      <td>0.000000</td>\n",
       "      <td>-0.259036</td>\n",
       "      <td>-0.429693</td>\n",
       "      <td>-0.183997</td>\n",
       "      <td>0.359098</td>\n",
       "      <td>-0.606061</td>\n",
       "      <td>-0.788567</td>\n",
       "      <td>-0.488095</td>\n",
       "      <td>0.147122</td>\n",
       "      <td>-0.500000</td>\n",
       "      <td>-0.485956</td>\n",
       "      <td>-0.500000</td>\n",
       "      <td>0.333333</td>\n",
       "      <td>0.324220</td>\n",
       "    </tr>\n",
       "    <tr>\n",
       "      <th>4</th>\n",
       "      <td>1</td>\n",
       "      <td>5</td>\n",
       "      <td>0.160920</td>\n",
       "      <td>0.000000</td>\n",
       "      <td>-0.216867</td>\n",
       "      <td>-0.295836</td>\n",
       "      <td>-0.335922</td>\n",
       "      <td>0.388084</td>\n",
       "      <td>-0.666667</td>\n",
       "      <td>-0.795208</td>\n",
       "      <td>-0.452381</td>\n",
       "      <td>0.475480</td>\n",
       "      <td>-0.558824</td>\n",
       "      <td>-0.398230</td>\n",
       "      <td>-0.666667</td>\n",
       "      <td>0.317829</td>\n",
       "      <td>0.432753</td>\n",
       "    </tr>\n",
       "  </tbody>\n",
       "</table>\n",
       "</div>"
      ],
      "text/plain": [
       "   UnitNumber  Cycle    OpSet1    OpSet2  SensorMeasure2  SensorMeasure3  \\\n",
       "0           1      1  0.264368  0.500000        0.090361       -0.378679   \n",
       "1           1      2 -0.310345 -0.500000       -0.698795       -0.240898   \n",
       "2           1      3  0.034483  0.166667       -0.246988       -0.306736   \n",
       "3           1      4  0.482759  0.000000       -0.259036       -0.429693   \n",
       "4           1      5  0.160920  0.000000       -0.216867       -0.295836   \n",
       "\n",
       "   SensorMeasure4  SensorMeasure7  SensorMeasure8  SensorMeasure9  \\\n",
       "0       -0.461175        0.304348       -0.575758       -0.744773   \n",
       "1       -0.555368        0.610306       -0.666667       -0.706632   \n",
       "2       -0.355503        0.371981       -0.545455       -0.683837   \n",
       "3       -0.183997        0.359098       -0.606061       -0.788567   \n",
       "4       -0.335922        0.388084       -0.666667       -0.795208   \n",
       "\n",
       "   SensorMeasure11  SensorMeasure12  SensorMeasure13  SensorMeasure15  \\\n",
       "0        -0.583333         0.292111        -0.558824        -0.382070   \n",
       "1        -0.226190         0.479744        -0.470588        -0.573682   \n",
       "2        -0.226190         0.398721        -0.558824        -0.082724   \n",
       "3        -0.488095         0.147122        -0.500000        -0.485956   \n",
       "4        -0.452381         0.475480        -0.558824        -0.398230   \n",
       "\n",
       "   SensorMeasure17  SensorMeasure20  SensorMeasure21  \n",
       "0        -0.333333         0.116279         0.323667  \n",
       "1        -0.166667         0.364341         0.373654  \n",
       "2        -0.166667         0.457364         0.442695  \n",
       "3        -0.500000         0.333333         0.324220  \n",
       "4        -0.666667         0.317829         0.432753  "
      ]
     },
     "execution_count": 8,
     "metadata": {},
     "output_type": "execute_result"
    }
   ],
   "source": [
    "df_test.head()"
   ]
  },
  {
   "cell_type": "code",
   "execution_count": 9,
   "metadata": {},
   "outputs": [
    {
     "data": {
      "text/html": [
       "<div>\n",
       "<style scoped>\n",
       "    .dataframe tbody tr th:only-of-type {\n",
       "        vertical-align: middle;\n",
       "    }\n",
       "\n",
       "    .dataframe tbody tr th {\n",
       "        vertical-align: top;\n",
       "    }\n",
       "\n",
       "    .dataframe thead th {\n",
       "        text-align: right;\n",
       "    }\n",
       "</style>\n",
       "<table border=\"1\" class=\"dataframe\">\n",
       "  <thead>\n",
       "    <tr style=\"text-align: right;\">\n",
       "      <th></th>\n",
       "      <th>RUL</th>\n",
       "      <th>UnitNumber</th>\n",
       "      <th>failure</th>\n",
       "    </tr>\n",
       "  </thead>\n",
       "  <tbody>\n",
       "    <tr>\n",
       "      <th>0</th>\n",
       "      <td>112</td>\n",
       "      <td>1</td>\n",
       "      <td>0</td>\n",
       "    </tr>\n",
       "    <tr>\n",
       "      <th>1</th>\n",
       "      <td>98</td>\n",
       "      <td>2</td>\n",
       "      <td>0</td>\n",
       "    </tr>\n",
       "    <tr>\n",
       "      <th>2</th>\n",
       "      <td>69</td>\n",
       "      <td>3</td>\n",
       "      <td>0</td>\n",
       "    </tr>\n",
       "    <tr>\n",
       "      <th>3</th>\n",
       "      <td>82</td>\n",
       "      <td>4</td>\n",
       "      <td>0</td>\n",
       "    </tr>\n",
       "    <tr>\n",
       "      <th>4</th>\n",
       "      <td>91</td>\n",
       "      <td>5</td>\n",
       "      <td>0</td>\n",
       "    </tr>\n",
       "  </tbody>\n",
       "</table>\n",
       "</div>"
      ],
      "text/plain": [
       "   RUL  UnitNumber  failure\n",
       "0  112           1        0\n",
       "1   98           2        0\n",
       "2   69           3        0\n",
       "3   82           4        0\n",
       "4   91           5        0"
      ]
     },
     "execution_count": 9,
     "metadata": {},
     "output_type": "execute_result"
    }
   ],
   "source": [
    "y_true.head()"
   ]
  },
  {
   "cell_type": "markdown",
   "metadata": {},
   "source": [
    "\n",
    "LSTM expects an input in the shape of a numpy array of 3 dimensions and I will need to convert train and test data accordingly."
   ]
  },
  {
   "cell_type": "code",
   "execution_count": 10,
   "metadata": {},
   "outputs": [],
   "source": [
    "def gen_train(id_df, seq_length, seq_cols):\n",
    "    \"\"\"\n",
    "        function to prepare train data into (samples, time steps, features)\n",
    "        id_df = train dataframe\n",
    "        seq_length = look back period\n",
    "        seq_cols = feature columns\n",
    "    \"\"\"\n",
    "        \n",
    "    data_array = id_df[seq_cols].values\n",
    "    num_elements = data_array.shape[0]\n",
    "    lstm_array=[]\n",
    "    \n",
    "    for start, stop in zip(range(0, num_elements-seq_length+1), range(seq_length, num_elements+1)):\n",
    "        lstm_array.append(data_array[start:stop, :])\n",
    "    \n",
    "    return np.array(lstm_array)"
   ]
  },
  {
   "cell_type": "code",
   "execution_count": 11,
   "metadata": {},
   "outputs": [],
   "source": [
    "def gen_target(id_df, seq_length, label):\n",
    "    data_array = id_df[label].values\n",
    "    num_elements = data_array.shape[0]\n",
    "    return data_array[seq_length-1:num_elements+1]"
   ]
  },
  {
   "cell_type": "code",
   "execution_count": 12,
   "metadata": {},
   "outputs": [],
   "source": [
    "def gen_test(id_df, seq_length, seq_cols, mask_value):\n",
    "    \"\"\"\n",
    "        function to prepare test data into (samples, time steps, features)\n",
    "        function only returns last sequence of data for every unit\n",
    "        id_df = test dataframe\n",
    "        seq_length = look back period\n",
    "        seq_cols = feature columns\n",
    "    \"\"\"\n",
    "    df_mask = pd.DataFrame(np.zeros((seq_length-1,id_df.shape[1])),columns=id_df.columns)\n",
    "    df_mask[:] = mask_value\n",
    "    \n",
    "    id_df = df_mask.append(id_df,ignore_index=True)\n",
    "    \n",
    "    data_array = id_df[seq_cols].values\n",
    "    num_elements = data_array.shape[0]\n",
    "    lstm_array=[]\n",
    "    \n",
    "    start = num_elements-seq_length\n",
    "    stop = num_elements\n",
    "    \n",
    "    lstm_array.append(data_array[start:stop, :])\n",
    "    \n",
    "    return np.array(lstm_array)"
   ]
  },
  {
   "cell_type": "markdown",
   "metadata": {},
   "source": [
    "\n",
    "Let's define look back period and mask_value"
   ]
  },
  {
   "cell_type": "code",
   "execution_count": 13,
   "metadata": {},
   "outputs": [],
   "source": [
    "sequence_length = 50 #predicting using last 30 cycle values\n",
    "mask_value = 0"
   ]
  },
  {
   "cell_type": "markdown",
   "metadata": {},
   "source": [
    "\n",
    "Let's prepare data using above functions."
   ]
  },
  {
   "cell_type": "code",
   "execution_count": 14,
   "metadata": {},
   "outputs": [
    {
     "name": "stdout",
     "output_type": "stream",
     "text": [
      "(15731, 50, 15)\n"
     ]
    }
   ],
   "source": [
    "#generate train\n",
    "x_train=np.concatenate(list(list(gen_train(df_train[df_train['UnitNumber']==unit], sequence_length, feats)) for unit in df_train['UnitNumber'].unique()))\n",
    "print(x_train.shape)"
   ]
  },
  {
   "cell_type": "code",
   "execution_count": 15,
   "metadata": {
    "scrolled": true
   },
   "outputs": [
    {
     "data": {
      "text/plain": [
       "(15731,)"
      ]
     },
     "execution_count": 15,
     "metadata": {},
     "output_type": "execute_result"
    }
   ],
   "source": [
    "#generate target of train\n",
    "y_train = np.concatenate(list(list(gen_target(df_train[df_train['UnitNumber']==unit], sequence_length, \"failure\")) for unit in df_train['UnitNumber'].unique()))\n",
    "y_train.shape"
   ]
  },
  {
   "cell_type": "code",
   "execution_count": 16,
   "metadata": {},
   "outputs": [
    {
     "name": "stdout",
     "output_type": "stream",
     "text": [
      "(100, 50, 15)\n"
     ]
    }
   ],
   "source": [
    "#generate test\n",
    "x_test=np.concatenate(list(list(gen_test(df_test[df_test['UnitNumber']==unit], sequence_length, feats, mask_value)) for unit in df_test['UnitNumber'].unique()))\n",
    "print(x_test.shape)"
   ]
  },
  {
   "cell_type": "code",
   "execution_count": 17,
   "metadata": {},
   "outputs": [
    {
     "data": {
      "text/plain": [
       "(100,)"
      ]
     },
     "execution_count": 17,
     "metadata": {},
     "output_type": "execute_result"
    }
   ],
   "source": [
    "#true target of test \n",
    "y_test = y_true.RUL.values\n",
    "y_test.shape"
   ]
  },
  {
   "cell_type": "code",
   "execution_count": 18,
   "metadata": {},
   "outputs": [],
   "source": [
    "nb_features = x_train.shape[2]\n",
    "nb_out = 1"
   ]
  },
  {
   "cell_type": "code",
   "execution_count": 19,
   "metadata": {},
   "outputs": [
    {
     "data": {
      "text/plain": [
       "15"
      ]
     },
     "execution_count": 19,
     "metadata": {},
     "output_type": "execute_result"
    }
   ],
   "source": [
    "nb_features"
   ]
  },
  {
   "cell_type": "code",
   "execution_count": 20,
   "metadata": {},
   "outputs": [],
   "source": [
    "class_0 = pd.Series(y_train).value_counts()[0]\n",
    "class_1 = pd.Series(y_train).value_counts()[1]\n",
    "total = class_0 + class_1\n",
    "\n",
    "cls_wt = {0: class_1/total, 1: class_0/total}"
   ]
  },
  {
   "cell_type": "code",
   "execution_count": 21,
   "metadata": {},
   "outputs": [
    {
     "data": {
      "text/plain": [
       "{0: 0.3178437480134766, 1: 0.6821562519865234}"
      ]
     },
     "execution_count": 21,
     "metadata": {},
     "output_type": "execute_result"
    }
   ],
   "source": [
    "cls_wt"
   ]
  },
  {
   "cell_type": "markdown",
   "metadata": {},
   "source": [
    "### Function to Print results"
   ]
  },
  {
   "cell_type": "code",
   "execution_count": 22,
   "metadata": {},
   "outputs": [],
   "source": [
    "def print_results(y_test, y_pred):\n",
    "    \n",
    "    #f1-score\n",
    "    f1 = f1_score(y_test, y_pred)\n",
    "    print(\"F1 Score: \", f1)\n",
    "    print(classification_report(y_true.failure, y_pred))\n",
    "    \n",
    "    conf_matrix = confusion_matrix(y_test, y_pred)\n",
    "    plt.figure(figsize=(12,12))\n",
    "    plt.subplot(221)\n",
    "    sns.heatmap(conf_matrix, fmt = \"d\",annot=True, cmap='Blues')\n",
    "    b, t = plt.ylim()\n",
    "    plt.ylim(b + 0.5, t - 0.5)\n",
    "    plt.title('Confuion Matrix')\n",
    "    plt.ylabel('True Values')\n",
    "    plt.xlabel('Predicted Values')\n",
    "\n",
    "    #roc_auc_score\n",
    "    model_roc_auc = roc_auc_score(y_test, y_pred) \n",
    "    print (\"Area under curve : \",model_roc_auc,\"\\n\")\n",
    "    fpr,tpr,thresholds = roc_curve(y_test, y_pred)\n",
    "    gmeans = np.sqrt(tpr * (1-fpr))\n",
    "    ix = np.argmax(gmeans)\n",
    "    threshold = np.round(thresholds[ix],3)\n",
    "\n",
    "    plt.subplot(222)\n",
    "    plt.plot(fpr, tpr, color='darkorange', lw=1, label = \"Auc : %.3f\" %model_roc_auc)\n",
    "    plt.plot([0, 1], [0, 1], color='navy', lw=2, linestyle='--')\n",
    "    plt.scatter(fpr[ix], tpr[ix], marker='o', color='black', label='Best Threshold:' + str(threshold))\n",
    "    plt.xlim([0.0, 1.0])\n",
    "    plt.ylim([0.0, 1.05])\n",
    "    plt.xlabel('False Positive Rate')\n",
    "    plt.ylabel('True Positive Rate')\n",
    "    plt.title('Receiver operating characteristic')\n",
    "    plt.legend(loc=\"lower right\")"
   ]
  },
  {
   "cell_type": "markdown",
   "metadata": {},
   "source": [
    "### Approach 1"
   ]
  },
  {
   "cell_type": "markdown",
   "metadata": {},
   "source": [
    "Converting labels in proper shape"
   ]
  },
  {
   "cell_type": "code",
   "execution_count": 112,
   "metadata": {},
   "outputs": [],
   "source": [
    "def get_one_hot(targets, classes):\n",
    "    res = np.eye(classes)[np.array(targets).reshape(-1)]\n",
    "    return res.reshape(list(targets.shape) + [classes])"
   ]
  },
  {
   "cell_type": "code",
   "execution_count": 113,
   "metadata": {},
   "outputs": [],
   "source": [
    "y_train_2 = get_one_hot(y_train, 2)\n",
    "y_test_2 = get_one_hot(y_true.failure,2)"
   ]
  },
  {
   "cell_type": "code",
   "execution_count": 105,
   "metadata": {},
   "outputs": [
    {
     "data": {
      "text/plain": [
       "array([[1., 0.],\n",
       "       [1., 0.],\n",
       "       [1., 0.],\n",
       "       ...,\n",
       "       [0., 1.],\n",
       "       [0., 1.],\n",
       "       [0., 1.]])"
      ]
     },
     "execution_count": 105,
     "metadata": {},
     "output_type": "execute_result"
    }
   ],
   "source": [
    "y_train_2"
   ]
  },
  {
   "cell_type": "code",
   "execution_count": 106,
   "metadata": {},
   "outputs": [
    {
     "data": {
      "text/plain": [
       "((15731, 2), (100, 2))"
      ]
     },
     "execution_count": 106,
     "metadata": {},
     "output_type": "execute_result"
    }
   ],
   "source": [
    "y_train_2.shape, y_test_2.shape"
   ]
  },
  {
   "cell_type": "code",
   "execution_count": 118,
   "metadata": {},
   "outputs": [
    {
     "name": "stdout",
     "output_type": "stream",
     "text": [
      "_________________________________________________________________\n",
      "Layer (type)                 Output Shape              Param #   \n",
      "=================================================================\n",
      "conv1d_73 (Conv1D)           (None, 48, 16)            736       \n",
      "_________________________________________________________________\n",
      "conv1d_74 (Conv1D)           (None, 46, 16)            784       \n",
      "_________________________________________________________________\n",
      "max_pooling1d_19 (MaxPooling (None, 15, 16)            0         \n",
      "_________________________________________________________________\n",
      "conv1d_75 (Conv1D)           (None, 13, 32)            1568      \n",
      "_________________________________________________________________\n",
      "conv1d_76 (Conv1D)           (None, 11, 32)            3104      \n",
      "_________________________________________________________________\n",
      "global_average_pooling1d_16  (None, 32)                0         \n",
      "_________________________________________________________________\n",
      "dropout_19 (Dropout)         (None, 32)                0         \n",
      "_________________________________________________________________\n",
      "dense_17 (Dense)             (None, 2)                 66        \n",
      "_________________________________________________________________\n",
      "activation_17 (Activation)   (None, 2)                 0         \n",
      "=================================================================\n",
      "Total params: 6,258\n",
      "Trainable params: 6,258\n",
      "Non-trainable params: 0\n",
      "_________________________________________________________________\n"
     ]
    }
   ],
   "source": [
    "history1 = History()\n",
    "\n",
    "model1 = Sequential()\n",
    "model1.add(Conv1D(16, 3, activation = 'relu', input_shape=(sequence_length, nb_features)))\n",
    "model1.add(Conv1D(16, 3, activation = 'relu'))\n",
    "model1.add(MaxPooling1D(3))\n",
    "model1.add(Conv1D(32, 3, activation = 'relu'))\n",
    "model1.add(Conv1D(32, 3, activation = 'relu'))\n",
    "model1.add(GlobalAveragePooling1D())\n",
    "model1.add(Dropout(0.5))\n",
    "model1.add(Dense(2, kernel_regularizer=l2(0.0001)))\n",
    "model1.add(Activation('softmax'))\n",
    "\n",
    "model1.compile(loss=\"hinge\", optimizer=\"adam\", metrics=['accuracy'])\n",
    "\n",
    "model1.summary()"
   ]
  },
  {
   "cell_type": "markdown",
   "metadata": {},
   "source": [
    "Fitting the model"
   ]
  },
  {
   "cell_type": "code",
   "execution_count": 119,
   "metadata": {
    "scrolled": true
   },
   "outputs": [
    {
     "name": "stdout",
     "output_type": "stream",
     "text": [
      "Train on 14157 samples, validate on 1574 samples\n",
      "Epoch 1/100\n",
      "14157/14157 [==============================] - 9s 641us/step - loss: 0.5925 - acc: 0.8239 - val_loss: 0.5584 - val_acc: 0.8869\n",
      "Epoch 2/100\n",
      "14157/14157 [==============================] - 5s 386us/step - loss: 0.5553 - acc: 0.8931 - val_loss: 0.5545 - val_acc: 0.8939\n",
      "Epoch 3/100\n",
      "14157/14157 [==============================] - 5s 350us/step - loss: 0.5504 - acc: 0.9026 - val_loss: 0.5548 - val_acc: 0.8920\n",
      "Epoch 4/100\n",
      "14157/14157 [==============================] - 5s 367us/step - loss: 0.5453 - acc: 0.9120 - val_loss: 0.5538 - val_acc: 0.8926\n",
      "Epoch 5/100\n",
      "14157/14157 [==============================] - 5s 329us/step - loss: 0.5444 - acc: 0.9143 - val_loss: 0.5556 - val_acc: 0.8907\n",
      "Epoch 6/100\n",
      "14157/14157 [==============================] - 5s 348us/step - loss: 0.5418 - acc: 0.9198 - val_loss: 0.5549 - val_acc: 0.8933\n",
      "Epoch 7/100\n",
      "14157/14157 [==============================] - 5s 350us/step - loss: 0.5390 - acc: 0.9246 - val_loss: 0.5557 - val_acc: 0.8920\n",
      "Epoch 8/100\n",
      "14157/14157 [==============================] - 5s 359us/step - loss: 0.5363 - acc: 0.9296 - val_loss: 0.5547 - val_acc: 0.8907\n",
      "Epoch 9/100\n",
      "14157/14157 [==============================] - 5s 330us/step - loss: 0.5336 - acc: 0.9367 - val_loss: 0.5480 - val_acc: 0.9053\n",
      "Epoch 10/100\n",
      "14157/14157 [==============================] - 5s 338us/step - loss: 0.5332 - acc: 0.9362 - val_loss: 0.5502 - val_acc: 0.9015- acc: 0.93\n",
      "Epoch 11/100\n",
      "14157/14157 [==============================] - 5s 369us/step - loss: 0.5311 - acc: 0.9406 - val_loss: 0.5455 - val_acc: 0.9117\n",
      "Epoch 12/100\n",
      "14157/14157 [==============================] - 6s 395us/step - loss: 0.5310 - acc: 0.9409 - val_loss: 0.5480 - val_acc: 0.9079\n",
      "Epoch 13/100\n",
      "14157/14157 [==============================] - 6s 442us/step - loss: 0.5292 - acc: 0.9438 - val_loss: 0.5482 - val_acc: 0.9047\n",
      "Epoch 14/100\n",
      "14157/14157 [==============================] - 5s 371us/step - loss: 0.5286 - acc: 0.9453 - val_loss: 0.5569 - val_acc: 0.8888\n",
      "Epoch 15/100\n",
      "14157/14157 [==============================] - 5s 378us/step - loss: 0.5271 - acc: 0.9484 - val_loss: 0.5559 - val_acc: 0.8914\n",
      "Epoch 16/100\n",
      "14157/14157 [==============================] - 6s 403us/step - loss: 0.5276 - acc: 0.9477 - val_loss: 0.5541 - val_acc: 0.8952\n",
      "Epoch 17/100\n",
      "14157/14157 [==============================] - 5s 381us/step - loss: 0.5274 - acc: 0.9485 - val_loss: 0.5402 - val_acc: 0.9225\n",
      "Epoch 18/100\n",
      "14157/14157 [==============================] - 6s 408us/step - loss: 0.5250 - acc: 0.9534 - val_loss: 0.5396 - val_acc: 0.9219\n",
      "Epoch 19/100\n",
      "14157/14157 [==============================] - 5s 368us/step - loss: 0.5248 - acc: 0.9533 - val_loss: 0.5463 - val_acc: 0.9091\n",
      "Epoch 20/100\n",
      "14157/14157 [==============================] - 6s 390us/step - loss: 0.5257 - acc: 0.9509 - val_loss: 0.5601 - val_acc: 0.8812\n",
      "Epoch 21/100\n",
      "14157/14157 [==============================] - 7s 471us/step - loss: 0.5237 - acc: 0.9551 - val_loss: 0.5409 - val_acc: 0.9212\n",
      "Epoch 22/100\n",
      "14157/14157 [==============================] - 6s 401us/step - loss: 0.5227 - acc: 0.9575 - val_loss: 0.5531 - val_acc: 0.8958 0.522\n",
      "Epoch 23/100\n",
      "14157/14157 [==============================] - 6s 392us/step - loss: 0.5230 - acc: 0.9568 - val_loss: 0.5439 - val_acc: 0.9149\n",
      "Epoch 24/100\n",
      "14157/14157 [==============================] - 7s 520us/step - loss: 0.5222 - acc: 0.9588 - val_loss: 0.5517 - val_acc: 0.8977\n",
      "Epoch 25/100\n",
      "14157/14157 [==============================] - 6s 409us/step - loss: 0.5228 - acc: 0.9578 - val_loss: 0.5454 - val_acc: 0.9104\n",
      "Epoch 26/100\n",
      "14157/14157 [==============================] - 7s 473us/step - loss: 0.5224 - acc: 0.9580 - val_loss: 0.5426 - val_acc: 0.9168\n",
      "Epoch 27/100\n",
      "14157/14157 [==============================] - 6s 404us/step - loss: 0.5210 - acc: 0.9604 - val_loss: 0.5393 - val_acc: 0.9231\n",
      "Epoch 28/100\n",
      "14157/14157 [==============================] - 5s 330us/step - loss: 0.5217 - acc: 0.9599 - val_loss: 0.5472 - val_acc: 0.9072\n",
      "Epoch 29/100\n",
      "14157/14157 [==============================] - 4s 291us/step - loss: 0.5215 - acc: 0.9596 - val_loss: 0.5481 - val_acc: 0.9053\n",
      "Epoch 30/100\n",
      "14157/14157 [==============================] - 5s 357us/step - loss: 0.5229 - acc: 0.9565 - val_loss: 0.5444 - val_acc: 0.9123\n",
      "Epoch 31/100\n",
      "14157/14157 [==============================] - 5s 371us/step - loss: 0.5210 - acc: 0.9609 - val_loss: 0.5489 - val_acc: 0.9034\n",
      "Epoch 32/100\n",
      "14157/14157 [==============================] - 6s 425us/step - loss: 0.5244 - acc: 0.9538 - val_loss: 0.5495 - val_acc: 0.9060\n",
      "Epoch 33/100\n",
      "14157/14157 [==============================] - 6s 426us/step - loss: 0.5182 - acc: 0.9660 - val_loss: 0.5432 - val_acc: 0.9161\n",
      "Epoch 34/100\n",
      "14157/14157 [==============================] - 6s 434us/step - loss: 0.5185 - acc: 0.9661 - val_loss: 0.5429 - val_acc: 0.9174\n",
      "Epoch 35/100\n",
      "14157/14157 [==============================] - 6s 457us/step - loss: 0.5192 - acc: 0.9637 - val_loss: 0.5390 - val_acc: 0.9231\n",
      "Epoch 36/100\n",
      "14157/14157 [==============================] - 5s 371us/step - loss: 0.5191 - acc: 0.9647 - val_loss: 0.5597 - val_acc: 0.8825\n",
      "Epoch 37/100\n",
      "14157/14157 [==============================] - 6s 454us/step - loss: 0.5199 - acc: 0.9627 - val_loss: 0.5375 - val_acc: 0.9263\n",
      "Epoch 38/100\n",
      "14157/14157 [==============================] - 6s 434us/step - loss: 0.5182 - acc: 0.9658 - val_loss: 0.5438 - val_acc: 0.9123\n",
      "Epoch 39/100\n",
      "14157/14157 [==============================] - 6s 396us/step - loss: 0.5186 - acc: 0.9651 - val_loss: 0.5391 - val_acc: 0.9225\n",
      "Epoch 40/100\n",
      "14157/14157 [==============================] - 6s 448us/step - loss: 0.5177 - acc: 0.9676 - val_loss: 0.5436 - val_acc: 0.9155\n",
      "Epoch 41/100\n",
      "14157/14157 [==============================] - 6s 420us/step - loss: 0.5165 - acc: 0.9695 - val_loss: 0.5440 - val_acc: 0.9149\n",
      "Epoch 42/100\n",
      "14157/14157 [==============================] - 6s 458us/step - loss: 0.5179 - acc: 0.9668 - val_loss: 0.5490 - val_acc: 0.9060\n",
      "Epoch 43/100\n",
      "14157/14157 [==============================] - 7s 461us/step - loss: 0.5198 - acc: 0.9634 - val_loss: 0.5411 - val_acc: 0.9187\n",
      "Epoch 44/100\n",
      "14157/14157 [==============================] - 5s 384us/step - loss: 0.5168 - acc: 0.9685 - val_loss: 0.5397 - val_acc: 0.9231\n",
      "Epoch 45/100\n",
      "14157/14157 [==============================] - 5s 384us/step - loss: 0.5167 - acc: 0.9693 - val_loss: 0.5390 - val_acc: 0.9244\n",
      "Epoch 46/100\n",
      "14157/14157 [==============================] - 5s 368us/step - loss: 0.5160 - acc: 0.9703 - val_loss: 0.5395 - val_acc: 0.9231\n",
      "Epoch 47/100\n",
      "14157/14157 [==============================] - 5s 354us/step - loss: 0.5163 - acc: 0.9701 - val_loss: 0.5419 - val_acc: 0.9187\n",
      "Wall time: 4min 27s\n"
     ]
    },
    {
     "data": {
      "text/plain": [
       "<keras.callbacks.History at 0x26ceee76128>"
      ]
     },
     "execution_count": 119,
     "metadata": {},
     "output_type": "execute_result"
    }
   ],
   "source": [
    "%%time\n",
    "# fit the model\n",
    "model1.fit(x_train, y_train_2, epochs=100, batch_size=64, validation_split=0.1, verbose=1,\n",
    "          callbacks = [history1,\n",
    "                      keras.callbacks.EarlyStopping(monitor='val_loss', min_delta=0, patience=10, verbose=0, mode='auto')])"
   ]
  },
  {
   "cell_type": "code",
   "execution_count": 120,
   "metadata": {},
   "outputs": [
    {
     "data": {
      "text/plain": [
       "Text(0.5, 1.0, 'Loss')"
      ]
     },
     "execution_count": 120,
     "metadata": {},
     "output_type": "execute_result"
    },
    {
     "data": {
      "image/png": "[encoded data removed]",
      "text/plain": [
       "<Figure size 1000x400 with 2 Axes>"
      ]
     },
     "metadata": {},
     "output_type": "display_data"
    }
   ],
   "source": [
    "fig, ax = plt.subplots(nrows = 1, ncols = 2, figsize = (10, 4))\n",
    "\n",
    "# Accuracy\n",
    "ax[0].plot(history1.history['acc'])\n",
    "ax[0].plot(history1.history['val_acc'])\n",
    "ax[0].set_ylabel('Accuracy')\n",
    "ax[0].set_xlabel('# Epoch')\n",
    "ax[0].legend(['train', 'validation'], loc='upper left')\n",
    "ax[0].set_title('Accuracy')\n",
    "\n",
    "# Loss\n",
    "ax[1].plot(history1.history['loss'])\n",
    "ax[1].plot(history1.history['val_loss'])\n",
    "ax[1].set_ylabel('Loss')\n",
    "ax[1].set_xlabel('# Epoch')\n",
    "ax[1].legend(['train', 'validation'], loc='upper left')\n",
    "ax[1].set_title('Loss')"
   ]
  },
  {
   "cell_type": "code",
   "execution_count": 121,
   "metadata": {},
   "outputs": [
    {
     "name": "stdout",
     "output_type": "stream",
     "text": [
      "F1 Score:  0.888888888888889\n",
      "              precision    recall  f1-score   support\n",
      "\n",
      "           0       0.97      0.93      0.95        70\n",
      "           1       0.85      0.93      0.89        30\n",
      "\n",
      "    accuracy                           0.93       100\n",
      "   macro avg       0.91      0.93      0.92       100\n",
      "weighted avg       0.93      0.93      0.93       100\n",
      "\n",
      "Area under curve :  0.930952380952381 \n",
      "\n"
     ]
    },
    {
     "data": {
      "image/png": "[encoded data removed]",
      "text/plain": [
       "<Figure size 1200x1200 with 3 Axes>"
      ]
     },
     "metadata": {},
     "output_type": "display_data"
    }
   ],
   "source": [
    "y_pred = model1.predict_classes(x_test)\n",
    "\n",
    "print_results(y_true.failure, y_pred)"
   ]
  },
  {
   "cell_type": "code",
   "execution_count": 122,
   "metadata": {},
   "outputs": [
    {
     "data": {
      "text/plain": [
       "array([[10564,   167],\n",
       "       [  277,  4723]], dtype=int64)"
      ]
     },
     "execution_count": 122,
     "metadata": {},
     "output_type": "execute_result"
    }
   ],
   "source": [
    "confusion_matrix(y_train, model1.predict_classes(x_train))"
   ]
  },
  {
   "cell_type": "markdown",
   "metadata": {},
   "source": [
    "### Approach 2"
   ]
  },
  {
   "cell_type": "code",
   "execution_count": 57,
   "metadata": {},
   "outputs": [
    {
     "name": "stdout",
     "output_type": "stream",
     "text": [
      "_________________________________________________________________\n",
      "Layer (type)                 Output Shape              Param #   \n",
      "=================================================================\n",
      "conv1d_37 (Conv1D)           (None, 48, 16)            736       \n",
      "_________________________________________________________________\n",
      "conv1d_38 (Conv1D)           (None, 46, 16)            784       \n",
      "_________________________________________________________________\n",
      "max_pooling1d_10 (MaxPooling (None, 15, 16)            0         \n",
      "_________________________________________________________________\n",
      "conv1d_39 (Conv1D)           (None, 13, 32)            1568      \n",
      "_________________________________________________________________\n",
      "conv1d_40 (Conv1D)           (None, 11, 32)            3104      \n",
      "_________________________________________________________________\n",
      "feature_layer (GlobalAverage (None, 32)                0         \n",
      "_________________________________________________________________\n",
      "dropout_10 (Dropout)         (None, 32)                0         \n",
      "_________________________________________________________________\n",
      "dense_8 (Dense)              (None, 1)                 33        \n",
      "=================================================================\n",
      "Total params: 6,225\n",
      "Trainable params: 6,225\n",
      "Non-trainable params: 0\n",
      "_________________________________________________________________\n"
     ]
    }
   ],
   "source": [
    "history2 = History()\n",
    "\n",
    "model2 = Sequential()\n",
    "model2.add(Conv1D(16, 3, activation = 'relu', input_shape=(sequence_length, nb_features)))\n",
    "model2.add(Conv1D(16, 3, activation = 'relu'))\n",
    "model2.add(MaxPooling1D(3))\n",
    "model2.add(Conv1D(32, 3, activation = 'relu'))\n",
    "model2.add(Conv1D(32, 3, activation = 'relu'))\n",
    "model2.add(GlobalAveragePooling1D(name = 'feature_layer'))\n",
    "model2.add(Dropout(0.5))\n",
    "model2.add(Dense(1, activation='sigmoid'))\n",
    "\n",
    "model2.compile(loss=\"binary_crossentropy\", optimizer=\"adam\", metrics=['accuracy'])\n",
    "\n",
    "model2.summary()"
   ]
  },
  {
   "cell_type": "code",
   "execution_count": 58,
   "metadata": {
    "scrolled": true
   },
   "outputs": [
    {
     "name": "stdout",
     "output_type": "stream",
     "text": [
      "Train on 14157 samples, validate on 1574 samples\n",
      "Epoch 1/100\n",
      "14157/14157 [==============================] - 8s 556us/step - loss: 0.3695 - acc: 0.8440 - val_loss: 0.2741 - val_acc: 0.8907\n",
      "Epoch 2/100\n",
      "14157/14157 [==============================] - 6s 416us/step - loss: 0.2499 - acc: 0.9075 - val_loss: 0.2384 - val_acc: 0.8920\n",
      "Epoch 3/100\n",
      "14157/14157 [==============================] - 5s 357us/step - loss: 0.1870 - acc: 0.9345 - val_loss: 0.2189 - val_acc: 0.9028\n",
      "Epoch 4/100\n",
      "14157/14157 [==============================] - 6s 425us/step - loss: 0.1509 - acc: 0.9436 - val_loss: 0.1513 - val_acc: 0.9371\n",
      "Epoch 5/100\n",
      "14157/14157 [==============================] - 5s 378us/step - loss: 0.1294 - acc: 0.9535 - val_loss: 0.1576 - val_acc: 0.9333\n",
      "Epoch 6/100\n",
      "14157/14157 [==============================] - 5s 359us/step - loss: 0.1164 - acc: 0.9569 - val_loss: 0.1772 - val_acc: 0.9219\n",
      "Epoch 7/100\n",
      "14157/14157 [==============================] - 6s 417us/step - loss: 0.1153 - acc: 0.9568 - val_loss: 0.2159 - val_acc: 0.9244 loss: 0.1190  - ETA: 4s - lo - ETA: 2s - ETA: 0s - loss: 0.1201 - acc - ETA: 0s - loss: 0.1179 - acc:\n",
      "Epoch 8/100\n",
      "14157/14157 [==============================] - 6s 394us/step - loss: 0.1169 - acc: 0.9588 - val_loss: 0.1596 - val_acc: 0.9263\n",
      "Epoch 9/100\n",
      "14157/14157 [==============================] - 6s 392us/step - loss: 0.1021 - acc: 0.9621 - val_loss: 0.1907 - val_acc: 0.9238\n",
      "Epoch 10/100\n",
      "14157/14157 [==============================] - 5s 382us/step - loss: 0.1010 - acc: 0.9648 - val_loss: 0.2253 - val_acc: 0.9225s: 0.1035 - ETA: 0s - loss: 0.1012 - acc: 0.\n",
      "Epoch 11/100\n",
      "14157/14157 [==============================] - 5s 372us/step - loss: 0.0896 - acc: 0.9678 - val_loss: 0.2670 - val_acc: 0.9199\n",
      "Epoch 12/100\n",
      "14157/14157 [==============================] - 5s 382us/step - loss: 0.0949 - acc: 0.9671 - val_loss: 0.2684 - val_acc: 0.9180\n",
      "Epoch 13/100\n",
      "14157/14157 [==============================] - 5s 384us/step - loss: 0.0905 - acc: 0.9673 - val_loss: 0.2749 - val_acc: 0.9206 - l\n",
      "Epoch 14/100\n",
      "14157/14157 [==============================] - 5s 360us/step - loss: 0.0792 - acc: 0.9710 - val_loss: 0.2665 - val_acc: 0.9225\n",
      "Wall time: 1min 19s\n"
     ]
    },
    {
     "data": {
      "text/plain": [
       "<keras.callbacks.History at 0x26cd95ba710>"
      ]
     },
     "execution_count": 58,
     "metadata": {},
     "output_type": "execute_result"
    }
   ],
   "source": [
    "%%time\n",
    "# fit the model\n",
    "model2.fit(x_train, y_train, epochs=100, batch_size=64, validation_split=0.1, verbose=1,\n",
    "          callbacks = [history2,\n",
    "                      keras.callbacks.EarlyStopping(monitor='val_loss', min_delta=0, patience=10, verbose=0, mode='auto')])"
   ]
  },
  {
   "cell_type": "code",
   "execution_count": 61,
   "metadata": {},
   "outputs": [],
   "source": [
    "layer_name = 'feature_layer'\n",
    "intermediate_layer_model = Model(inputs = model2.input,\n",
    "                                outputs = model2.get_layer(layer_name).output)\n",
    "cnn_x_train = intermediate_layer_model.predict(x_train)\n",
    "cnn_x_test = intermediate_layer_model.predict(x_test)"
   ]
  },
  {
   "cell_type": "code",
   "execution_count": 63,
   "metadata": {},
   "outputs": [
    {
     "data": {
      "text/plain": [
       "SVC(C=1, break_ties=False, cache_size=200, class_weight='balanced', coef0=0.0,\n",
       "    decision_function_shape='ovr', degree=3, gamma='auto', kernel='rbf',\n",
       "    max_iter=-1, probability=False, random_state=None, shrinking=True,\n",
       "    tol=0.001, verbose=False)"
      ]
     },
     "execution_count": 63,
     "metadata": {},
     "output_type": "execute_result"
    }
   ],
   "source": [
    "svc = SVC(kernel='rbf', C=1, gamma='auto', class_weight='balanced')\n",
    "\n",
    "svc.fit(cnn_x_train, y_train)"
   ]
  },
  {
   "cell_type": "code",
   "execution_count": 65,
   "metadata": {},
   "outputs": [
    {
     "data": {
      "text/plain": [
       "(1149, 32)"
      ]
     },
     "execution_count": 65,
     "metadata": {},
     "output_type": "execute_result"
    }
   ],
   "source": [
    "svc.support_vectors_.shape"
   ]
  },
  {
   "cell_type": "code",
   "execution_count": 66,
   "metadata": {},
   "outputs": [
    {
     "data": {
      "text/plain": [
       "0.9722204564236221"
      ]
     },
     "execution_count": 66,
     "metadata": {},
     "output_type": "execute_result"
    }
   ],
   "source": [
    "svc.score(cnn_x_train, y_train)"
   ]
  },
  {
   "cell_type": "code",
   "execution_count": 68,
   "metadata": {},
   "outputs": [
    {
     "name": "stdout",
     "output_type": "stream",
     "text": [
      "F1 Score:  0.9090909090909091\n",
      "              precision    recall  f1-score   support\n",
      "\n",
      "           0       1.00      0.91      0.96        70\n",
      "           1       0.83      1.00      0.91        30\n",
      "\n",
      "    accuracy                           0.94       100\n",
      "   macro avg       0.92      0.96      0.93       100\n",
      "weighted avg       0.95      0.94      0.94       100\n",
      "\n",
      "Area under curve :  0.9571428571428571 \n",
      "\n"
     ]
    },
    {
     "data": {
      "image/png": "[encoded data removed]",
      "text/plain": [
       "<Figure size 1200x1200 with 3 Axes>"
      ]
     },
     "metadata": {},
     "output_type": "display_data"
    }
   ],
   "source": [
    "y_pred2 = svc.predict(cnn_x_test)\n",
    "\n",
    "print_results(y_true.failure, y_pred2)"
   ]
  },
  {
   "cell_type": "code",
   "execution_count": 69,
   "metadata": {},
   "outputs": [
    {
     "data": {
      "text/plain": [
       "array([[10406,   325],\n",
       "       [  112,  4888]], dtype=int64)"
      ]
     },
     "execution_count": 69,
     "metadata": {},
     "output_type": "execute_result"
    }
   ],
   "source": [
    "confusion_matrix(y_train, svc.predict(cnn_x_train))"
   ]
  },
  {
   "cell_type": "code",
   "execution_count": null,
   "metadata": {},
   "outputs": [],
   "source": []
  }
 ],
 "metadata": {
  "kernelspec": {
   "display_name": "Python 3",
   "language": "python",
   "name": "python3"
  },
  "language_info": {
   "codemirror_mode": {
    "name": "ipython",
    "version": 3
   },
   "file_extension": ".py",
   "mimetype": "text/x-python",
   "name": "python",
   "nbconvert_exporter": "python",
   "pygments_lexer": "ipython3",
   "version": "3.7.3"
  }
 },
 "nbformat": 4,
 "nbformat_minor": 2
}
