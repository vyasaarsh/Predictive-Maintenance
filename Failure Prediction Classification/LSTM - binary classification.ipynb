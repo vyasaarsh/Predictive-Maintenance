{
 "cells": [
  {
   "cell_type": "markdown",
   "metadata": {},
   "source": [
    "## Aircraft Engine Failure Prediction"
   ]
  },
  {
   "cell_type": "markdown",
   "metadata": {},
   "source": [
    "This file includes steps to build a LSTM Model. Since any deep learning models require many hyperparameters, finding out the perfect architecture is very important. While there is no specific method for model architecture, We can rely on some rule of thumbs."
   ]
  },
  {
   "cell_type": "markdown",
   "metadata": {},
   "source": [
    "I follow tips suggested in this article: https://towardsdatascience.com/17-rules-of-thumb-for-building-a-neural-network-93356f9930af"
   ]
  },
  {
   "cell_type": "markdown",
   "metadata": {},
   "source": [
    "### Importing Required Libraries and Data"
   ]
  },
  {
   "cell_type": "code",
   "execution_count": 61,
   "metadata": {},
   "outputs": [],
   "source": [
    "import pandas as pd\n",
    "import numpy as np\n",
    "\n",
    "#to plot the data\n",
    "import matplotlib.pyplot as plt\n",
    "import seaborn as sns\n",
    "%matplotlib inline\n",
    "import matplotlib as mpl\n",
    "mpl.rcParams.update(mpl.rcParamsDefault)\n",
    "\n",
    "import time\n",
    "import os\n",
    "os.chdir(\"C:/Data/aircraft/\")\n",
    "\n",
    "from sklearn.preprocessing import MinMaxScaler #to normalize data\n",
    "from sklearn.metrics import classification_report, confusion_matrix, roc_curve\n",
    "from sklearn.metrics import f1_score, roc_auc_score, accuracy_score, precision_score, recall_score\n",
    "\n",
    "#for deep learning\n",
    "import keras\n",
    "import keras.backend as k\n",
    "from keras.models import Sequential\n",
    "from keras.layers import Dense, LSTM, Activation, Masking, Dropout\n",
    "from keras.optimizers import RMSprop,adam\n",
    "from keras.callbacks import History\n",
    "from keras import callbacks"
   ]
  },
  {
   "cell_type": "code",
   "execution_count": 2,
   "metadata": {},
   "outputs": [],
   "source": [
    "def prepare_data(drop_cols = True):\n",
    "    dependent_var = ['RUL']\n",
    "    index_columns_names =  [\"UnitNumber\",\"Cycle\"]\n",
    "    operational_settings_columns_names = [\"OpSet\"+str(i) for i in range(1,4)]\n",
    "    sensor_measure_columns_names =[\"SensorMeasure\"+str(i) for i in range(1,22)]\n",
    "    input_file_column_names = index_columns_names + operational_settings_columns_names + sensor_measure_columns_names\n",
    "\n",
    "    cols_to_drop = ['OpSet3', 'SensorMeasure1', 'SensorMeasure5', 'SensorMeasure6', 'SensorMeasure10', 'SensorMeasure14',\n",
    "     'SensorMeasure16', 'SensorMeasure18', 'SensorMeasure19']\n",
    "\n",
    "    df_train = pd.read_csv('train_FD001.txt',delim_whitespace=True,names=input_file_column_names)\n",
    "\n",
    "    rul = pd.DataFrame(df_train.groupby('UnitNumber')['Cycle'].max()).reset_index()\n",
    "    rul.columns = ['UnitNumber', 'max']\n",
    "    df_train = df_train.merge(rul, on=['UnitNumber'], how='left')\n",
    "    df_train['RUL'] = df_train['max'] - df_train['Cycle']\n",
    "    df_train.drop('max', axis=1, inplace=True)\n",
    "\n",
    "    df_test = pd.read_csv('test_FD001.txt', delim_whitespace=True, names=input_file_column_names)\n",
    "    \n",
    "    if(drop_cols == True):\n",
    "        df_train = df_train.drop(cols_to_drop, axis = 1)\n",
    "        df_test = df_test.drop(cols_to_drop, axis = 1)\n",
    "\n",
    "    y_true = pd.read_csv('RUL_FD001.txt', delim_whitespace=True,names=[\"RUL\"])\n",
    "    y_true[\"UnitNumber\"] = y_true.index\n",
    "    \n",
    "    return df_train, df_test, y_true"
   ]
  },
  {
   "cell_type": "code",
   "execution_count": 3,
   "metadata": {},
   "outputs": [
    {
     "data": {
      "text/plain": [
       "((20631, 18), (13096, 17), (100, 2))"
      ]
     },
     "execution_count": 3,
     "metadata": {},
     "output_type": "execute_result"
    }
   ],
   "source": [
    "df_train, df_test, y_true = prepare_data()\n",
    "df_train.shape, df_test.shape, y_true.shape"
   ]
  },
  {
   "cell_type": "code",
   "execution_count": 4,
   "metadata": {},
   "outputs": [],
   "source": [
    "feats = df_train.columns.drop(['UnitNumber', 'Cycle', 'RUL'])"
   ]
  },
  {
   "cell_type": "code",
   "execution_count": 5,
   "metadata": {},
   "outputs": [],
   "source": [
    "min_max_scaler = MinMaxScaler(feature_range=(-1,1))\n",
    "\n",
    "df_train[feats] = min_max_scaler.fit_transform(df_train[feats])\n",
    "df_test[feats] = min_max_scaler.transform(df_test[feats])"
   ]
  },
  {
   "cell_type": "code",
   "execution_count": 6,
   "metadata": {},
   "outputs": [],
   "source": [
    "df_train['failure'] = [1 if i < 50 else 0 for i in df_train.RUL]\n",
    "y_true['failure'] = [1 if i < 50 else 0 for i in y_true.RUL]"
   ]
  },
  {
   "cell_type": "code",
   "execution_count": 7,
   "metadata": {
    "scrolled": true
   },
   "outputs": [
    {
     "data": {
      "text/html": [
       "<div>\n",
       "<style scoped>\n",
       "    .dataframe tbody tr th:only-of-type {\n",
       "        vertical-align: middle;\n",
       "    }\n",
       "\n",
       "    .dataframe tbody tr th {\n",
       "        vertical-align: top;\n",
       "    }\n",
       "\n",
       "    .dataframe thead th {\n",
       "        text-align: right;\n",
       "    }\n",
       "</style>\n",
       "<table border=\"1\" class=\"dataframe\">\n",
       "  <thead>\n",
       "    <tr style=\"text-align: right;\">\n",
       "      <th></th>\n",
       "      <th>UnitNumber</th>\n",
       "      <th>Cycle</th>\n",
       "      <th>OpSet1</th>\n",
       "      <th>OpSet2</th>\n",
       "      <th>SensorMeasure2</th>\n",
       "      <th>SensorMeasure3</th>\n",
       "      <th>SensorMeasure4</th>\n",
       "      <th>SensorMeasure7</th>\n",
       "      <th>SensorMeasure8</th>\n",
       "      <th>SensorMeasure9</th>\n",
       "      <th>SensorMeasure11</th>\n",
       "      <th>SensorMeasure12</th>\n",
       "      <th>SensorMeasure13</th>\n",
       "      <th>SensorMeasure15</th>\n",
       "      <th>SensorMeasure17</th>\n",
       "      <th>SensorMeasure20</th>\n",
       "      <th>SensorMeasure21</th>\n",
       "      <th>RUL</th>\n",
       "      <th>failure</th>\n",
       "    </tr>\n",
       "  </thead>\n",
       "  <tbody>\n",
       "    <tr>\n",
       "      <th>0</th>\n",
       "      <td>1</td>\n",
       "      <td>1</td>\n",
       "      <td>-0.080460</td>\n",
       "      <td>-0.666667</td>\n",
       "      <td>-0.632530</td>\n",
       "      <td>-0.186396</td>\n",
       "      <td>-0.380486</td>\n",
       "      <td>0.452496</td>\n",
       "      <td>-0.515152</td>\n",
       "      <td>-0.780490</td>\n",
       "      <td>-0.261905</td>\n",
       "      <td>0.266525</td>\n",
       "      <td>-0.588235</td>\n",
       "      <td>-0.272028</td>\n",
       "      <td>-0.333333</td>\n",
       "      <td>0.426357</td>\n",
       "      <td>0.449323</td>\n",
       "      <td>191</td>\n",
       "      <td>0</td>\n",
       "    </tr>\n",
       "    <tr>\n",
       "      <th>1</th>\n",
       "      <td>1</td>\n",
       "      <td>2</td>\n",
       "      <td>0.218391</td>\n",
       "      <td>-0.500000</td>\n",
       "      <td>-0.433735</td>\n",
       "      <td>-0.093961</td>\n",
       "      <td>-0.294733</td>\n",
       "      <td>0.256039</td>\n",
       "      <td>-0.575758</td>\n",
       "      <td>-0.799515</td>\n",
       "      <td>-0.238095</td>\n",
       "      <td>0.530917</td>\n",
       "      <td>-0.441176</td>\n",
       "      <td>-0.177376</td>\n",
       "      <td>-0.333333</td>\n",
       "      <td>0.333333</td>\n",
       "      <td>0.462027</td>\n",
       "      <td>190</td>\n",
       "      <td>0</td>\n",
       "    </tr>\n",
       "    <tr>\n",
       "      <th>2</th>\n",
       "      <td>1</td>\n",
       "      <td>3</td>\n",
       "      <td>-0.494253</td>\n",
       "      <td>0.500000</td>\n",
       "      <td>-0.313253</td>\n",
       "      <td>-0.260955</td>\n",
       "      <td>-0.258947</td>\n",
       "      <td>0.420290</td>\n",
       "      <td>-0.454545</td>\n",
       "      <td>-0.719914</td>\n",
       "      <td>-0.500000</td>\n",
       "      <td>0.590618</td>\n",
       "      <td>-0.558824</td>\n",
       "      <td>-0.285110</td>\n",
       "      <td>-0.666667</td>\n",
       "      <td>0.255814</td>\n",
       "      <td>0.242751</td>\n",
       "      <td>189</td>\n",
       "      <td>0</td>\n",
       "    </tr>\n",
       "    <tr>\n",
       "      <th>3</th>\n",
       "      <td>1</td>\n",
       "      <td>4</td>\n",
       "      <td>0.080460</td>\n",
       "      <td>0.000000</td>\n",
       "      <td>-0.313253</td>\n",
       "      <td>-0.487683</td>\n",
       "      <td>-0.337610</td>\n",
       "      <td>0.481481</td>\n",
       "      <td>-0.363636</td>\n",
       "      <td>-0.750965</td>\n",
       "      <td>-0.666667</td>\n",
       "      <td>0.778252</td>\n",
       "      <td>-0.411765</td>\n",
       "      <td>-0.666795</td>\n",
       "      <td>-0.333333</td>\n",
       "      <td>0.147287</td>\n",
       "      <td>0.324772</td>\n",
       "      <td>188</td>\n",
       "      <td>0</td>\n",
       "    </tr>\n",
       "    <tr>\n",
       "      <th>4</th>\n",
       "      <td>1</td>\n",
       "      <td>5</td>\n",
       "      <td>-0.218391</td>\n",
       "      <td>-0.333333</td>\n",
       "      <td>-0.301205</td>\n",
       "      <td>-0.485066</td>\n",
       "      <td>-0.190749</td>\n",
       "      <td>0.336554</td>\n",
       "      <td>-0.515152</td>\n",
       "      <td>-0.700081</td>\n",
       "      <td>-0.488095</td>\n",
       "      <td>0.492537</td>\n",
       "      <td>-0.529412</td>\n",
       "      <td>-0.195845</td>\n",
       "      <td>-0.166667</td>\n",
       "      <td>0.178295</td>\n",
       "      <td>0.409003</td>\n",
       "      <td>187</td>\n",
       "      <td>0</td>\n",
       "    </tr>\n",
       "  </tbody>\n",
       "</table>\n",
       "</div>"
      ],
      "text/plain": [
       "   UnitNumber  Cycle    OpSet1    OpSet2  SensorMeasure2  SensorMeasure3  \\\n",
       "0           1      1 -0.080460 -0.666667       -0.632530       -0.186396   \n",
       "1           1      2  0.218391 -0.500000       -0.433735       -0.093961   \n",
       "2           1      3 -0.494253  0.500000       -0.313253       -0.260955   \n",
       "3           1      4  0.080460  0.000000       -0.313253       -0.487683   \n",
       "4           1      5 -0.218391 -0.333333       -0.301205       -0.485066   \n",
       "\n",
       "   SensorMeasure4  SensorMeasure7  SensorMeasure8  SensorMeasure9  \\\n",
       "0       -0.380486        0.452496       -0.515152       -0.780490   \n",
       "1       -0.294733        0.256039       -0.575758       -0.799515   \n",
       "2       -0.258947        0.420290       -0.454545       -0.719914   \n",
       "3       -0.337610        0.481481       -0.363636       -0.750965   \n",
       "4       -0.190749        0.336554       -0.515152       -0.700081   \n",
       "\n",
       "   SensorMeasure11  SensorMeasure12  SensorMeasure13  SensorMeasure15  \\\n",
       "0        -0.261905         0.266525        -0.588235        -0.272028   \n",
       "1        -0.238095         0.530917        -0.441176        -0.177376   \n",
       "2        -0.500000         0.590618        -0.558824        -0.285110   \n",
       "3        -0.666667         0.778252        -0.411765        -0.666795   \n",
       "4        -0.488095         0.492537        -0.529412        -0.195845   \n",
       "\n",
       "   SensorMeasure17  SensorMeasure20  SensorMeasure21  RUL  failure  \n",
       "0        -0.333333         0.426357         0.449323  191        0  \n",
       "1        -0.333333         0.333333         0.462027  190        0  \n",
       "2        -0.666667         0.255814         0.242751  189        0  \n",
       "3        -0.333333         0.147287         0.324772  188        0  \n",
       "4        -0.166667         0.178295         0.409003  187        0  "
      ]
     },
     "execution_count": 7,
     "metadata": {},
     "output_type": "execute_result"
    }
   ],
   "source": [
    "df_train.head()"
   ]
  },
  {
   "cell_type": "code",
   "execution_count": 8,
   "metadata": {},
   "outputs": [
    {
     "data": {
      "text/html": [
       "<div>\n",
       "<style scoped>\n",
       "    .dataframe tbody tr th:only-of-type {\n",
       "        vertical-align: middle;\n",
       "    }\n",
       "\n",
       "    .dataframe tbody tr th {\n",
       "        vertical-align: top;\n",
       "    }\n",
       "\n",
       "    .dataframe thead th {\n",
       "        text-align: right;\n",
       "    }\n",
       "</style>\n",
       "<table border=\"1\" class=\"dataframe\">\n",
       "  <thead>\n",
       "    <tr style=\"text-align: right;\">\n",
       "      <th></th>\n",
       "      <th>UnitNumber</th>\n",
       "      <th>Cycle</th>\n",
       "      <th>OpSet1</th>\n",
       "      <th>OpSet2</th>\n",
       "      <th>SensorMeasure2</th>\n",
       "      <th>SensorMeasure3</th>\n",
       "      <th>SensorMeasure4</th>\n",
       "      <th>SensorMeasure7</th>\n",
       "      <th>SensorMeasure8</th>\n",
       "      <th>SensorMeasure9</th>\n",
       "      <th>SensorMeasure11</th>\n",
       "      <th>SensorMeasure12</th>\n",
       "      <th>SensorMeasure13</th>\n",
       "      <th>SensorMeasure15</th>\n",
       "      <th>SensorMeasure17</th>\n",
       "      <th>SensorMeasure20</th>\n",
       "      <th>SensorMeasure21</th>\n",
       "    </tr>\n",
       "  </thead>\n",
       "  <tbody>\n",
       "    <tr>\n",
       "      <th>0</th>\n",
       "      <td>1</td>\n",
       "      <td>1</td>\n",
       "      <td>0.264368</td>\n",
       "      <td>0.500000</td>\n",
       "      <td>0.090361</td>\n",
       "      <td>-0.378679</td>\n",
       "      <td>-0.461175</td>\n",
       "      <td>0.304348</td>\n",
       "      <td>-0.575758</td>\n",
       "      <td>-0.744773</td>\n",
       "      <td>-0.583333</td>\n",
       "      <td>0.292111</td>\n",
       "      <td>-0.558824</td>\n",
       "      <td>-0.382070</td>\n",
       "      <td>-0.333333</td>\n",
       "      <td>0.116279</td>\n",
       "      <td>0.323667</td>\n",
       "    </tr>\n",
       "    <tr>\n",
       "      <th>1</th>\n",
       "      <td>1</td>\n",
       "      <td>2</td>\n",
       "      <td>-0.310345</td>\n",
       "      <td>-0.500000</td>\n",
       "      <td>-0.698795</td>\n",
       "      <td>-0.240898</td>\n",
       "      <td>-0.555368</td>\n",
       "      <td>0.610306</td>\n",
       "      <td>-0.666667</td>\n",
       "      <td>-0.706632</td>\n",
       "      <td>-0.226190</td>\n",
       "      <td>0.479744</td>\n",
       "      <td>-0.470588</td>\n",
       "      <td>-0.573682</td>\n",
       "      <td>-0.166667</td>\n",
       "      <td>0.364341</td>\n",
       "      <td>0.373654</td>\n",
       "    </tr>\n",
       "    <tr>\n",
       "      <th>2</th>\n",
       "      <td>1</td>\n",
       "      <td>3</td>\n",
       "      <td>0.034483</td>\n",
       "      <td>0.166667</td>\n",
       "      <td>-0.246988</td>\n",
       "      <td>-0.306736</td>\n",
       "      <td>-0.355503</td>\n",
       "      <td>0.371981</td>\n",
       "      <td>-0.545455</td>\n",
       "      <td>-0.683837</td>\n",
       "      <td>-0.226190</td>\n",
       "      <td>0.398721</td>\n",
       "      <td>-0.558824</td>\n",
       "      <td>-0.082724</td>\n",
       "      <td>-0.166667</td>\n",
       "      <td>0.457364</td>\n",
       "      <td>0.442695</td>\n",
       "    </tr>\n",
       "    <tr>\n",
       "      <th>3</th>\n",
       "      <td>1</td>\n",
       "      <td>4</td>\n",
       "      <td>0.482759</td>\n",
       "      <td>0.000000</td>\n",
       "      <td>-0.259036</td>\n",
       "      <td>-0.429693</td>\n",
       "      <td>-0.183997</td>\n",
       "      <td>0.359098</td>\n",
       "      <td>-0.606061</td>\n",
       "      <td>-0.788567</td>\n",
       "      <td>-0.488095</td>\n",
       "      <td>0.147122</td>\n",
       "      <td>-0.500000</td>\n",
       "      <td>-0.485956</td>\n",
       "      <td>-0.500000</td>\n",
       "      <td>0.333333</td>\n",
       "      <td>0.324220</td>\n",
       "    </tr>\n",
       "    <tr>\n",
       "      <th>4</th>\n",
       "      <td>1</td>\n",
       "      <td>5</td>\n",
       "      <td>0.160920</td>\n",
       "      <td>0.000000</td>\n",
       "      <td>-0.216867</td>\n",
       "      <td>-0.295836</td>\n",
       "      <td>-0.335922</td>\n",
       "      <td>0.388084</td>\n",
       "      <td>-0.666667</td>\n",
       "      <td>-0.795208</td>\n",
       "      <td>-0.452381</td>\n",
       "      <td>0.475480</td>\n",
       "      <td>-0.558824</td>\n",
       "      <td>-0.398230</td>\n",
       "      <td>-0.666667</td>\n",
       "      <td>0.317829</td>\n",
       "      <td>0.432753</td>\n",
       "    </tr>\n",
       "  </tbody>\n",
       "</table>\n",
       "</div>"
      ],
      "text/plain": [
       "   UnitNumber  Cycle    OpSet1    OpSet2  SensorMeasure2  SensorMeasure3  \\\n",
       "0           1      1  0.264368  0.500000        0.090361       -0.378679   \n",
       "1           1      2 -0.310345 -0.500000       -0.698795       -0.240898   \n",
       "2           1      3  0.034483  0.166667       -0.246988       -0.306736   \n",
       "3           1      4  0.482759  0.000000       -0.259036       -0.429693   \n",
       "4           1      5  0.160920  0.000000       -0.216867       -0.295836   \n",
       "\n",
       "   SensorMeasure4  SensorMeasure7  SensorMeasure8  SensorMeasure9  \\\n",
       "0       -0.461175        0.304348       -0.575758       -0.744773   \n",
       "1       -0.555368        0.610306       -0.666667       -0.706632   \n",
       "2       -0.355503        0.371981       -0.545455       -0.683837   \n",
       "3       -0.183997        0.359098       -0.606061       -0.788567   \n",
       "4       -0.335922        0.388084       -0.666667       -0.795208   \n",
       "\n",
       "   SensorMeasure11  SensorMeasure12  SensorMeasure13  SensorMeasure15  \\\n",
       "0        -0.583333         0.292111        -0.558824        -0.382070   \n",
       "1        -0.226190         0.479744        -0.470588        -0.573682   \n",
       "2        -0.226190         0.398721        -0.558824        -0.082724   \n",
       "3        -0.488095         0.147122        -0.500000        -0.485956   \n",
       "4        -0.452381         0.475480        -0.558824        -0.398230   \n",
       "\n",
       "   SensorMeasure17  SensorMeasure20  SensorMeasure21  \n",
       "0        -0.333333         0.116279         0.323667  \n",
       "1        -0.166667         0.364341         0.373654  \n",
       "2        -0.166667         0.457364         0.442695  \n",
       "3        -0.500000         0.333333         0.324220  \n",
       "4        -0.666667         0.317829         0.432753  "
      ]
     },
     "execution_count": 8,
     "metadata": {},
     "output_type": "execute_result"
    }
   ],
   "source": [
    "df_test.head()"
   ]
  },
  {
   "cell_type": "code",
   "execution_count": 9,
   "metadata": {},
   "outputs": [
    {
     "data": {
      "text/html": [
       "<div>\n",
       "<style scoped>\n",
       "    .dataframe tbody tr th:only-of-type {\n",
       "        vertical-align: middle;\n",
       "    }\n",
       "\n",
       "    .dataframe tbody tr th {\n",
       "        vertical-align: top;\n",
       "    }\n",
       "\n",
       "    .dataframe thead th {\n",
       "        text-align: right;\n",
       "    }\n",
       "</style>\n",
       "<table border=\"1\" class=\"dataframe\">\n",
       "  <thead>\n",
       "    <tr style=\"text-align: right;\">\n",
       "      <th></th>\n",
       "      <th>RUL</th>\n",
       "      <th>UnitNumber</th>\n",
       "      <th>failure</th>\n",
       "    </tr>\n",
       "  </thead>\n",
       "  <tbody>\n",
       "    <tr>\n",
       "      <th>0</th>\n",
       "      <td>112</td>\n",
       "      <td>0</td>\n",
       "      <td>0</td>\n",
       "    </tr>\n",
       "    <tr>\n",
       "      <th>1</th>\n",
       "      <td>98</td>\n",
       "      <td>1</td>\n",
       "      <td>0</td>\n",
       "    </tr>\n",
       "    <tr>\n",
       "      <th>2</th>\n",
       "      <td>69</td>\n",
       "      <td>2</td>\n",
       "      <td>0</td>\n",
       "    </tr>\n",
       "    <tr>\n",
       "      <th>3</th>\n",
       "      <td>82</td>\n",
       "      <td>3</td>\n",
       "      <td>0</td>\n",
       "    </tr>\n",
       "    <tr>\n",
       "      <th>4</th>\n",
       "      <td>91</td>\n",
       "      <td>4</td>\n",
       "      <td>0</td>\n",
       "    </tr>\n",
       "  </tbody>\n",
       "</table>\n",
       "</div>"
      ],
      "text/plain": [
       "   RUL  UnitNumber  failure\n",
       "0  112           0        0\n",
       "1   98           1        0\n",
       "2   69           2        0\n",
       "3   82           3        0\n",
       "4   91           4        0"
      ]
     },
     "execution_count": 9,
     "metadata": {},
     "output_type": "execute_result"
    }
   ],
   "source": [
    "y_true.head()"
   ]
  },
  {
   "cell_type": "markdown",
   "metadata": {},
   "source": [
    "\n",
    "LSTM expects an input in the shape of a numpy array of 3 dimensions and I will need to convert train and test data accordingly."
   ]
  },
  {
   "cell_type": "code",
   "execution_count": 10,
   "metadata": {},
   "outputs": [],
   "source": [
    "def gen_train(id_df, seq_length, seq_cols):\n",
    "    \"\"\"\n",
    "        function to prepare train data into (samples, time steps, features)\n",
    "        id_df = train dataframe\n",
    "        seq_length = look back period\n",
    "        seq_cols = feature columns\n",
    "    \"\"\"\n",
    "        \n",
    "    data_array = id_df[seq_cols].values\n",
    "    num_elements = data_array.shape[0]\n",
    "    lstm_array=[]\n",
    "    \n",
    "    for start, stop in zip(range(0, num_elements-seq_length+1), range(seq_length, num_elements+1)):\n",
    "        lstm_array.append(data_array[start:stop, :])\n",
    "    \n",
    "    return np.array(lstm_array)"
   ]
  },
  {
   "cell_type": "code",
   "execution_count": 11,
   "metadata": {},
   "outputs": [],
   "source": [
    "def gen_target(id_df, seq_length, label):\n",
    "    data_array = id_df[label].values\n",
    "    num_elements = data_array.shape[0]\n",
    "    return data_array[seq_length-1:num_elements+1]"
   ]
  },
  {
   "cell_type": "code",
   "execution_count": 12,
   "metadata": {},
   "outputs": [],
   "source": [
    "def gen_test(id_df, seq_length, seq_cols, mask_value):\n",
    "    \"\"\"\n",
    "        function to prepare test data into (samples, time steps, features)\n",
    "        function only returns last sequence of data for every unit\n",
    "        id_df = test dataframe\n",
    "        seq_length = look back period\n",
    "        seq_cols = feature columns\n",
    "    \"\"\"\n",
    "    df_mask = pd.DataFrame(np.zeros((seq_length-1,id_df.shape[1])),columns=id_df.columns)\n",
    "    df_mask[:] = mask_value\n",
    "    \n",
    "    id_df = df_mask.append(id_df,ignore_index=True)\n",
    "    \n",
    "    data_array = id_df[seq_cols].values\n",
    "    num_elements = data_array.shape[0]\n",
    "    lstm_array=[]\n",
    "    \n",
    "    start = num_elements-seq_length\n",
    "    stop = num_elements\n",
    "    \n",
    "    lstm_array.append(data_array[start:stop, :])\n",
    "    \n",
    "    return np.array(lstm_array)"
   ]
  },
  {
   "cell_type": "markdown",
   "metadata": {},
   "source": [
    "\n",
    "Let's define look back period and mask_value"
   ]
  },
  {
   "cell_type": "code",
   "execution_count": 13,
   "metadata": {},
   "outputs": [],
   "source": [
    "sequence_length = 50 #predicting using last 30 cycle values\n",
    "mask_value = 0"
   ]
  },
  {
   "cell_type": "markdown",
   "metadata": {},
   "source": [
    "\n",
    "Let's prepare data using above functions."
   ]
  },
  {
   "cell_type": "code",
   "execution_count": 14,
   "metadata": {},
   "outputs": [
    {
     "name": "stdout",
     "output_type": "stream",
     "text": [
      "(15731, 50, 15)\n"
     ]
    }
   ],
   "source": [
    "#generate train\n",
    "x_train=np.concatenate(list(list(gen_train(df_train[df_train['UnitNumber']==unit], sequence_length, feats)) for unit in df_train['UnitNumber'].unique()))\n",
    "print(x_train.shape)"
   ]
  },
  {
   "cell_type": "code",
   "execution_count": 15,
   "metadata": {
    "scrolled": true
   },
   "outputs": [
    {
     "data": {
      "text/plain": [
       "(15731,)"
      ]
     },
     "execution_count": 15,
     "metadata": {},
     "output_type": "execute_result"
    }
   ],
   "source": [
    "#generate target of train\n",
    "y_train = np.concatenate(list(list(gen_target(df_train[df_train['UnitNumber']==unit], sequence_length, \"failure\")) for unit in df_train['UnitNumber'].unique()))\n",
    "y_train.shape"
   ]
  },
  {
   "cell_type": "code",
   "execution_count": 16,
   "metadata": {},
   "outputs": [
    {
     "name": "stdout",
     "output_type": "stream",
     "text": [
      "(100, 50, 15)\n"
     ]
    }
   ],
   "source": [
    "#generate test\n",
    "x_test=np.concatenate(list(list(gen_test(df_test[df_test['UnitNumber']==unit], sequence_length, feats, mask_value)) for unit in df_test['UnitNumber'].unique()))\n",
    "print(x_test.shape)"
   ]
  },
  {
   "cell_type": "code",
   "execution_count": 17,
   "metadata": {},
   "outputs": [
    {
     "data": {
      "text/plain": [
       "(100,)"
      ]
     },
     "execution_count": 17,
     "metadata": {},
     "output_type": "execute_result"
    }
   ],
   "source": [
    "#true target of test \n",
    "y_test = y_true.RUL.values\n",
    "y_test.shape"
   ]
  },
  {
   "cell_type": "code",
   "execution_count": 18,
   "metadata": {},
   "outputs": [],
   "source": [
    "nb_features = x_train.shape[2]\n",
    "nb_out = 1"
   ]
  },
  {
   "cell_type": "code",
   "execution_count": 19,
   "metadata": {},
   "outputs": [
    {
     "data": {
      "text/plain": [
       "15"
      ]
     },
     "execution_count": 19,
     "metadata": {},
     "output_type": "execute_result"
    }
   ],
   "source": [
    "nb_features"
   ]
  },
  {
   "cell_type": "code",
   "execution_count": 20,
   "metadata": {},
   "outputs": [],
   "source": [
    "class_0 = pd.Series(y_train).value_counts()[0]\n",
    "class_1 = pd.Series(y_train).value_counts()[1]\n",
    "total = class_0 + class_1\n",
    "\n",
    "cls_wt = {0: class_1/total, 1: class_0/total}"
   ]
  },
  {
   "cell_type": "code",
   "execution_count": 21,
   "metadata": {},
   "outputs": [
    {
     "data": {
      "text/plain": [
       "{0: 0.3178437480134766, 1: 0.6821562519865234}"
      ]
     },
     "execution_count": 21,
     "metadata": {},
     "output_type": "execute_result"
    }
   ],
   "source": [
    "cls_wt"
   ]
  },
  {
   "cell_type": "markdown",
   "metadata": {},
   "source": [
    "### Function to Print Results"
   ]
  },
  {
   "cell_type": "code",
   "execution_count": 22,
   "metadata": {},
   "outputs": [],
   "source": [
    "def print_results(y_test, y_pred):\n",
    "    \n",
    "    #f1-score\n",
    "    f1 = f1_score(y_test, y_pred)\n",
    "    print(\"F1 Score: \", f1)\n",
    "    print(classification_report(y_true.failure, y_pred))\n",
    "    \n",
    "    conf_matrix = confusion_matrix(y_test, y_pred)\n",
    "    plt.figure(figsize=(12,12))\n",
    "    plt.subplot(221)\n",
    "    sns.heatmap(conf_matrix, fmt = \"d\",annot=True, cmap='Blues')\n",
    "    b, t = plt.ylim()\n",
    "    plt.ylim(b + 0.5, t - 0.5)\n",
    "    plt.title('Confuion Matrix')\n",
    "    plt.ylabel('True Values')\n",
    "    plt.xlabel('Predicted Values')\n",
    "\n",
    "    #roc_auc_score\n",
    "    model_roc_auc = roc_auc_score(y_test, y_pred) \n",
    "    print (\"Area under curve : \",model_roc_auc,\"\\n\")\n",
    "    fpr,tpr,thresholds = roc_curve(y_test, y_pred)\n",
    "    gmeans = np.sqrt(tpr * (1-fpr))\n",
    "    ix = np.argmax(gmeans)\n",
    "    threshold = np.round(thresholds[ix],3)\n",
    "\n",
    "    plt.subplot(222)\n",
    "    plt.plot(fpr, tpr, color='darkorange', lw=1, label = \"Auc : %.3f\" %model_roc_auc)\n",
    "    plt.plot([0, 1], [0, 1], color='navy', lw=2, linestyle='--')\n",
    "    plt.scatter(fpr[ix], tpr[ix], marker='o', color='black', label='Best Threshold:' + str(threshold))\n",
    "    plt.xlim([0.0, 1.0])\n",
    "    plt.ylim([0.0, 1.05])\n",
    "    plt.xlabel('False Positive Rate')\n",
    "    plt.ylabel('True Positive Rate')\n",
    "    plt.title('Receiver operating characteristic')\n",
    "    plt.legend(loc=\"lower right\")"
   ]
  },
  {
   "cell_type": "markdown",
   "metadata": {},
   "source": [
    "### Model with 1 hidden layer"
   ]
  },
  {
   "cell_type": "markdown",
   "metadata": {},
   "source": [
    "#### Model 1"
   ]
  },
  {
   "cell_type": "code",
   "execution_count": 23,
   "metadata": {},
   "outputs": [
    {
     "name": "stdout",
     "output_type": "stream",
     "text": [
      "WARNING:tensorflow:From C:\\Users\\archd\\Anaconda3\\lib\\site-packages\\tensorflow\\python\\framework\\op_def_library.py:263: colocate_with (from tensorflow.python.framework.ops) is deprecated and will be removed in a future version.\n",
      "Instructions for updating:\n",
      "Colocations handled automatically by placer.\n",
      "_________________________________________________________________\n",
      "Layer (type)                 Output Shape              Param #   \n",
      "=================================================================\n",
      "lstm_1 (LSTM)                (None, 4)                 320       \n",
      "_________________________________________________________________\n",
      "dense_1 (Dense)              (None, 1)                 5         \n",
      "=================================================================\n",
      "Total params: 325\n",
      "Trainable params: 325\n",
      "Non-trainable params: 0\n",
      "_________________________________________________________________\n"
     ]
    }
   ],
   "source": [
    "history = History()\n",
    "\n",
    "model1 = Sequential()\n",
    "model1.add(LSTM(\n",
    "         units=4,\n",
    "         return_sequences=False,\n",
    "         input_shape=(sequence_length, nb_features)))\n",
    "model1.add(Dense(units=1, activation='sigmoid'))\n",
    "model1.compile(loss=\"binary_crossentropy\", optimizer=\"adam\", metrics=['accuracy'])\n",
    "\n",
    "model1.summary()"
   ]
  },
  {
   "cell_type": "code",
   "execution_count": 24,
   "metadata": {
    "scrolled": true
   },
   "outputs": [
    {
     "name": "stdout",
     "output_type": "stream",
     "text": [
      "WARNING:tensorflow:From C:\\Users\\archd\\Anaconda3\\lib\\site-packages\\tensorflow\\python\\ops\\math_ops.py:3066: to_int32 (from tensorflow.python.ops.math_ops) is deprecated and will be removed in a future version.\n",
      "Instructions for updating:\n",
      "Use tf.cast instead.\n",
      "Train on 14157 samples, validate on 1574 samples\n",
      "Epoch 1/100\n",
      "14157/14157 [==============================] - 15s 1ms/step - loss: 0.2131 - acc: 0.8437 - val_loss: 0.1540 - val_acc: 0.8755\n",
      "Epoch 2/100\n",
      "14157/14157 [==============================] - 12s 868us/step - loss: 0.1330 - acc: 0.8903 - val_loss: 0.1192 - val_acc: 0.8812\n",
      "Epoch 3/100\n",
      "14157/14157 [==============================] - 14s 971us/step - loss: 0.1084 - acc: 0.9047 - val_loss: 0.1119 - val_acc: 0.8793\n",
      "Epoch 4/100\n",
      "14157/14157 [==============================] - 13s 911us/step - loss: 0.0982 - acc: 0.9183 - val_loss: 0.1064 - val_acc: 0.8945\n",
      "Epoch 5/100\n",
      "14157/14157 [==============================] - 12s 814us/step - loss: 0.0883 - acc: 0.9280 - val_loss: 0.0933 - val_acc: 0.9136\n",
      "Epoch 6/100\n",
      "14157/14157 [==============================] - 12s 839us/step - loss: 0.0838 - acc: 0.9326 - val_loss: 0.0960 - val_acc: 0.9111\n",
      "Epoch 7/100\n",
      "14157/14157 [==============================] - 13s 902us/step - loss: 0.0783 - acc: 0.9385 - val_loss: 0.0918 - val_acc: 0.9149\n",
      "Epoch 8/100\n",
      "14157/14157 [==============================] - 12s 877us/step - loss: 0.0761 - acc: 0.9409 - val_loss: 0.0837 - val_acc: 0.9307\n",
      "Epoch 9/100\n",
      "14157/14157 [==============================] - 13s 933us/step - loss: 0.0730 - acc: 0.9427 - val_loss: 0.0829 - val_acc: 0.9250\n",
      "Epoch 10/100\n",
      "14157/14157 [==============================] - 13s 918us/step - loss: 0.0701 - acc: 0.9455 - val_loss: 0.0741 - val_acc: 0.9365\n",
      "Epoch 11/100\n",
      "14157/14157 [==============================] - 13s 900us/step - loss: 0.0694 - acc: 0.9445 - val_loss: 0.0797 - val_acc: 0.9295\n",
      "Epoch 12/100\n",
      "14157/14157 [==============================] - 13s 917us/step - loss: 0.0682 - acc: 0.9464 - val_loss: 0.0644 - val_acc: 0.9466\n",
      "Epoch 13/100\n",
      "14157/14157 [==============================] - 13s 933us/step - loss: 0.0653 - acc: 0.9469 - val_loss: 0.0642 - val_acc: 0.9435\n",
      "Epoch 14/100\n",
      "14157/14157 [==============================] - 13s 930us/step - loss: 0.0648 - acc: 0.9479 - val_loss: 0.0671 - val_acc: 0.9428\n",
      "Epoch 15/100\n",
      "14157/14157 [==============================] - 13s 904us/step - loss: 0.0611 - acc: 0.9507 - val_loss: 0.0704 - val_acc: 0.9377\n",
      "Epoch 16/100\n",
      "14157/14157 [==============================] - 13s 925us/step - loss: 0.0597 - acc: 0.9525 - val_loss: 0.0660 - val_acc: 0.9416\n",
      "Epoch 17/100\n",
      "14157/14157 [==============================] - 13s 922us/step - loss: 0.0584 - acc: 0.9520 - val_loss: 0.0692 - val_acc: 0.9333\n",
      "Epoch 18/100\n",
      "14157/14157 [==============================] - 13s 886us/step - loss: 0.0586 - acc: 0.9515 - val_loss: 0.0638 - val_acc: 0.9435\n",
      "Epoch 19/100\n",
      "14157/14157 [==============================] - 12s 820us/step - loss: 0.0556 - acc: 0.9548 - val_loss: 0.0664 - val_acc: 0.9416\n",
      "Epoch 20/100\n",
      "14157/14157 [==============================] - 13s 922us/step - loss: 0.0557 - acc: 0.9536 - val_loss: 0.0653 - val_acc: 0.9384\n",
      "Epoch 21/100\n",
      "14157/14157 [==============================] - 11s 794us/step - loss: 0.0534 - acc: 0.9566 - val_loss: 0.0573 - val_acc: 0.9511\n",
      "Epoch 22/100\n",
      "14157/14157 [==============================] - 11s 797us/step - loss: 0.0543 - acc: 0.9548 - val_loss: 0.0572 - val_acc: 0.9530s: 0.0543 - acc: - ETA: 1s - - ETA: 0s - loss: 0.0539 - acc\n",
      "Epoch 23/100\n",
      "14157/14157 [==============================] - 14s 979us/step - loss: 0.0511 - acc: 0.9572 - val_loss: 0.0625 - val_acc: 0.9517\n",
      "Epoch 24/100\n",
      "14157/14157 [==============================] - 13s 947us/step - loss: 0.0506 - acc: 0.9579 - val_loss: 0.0744 - val_acc: 0.9346\n",
      "Epoch 25/100\n",
      "14157/14157 [==============================] - 14s 972us/step - loss: 0.0497 - acc: 0.9592 - val_loss: 0.0834 - val_acc: 0.9193\n",
      "Epoch 26/100\n",
      "14157/14157 [==============================] - 13s 922us/step - loss: 0.0501 - acc: 0.9573 - val_loss: 0.0694 - val_acc: 0.9435\n",
      "Epoch 27/100\n",
      "14157/14157 [==============================] - 13s 931us/step - loss: 0.0472 - acc: 0.9609 - val_loss: 0.0700 - val_acc: 0.9327\n",
      "Epoch 28/100\n",
      "14157/14157 [==============================] - 13s 953us/step - loss: 0.0494 - acc: 0.9576 - val_loss: 0.0666 - val_acc: 0.9422\n",
      "Epoch 29/100\n",
      "14157/14157 [==============================] - 13s 891us/step - loss: 0.0453 - acc: 0.9614 - val_loss: 0.0734 - val_acc: 0.9333\n",
      "Epoch 30/100\n",
      "14157/14157 [==============================] - 12s 873us/step - loss: 0.0489 - acc: 0.9580 - val_loss: 0.0728 - val_acc: 0.9358\n",
      "Epoch 31/100\n",
      "14157/14157 [==============================] - 12s 860us/step - loss: 0.0594 - acc: 0.9501 - val_loss: 0.0615 - val_acc: 0.9466\n",
      "Epoch 32/100\n",
      "14157/14157 [==============================] - 13s 912us/step - loss: 0.0498 - acc: 0.9583 - val_loss: 0.0609 - val_acc: 0.9504\n",
      "Epoch 33/100\n",
      "14157/14157 [==============================] - 13s 886us/step - loss: 0.0448 - acc: 0.9616 - val_loss: 0.0723 - val_acc: 0.9333\n",
      "Epoch 34/100\n",
      "14157/14157 [==============================] - 13s 947us/step - loss: 0.0440 - acc: 0.9612 - val_loss: 0.0716 - val_acc: 0.9409\n",
      "Epoch 35/100\n",
      "14157/14157 [==============================] - 14s 957us/step - loss: 0.0415 - acc: 0.9653 - val_loss: 0.0674 - val_acc: 0.94661s - loss: 0.\n",
      "Epoch 36/100\n",
      "14157/14157 [==============================] - 13s 951us/step - loss: 0.0420 - acc: 0.9640 - val_loss: 0.0745 - val_acc: 0.9428\n",
      "Epoch 37/100\n",
      "14157/14157 [==============================] - 14s 965us/step - loss: 0.0407 - acc: 0.9652 - val_loss: 0.0769 - val_acc: 0.9390 ac - ETA: 3s - loss -\n",
      "Epoch 38/100\n",
      "14157/14157 [==============================] - 14s 972us/step - loss: 0.0410 - acc: 0.9655 - val_loss: 0.0730 - val_acc: 0.9365\n",
      "Epoch 39/100\n",
      "14157/14157 [==============================] - 14s 973us/step - loss: 0.0396 - acc: 0.9662 - val_loss: 0.0756 - val_acc: 0.9346\n",
      "Epoch 40/100\n",
      "14157/14157 [==============================] - 14s 975us/step - loss: 0.0381 - acc: 0.9676 - val_loss: 0.0801 - val_acc: 0.9396\n",
      "Epoch 41/100\n",
      "14157/14157 [==============================] - 14s 969us/step - loss: 0.0390 - acc: 0.9666 - val_loss: 0.0648 - val_acc: 0.9441\n",
      "Epoch 42/100\n",
      "14157/14157 [==============================] - 14s 975us/step - loss: 0.0376 - acc: 0.9679 - val_loss: 0.0765 - val_acc: 0.94660377 - acc: 0.96 - ETA: 0s - loss: 0.0\n",
      "Epoch 43/100\n",
      "14157/14157 [==============================] - 14s 977us/step - loss: 0.0409 - acc: 0.9648 - val_loss: 0.0686 - val_acc: 0.9441oss: - ETA: 2s - loss: 0.04 - ETA: 1s -\n",
      "Epoch 44/100\n",
      "14157/14157 [==============================] - 14s 976us/step - loss: 0.0374 - acc: 0.9690 - val_loss: 0.0755 - val_acc: 0.9352\n",
      "Epoch 45/100\n",
      "14157/14157 [==============================] - 14s 985us/step - loss: 0.0369 - acc: 0.9681 - val_loss: 0.0655 - val_acc: 0.9485\n",
      "Epoch 46/100\n",
      "14157/14157 [==============================] - 14s 987us/step - loss: 0.0350 - acc: 0.9708 - val_loss: 0.0716 - val_acc: 0.9358\n",
      "Epoch 47/100\n",
      "14157/14157 [==============================] - 14s 993us/step - loss: 0.0359 - acc: 0.9694 - val_loss: 0.0762 - val_acc: 0.9492\n",
      "Epoch 48/100\n",
      "14157/14157 [==============================] - 14s 1000us/step - loss: 0.0363 - acc: 0.9685 - val_loss: 0.0760 - val_acc: 0.9403\n",
      "Epoch 49/100\n",
      "14157/14157 [==============================] - 14s 975us/step - loss: 0.0340 - acc: 0.9722 - val_loss: 0.0750 - val_acc: 0.9435\n",
      "Epoch 50/100\n",
      "14157/14157 [==============================] - 14s 992us/step - loss: 0.0346 - acc: 0.9699 - val_loss: 0.0857 - val_acc: 0.9384s - loss: 0.0340 \n",
      "Epoch 51/100\n",
      "14157/14157 [==============================] - 14s 982us/step - loss: 0.0335 - acc: 0.9712 - val_loss: 0.0678 - val_acc: 0.9428\n",
      "Epoch 52/100\n",
      "14157/14157 [==============================] - 13s 945us/step - loss: 0.0340 - acc: 0.9698 - val_loss: 0.0910 - val_acc: 0.9416\n",
      "Epoch 53/100\n",
      "14157/14157 [==============================] - 13s 948us/step - loss: 0.0322 - acc: 0.9730 - val_loss: 0.0702 - val_acc: 0.9479\n",
      "Epoch 54/100\n",
      "14157/14157 [==============================] - 14s 971us/step - loss: 0.0332 - acc: 0.9721 - val_loss: 0.0712 - val_acc: 0.9396\n",
      "Epoch 55/100\n"
     ]
    },
    {
     "name": "stdout",
     "output_type": "stream",
     "text": [
      "14157/14157 [==============================] - 12s 876us/step - loss: 0.0321 - acc: 0.9715 - val_loss: 0.0684 - val_acc: 0.9466\n",
      "Epoch 56/100\n",
      "14157/14157 [==============================] - 12s 859us/step - loss: 0.0344 - acc: 0.9691 - val_loss: 0.0795 - val_acc: 0.9396\n",
      "Epoch 57/100\n",
      "14157/14157 [==============================] - 12s 816us/step - loss: 0.0331 - acc: 0.9708 - val_loss: 0.0771 - val_acc: 0.9403\n",
      "Epoch 58/100\n",
      "14157/14157 [==============================] - 13s 937us/step - loss: 0.0343 - acc: 0.9701 - val_loss: 0.0708 - val_acc: 0.9422\n",
      "Epoch 59/100\n",
      "14157/14157 [==============================] - 13s 943us/step - loss: 0.0307 - acc: 0.9739 - val_loss: 0.0763 - val_acc: 0.9403: 0.0306 - acc: 0.97\n",
      "Epoch 60/100\n",
      "14157/14157 [==============================] - 14s 973us/step - loss: 0.0299 - acc: 0.9734 - val_loss: 0.0719 - val_acc: 0.9428\n",
      "Epoch 61/100\n",
      "14157/14157 [==============================] - 10s 700us/step - loss: 0.0310 - acc: 0.9721 - val_loss: 0.0733 - val_acc: 0.9403\n",
      "Epoch 62/100\n",
      "14157/14157 [==============================] - 11s 775us/step - loss: 0.0292 - acc: 0.9751 - val_loss: 0.0827 - val_acc: 0.9358\n",
      "Epoch 63/100\n",
      "14157/14157 [==============================] - 13s 930us/step - loss: 0.0314 - acc: 0.9721 - val_loss: 0.0751 - val_acc: 0.94167 - ac\n",
      "Epoch 64/100\n",
      "14157/14157 [==============================] - 13s 890us/step - loss: 0.0320 - acc: 0.9722 - val_loss: 0.0720 - val_acc: 0.9435\n",
      "Epoch 65/100\n",
      "14157/14157 [==============================] - 13s 888us/step - loss: 0.0295 - acc: 0.9746 - val_loss: 0.0737 - val_acc: 0.9396\n",
      "Epoch 66/100\n",
      "14157/14157 [==============================] - 13s 937us/step - loss: 0.0293 - acc: 0.9746 - val_loss: 0.0716 - val_acc: 0.9422\n",
      "Epoch 67/100\n",
      "14157/14157 [==============================] - 13s 944us/step - loss: 0.0294 - acc: 0.9741 - val_loss: 0.0820 - val_acc: 0.9403 - loss: 0.0295 - acc\n",
      "Epoch 68/100\n",
      "14157/14157 [==============================] - 13s 949us/step - loss: 0.0303 - acc: 0.9737 - val_loss: 0.0825 - val_acc: 0.9377\n",
      "Epoch 69/100\n",
      "14157/14157 [==============================] - 13s 946us/step - loss: 0.0298 - acc: 0.9728 - val_loss: 0.0745 - val_acc: 0.9422\n",
      "Epoch 70/100\n",
      "14157/14157 [==============================] - 13s 917us/step - loss: 0.0285 - acc: 0.9746 - val_loss: 0.0873 - val_acc: 0.9358\n",
      "Epoch 71/100\n",
      "14157/14157 [==============================] - 13s 940us/step - loss: 0.0285 - acc: 0.9743 - val_loss: 0.0871 - val_acc: 0.9435\n",
      "Epoch 72/100\n",
      "14157/14157 [==============================] - 14s 989us/step - loss: 0.0275 - acc: 0.9758 - val_loss: 0.0723 - val_acc: 0.9447\n",
      "Epoch 73/100\n",
      "14157/14157 [==============================] - 14s 962us/step - loss: 0.0276 - acc: 0.9751 - val_loss: 0.0830 - val_acc: 0.9403\n",
      "Epoch 74/100\n",
      "14157/14157 [==============================] - 14s 968us/step - loss: 0.0269 - acc: 0.9754 - val_loss: 0.0787 - val_acc: 0.9390\n",
      "Epoch 75/100\n",
      "14157/14157 [==============================] - 14s 954us/step - loss: 0.0325 - acc: 0.9715 - val_loss: 0.0724 - val_acc: 0.9428 0.\n",
      "Epoch 76/100\n",
      "14157/14157 [==============================] - 13s 939us/step - loss: 0.0268 - acc: 0.9761 - val_loss: 0.0845 - val_acc: 0.9454\n",
      "Epoch 77/100\n",
      "14157/14157 [==============================] - 13s 944us/step - loss: 0.0264 - acc: 0.9763 - val_loss: 0.0808 - val_acc: 0.9384- loss: 0.0261 - acc: 0. - ETA: 3s - loss: 0.0263\n",
      "Epoch 78/100\n",
      "14157/14157 [==============================] - 13s 912us/step - loss: 0.0260 - acc: 0.9766 - val_loss: 0.0825 - val_acc: 0.9403\n",
      "Epoch 79/100\n",
      "14157/14157 [==============================] - 13s 952us/step - loss: 0.0295 - acc: 0.9732 - val_loss: 0.0912 - val_acc: 0.9384\n",
      "Epoch 80/100\n",
      "14157/14157 [==============================] - 13s 940us/step - loss: 0.0270 - acc: 0.9747 - val_loss: 0.0765 - val_acc: 0.9416\n",
      "Epoch 81/100\n",
      "14157/14157 [==============================] - 13s 925us/step - loss: 0.0261 - acc: 0.9773 - val_loss: 0.0667 - val_acc: 0.9549 - loss: 0.0\n",
      "Epoch 82/100\n",
      "14157/14157 [==============================] - 14s 954us/step - loss: 0.0260 - acc: 0.9768 - val_loss: 0.0751 - val_acc: 0.9428\n",
      "Epoch 83/100\n",
      "14157/14157 [==============================] - 14s 959us/step - loss: 0.0269 - acc: 0.9752 - val_loss: 0.0762 - val_acc: 0.9422\n",
      "Epoch 84/100\n",
      "14157/14157 [==============================] - 13s 944us/step - loss: 0.0255 - acc: 0.9775 - val_loss: 0.0749 - val_acc: 0.9492lo - ETA: 0s - loss: 0.0256 -\n",
      "Epoch 85/100\n",
      "14157/14157 [==============================] - 13s 951us/step - loss: 0.0252 - acc: 0.9773 - val_loss: 0.0906 - val_acc: 0.9492\n",
      "Epoch 86/100\n",
      "14157/14157 [==============================] - 14s 955us/step - loss: 0.0285 - acc: 0.9751 - val_loss: 0.0762 - val_acc: 0.9403\n",
      "Epoch 87/100\n",
      "14157/14157 [==============================] - 14s 954us/step - loss: 0.0258 - acc: 0.9775 - val_loss: 0.0851 - val_acc: 0.9307\n",
      "Epoch 88/100\n",
      "14157/14157 [==============================] - 12s 846us/step - loss: 0.0247 - acc: 0.9775 - val_loss: 0.0761 - val_acc: 0.9422\n",
      "Epoch 89/100\n",
      "14157/14157 [==============================] - 13s 909us/step - loss: 0.0240 - acc: 0.9794 - val_loss: 0.0849 - val_acc: 0.9396\n",
      "Epoch 90/100\n",
      "14157/14157 [==============================] - 14s 988us/step - loss: 0.0241 - acc: 0.9780 - val_loss: 0.0878 - val_acc: 0.9365\n",
      "Epoch 91/100\n",
      "14157/14157 [==============================] - 13s 950us/step - loss: 0.0236 - acc: 0.9782 - val_loss: 0.0806 - val_acc: 0.9466\n",
      "Epoch 92/100\n",
      "14157/14157 [==============================] - 13s 949us/step - loss: 0.0241 - acc: 0.9790 - val_loss: 0.0802 - val_acc: 0.9435\n",
      "Epoch 93/100\n",
      "14157/14157 [==============================] - 13s 941us/step - loss: 0.0302 - acc: 0.9725 - val_loss: 0.0792 - val_acc: 0.9422\n",
      "Epoch 94/100\n",
      "14157/14157 [==============================] - 13s 942us/step - loss: 0.0247 - acc: 0.9775 - val_loss: 0.0955 - val_acc: 0.9403\n",
      "Epoch 95/100\n",
      "14157/14157 [==============================] - 16s 1ms/step - loss: 0.0230 - acc: 0.9800 - val_loss: 0.0818 - val_acc: 0.9466\n",
      "Epoch 96/100\n",
      "14157/14157 [==============================] - 14s 956us/step - loss: 0.0230 - acc: 0.9795 - val_loss: 0.0707 - val_acc: 0.9492\n",
      "Epoch 97/100\n",
      "14157/14157 [==============================] - 14s 982us/step - loss: 0.0240 - acc: 0.9785 - val_loss: 0.0835 - val_acc: 0.9428oss: 0\n",
      "Epoch 98/100\n",
      "14157/14157 [==============================] - 14s 984us/step - loss: 0.0238 - acc: 0.9791 - val_loss: 0.0852 - val_acc: 0.9428\n",
      "Epoch 99/100\n",
      "14157/14157 [==============================] - 13s 954us/step - loss: 0.0224 - acc: 0.9795 - val_loss: 0.0778 - val_acc: 0.9454\n",
      "Epoch 100/100\n",
      "14157/14157 [==============================] - 13s 942us/step - loss: 0.0252 - acc: 0.9777 - val_loss: 0.0998 - val_acc: 0.9288\n",
      "Wall time: 22min 1s\n"
     ]
    },
    {
     "data": {
      "text/plain": [
       "<keras.callbacks.History at 0x2612119db38>"
      ]
     },
     "execution_count": 24,
     "metadata": {},
     "output_type": "execute_result"
    }
   ],
   "source": [
    "%%time\n",
    "# fit the model\n",
    "model1.fit(x_train, y_train, epochs=100, batch_size=64, validation_split=0.1, verbose=1, class_weight = cls_wt,\n",
    "          callbacks = [history])"
   ]
  },
  {
   "cell_type": "code",
   "execution_count": 28,
   "metadata": {},
   "outputs": [
    {
     "data": {
      "text/plain": [
       "Text(0.5, 1.0, 'Loss')"
      ]
     },
     "execution_count": 28,
     "metadata": {},
     "output_type": "execute_result"
    },
    {
     "data": {
      "image/png": "[encoded data removed]",
      "text/plain": [
       "<Figure size 720x288 with 2 Axes>"
      ]
     },
     "metadata": {
      "needs_background": "light"
     },
     "output_type": "display_data"
    }
   ],
   "source": [
    "fig, ax = plt.subplots(nrows = 1, ncols = 2, figsize = (10, 4))\n",
    "\n",
    "# Accuracy\n",
    "ax[0].plot(history.history['acc'])\n",
    "ax[0].plot(history.history['val_acc'])\n",
    "ax[0].set_ylabel('Accuracy')\n",
    "ax[0].set_xlabel('# Epoch')\n",
    "ax[0].legend(['train', 'validation'], loc='upper left')\n",
    "ax[0].set_title('Accuracy')\n",
    "\n",
    "# Loss\n",
    "ax[1].plot(history.history['loss'])\n",
    "ax[1].plot(history.history['val_loss'])\n",
    "ax[1].set_ylabel('Loss')\n",
    "ax[1].set_xlabel('# Epoch')\n",
    "ax[1].legend(['train', 'validation'], loc='upper left')\n",
    "ax[1].set_title('Loss')"
   ]
  },
  {
   "cell_type": "code",
   "execution_count": 26,
   "metadata": {},
   "outputs": [
    {
     "name": "stdout",
     "output_type": "stream",
     "text": [
      "F1 Score:  0.9375\n",
      "              precision    recall  f1-score   support\n",
      "\n",
      "           0       1.00      0.94      0.97        70\n",
      "           1       0.88      1.00      0.94        30\n",
      "\n",
      "    accuracy                           0.96       100\n",
      "   macro avg       0.94      0.97      0.95       100\n",
      "weighted avg       0.96      0.96      0.96       100\n",
      "\n",
      "Area under curve :  0.9714285714285714 \n",
      "\n"
     ]
    },
    {
     "data": {
      "image/png": "[encoded data removed]",
      "text/plain": [
       "<Figure size 864x864 with 3 Axes>"
      ]
     },
     "metadata": {
      "needs_background": "light"
     },
     "output_type": "display_data"
    }
   ],
   "source": [
    "y_pred = model1.predict_classes(x_test)\n",
    "\n",
    "print_results(y_true.failure, y_pred)"
   ]
  },
  {
   "cell_type": "code",
   "execution_count": 27,
   "metadata": {},
   "outputs": [
    {
     "data": {
      "text/plain": [
       "array([[10298,   433],\n",
       "       [   62,  4938]], dtype=int64)"
      ]
     },
     "execution_count": 27,
     "metadata": {},
     "output_type": "execute_result"
    }
   ],
   "source": [
    "confusion_matrix(y_train, model1.predict_classes(x_train))"
   ]
  },
  {
   "cell_type": "markdown",
   "metadata": {},
   "source": [
    "Eventhough we get very good results, there is an overfitting which can be seen in the Loss graph. After 25 epochs, the loss of validation set is increasing and loss of training set keeps on decreasing. Also, the accuracy of validation set remains constant after 25 epochs."
   ]
  },
  {
   "cell_type": "markdown",
   "metadata": {},
   "source": [
    "#### Model 2"
   ]
  },
  {
   "cell_type": "markdown",
   "metadata": {},
   "source": [
    "Model 2 is same as Model 1 but the early stopping is implemented to stop overfitting. "
   ]
  },
  {
   "cell_type": "code",
   "execution_count": 29,
   "metadata": {},
   "outputs": [
    {
     "name": "stdout",
     "output_type": "stream",
     "text": [
      "_________________________________________________________________\n",
      "Layer (type)                 Output Shape              Param #   \n",
      "=================================================================\n",
      "lstm_2 (LSTM)                (None, 4)                 320       \n",
      "_________________________________________________________________\n",
      "dense_2 (Dense)              (None, 1)                 5         \n",
      "=================================================================\n",
      "Total params: 325\n",
      "Trainable params: 325\n",
      "Non-trainable params: 0\n",
      "_________________________________________________________________\n"
     ]
    }
   ],
   "source": [
    "history = History()\n",
    "\n",
    "model2 = Sequential()\n",
    "model2.add(LSTM(\n",
    "         units=4,\n",
    "         return_sequences=False,\n",
    "         input_shape=(sequence_length, nb_features)))\n",
    "model2.add(Dense(units=1, activation='sigmoid'))\n",
    "model2.compile(loss=\"binary_crossentropy\", optimizer=\"adam\", metrics=['accuracy'])\n",
    "\n",
    "model2.summary()"
   ]
  },
  {
   "cell_type": "code",
   "execution_count": 31,
   "metadata": {
    "scrolled": true
   },
   "outputs": [
    {
     "name": "stdout",
     "output_type": "stream",
     "text": [
      "Train on 14157 samples, validate on 1574 samples\n",
      "Epoch 1/100\n",
      "14157/14157 [==============================] - 16s 1ms/step - loss: 0.2193 - acc: 0.8452 - val_loss: 0.1673 - val_acc: 0.8971\n",
      "Epoch 2/100\n",
      "14157/14157 [==============================] - 13s 945us/step - loss: 0.1499 - acc: 0.8996 - val_loss: 0.1403 - val_acc: 0.8907\n",
      "Epoch 3/100\n",
      "14157/14157 [==============================] - 13s 947us/step - loss: 0.1219 - acc: 0.9140 - val_loss: 0.1130 - val_acc: 0.9155\n",
      "Epoch 4/100\n",
      "14157/14157 [==============================] - 13s 923us/step - loss: 0.1043 - acc: 0.9277 - val_loss: 0.0993 - val_acc: 0.9269\n",
      "Epoch 5/100\n",
      "14157/14157 [==============================] - 13s 934us/step - loss: 0.0939 - acc: 0.9339 - val_loss: 0.0924 - val_acc: 0.9282\n",
      "Epoch 6/100\n",
      "14157/14157 [==============================] - 15s 1ms/step - loss: 0.0873 - acc: 0.9361 - val_loss: 0.0896 - val_acc: 0.9295\n",
      "Epoch 7/100\n",
      "14157/14157 [==============================] - 13s 934us/step - loss: 0.0818 - acc: 0.9398 - val_loss: 0.0801 - val_acc: 0.9352\n",
      "Epoch 8/100\n",
      "14157/14157 [==============================] - 13s 940us/step - loss: 0.0781 - acc: 0.9412 - val_loss: 0.0721 - val_acc: 0.9390\n",
      "Epoch 9/100\n",
      "14157/14157 [==============================] - 13s 922us/step - loss: 0.0738 - acc: 0.9424 - val_loss: 0.0657 - val_acc: 0.9416\n",
      "Epoch 10/100\n",
      "14157/14157 [==============================] - 13s 934us/step - loss: 0.0701 - acc: 0.9438 - val_loss: 0.0629 - val_acc: 0.9396\n",
      "Epoch 11/100\n",
      "14157/14157 [==============================] - 13s 928us/step - loss: 0.0680 - acc: 0.9456 - val_loss: 0.0631 - val_acc: 0.9333\n",
      "Epoch 12/100\n",
      "14157/14157 [==============================] - 13s 921us/step - loss: 0.0665 - acc: 0.9458 - val_loss: 0.0684 - val_acc: 0.9320\n",
      "Epoch 13/100\n",
      "14157/14157 [==============================] - 13s 952us/step - loss: 0.0632 - acc: 0.9479 - val_loss: 0.0621 - val_acc: 0.9339: 0s - loss: 0.0634 - ac\n",
      "Epoch 14/100\n",
      "14157/14157 [==============================] - 13s 941us/step - loss: 0.0594 - acc: 0.9498 - val_loss: 0.0590 - val_acc: 0.9339\n",
      "Epoch 15/100\n",
      "14157/14157 [==============================] - 13s 943us/step - loss: 0.0588 - acc: 0.9496 - val_loss: 0.0546 - val_acc: 0.9403\n",
      "Epoch 16/100\n",
      "14157/14157 [==============================] - 13s 946us/step - loss: 0.0567 - acc: 0.9509 - val_loss: 0.0574 - val_acc: 0.9358 a\n",
      "Epoch 17/100\n",
      "14157/14157 [==============================] - 13s 937us/step - loss: 0.0539 - acc: 0.9549 - val_loss: 0.0605 - val_acc: 0.9282\n",
      "Epoch 18/100\n",
      "14157/14157 [==============================] - 13s 936us/step - loss: 0.0533 - acc: 0.9552 - val_loss: 0.0542 - val_acc: 0.9390\n",
      "Epoch 19/100\n",
      "14157/14157 [==============================] - 13s 946us/step - loss: 0.0518 - acc: 0.9566 - val_loss: 0.0582 - val_acc: 0.9314\n",
      "Epoch 20/100\n",
      "14157/14157 [==============================] - 13s 947us/step - loss: 0.0518 - acc: 0.9556 - val_loss: 0.0625 - val_acc: 0.9238\n",
      "Epoch 21/100\n",
      "14157/14157 [==============================] - 13s 932us/step - loss: 0.0488 - acc: 0.9572 - val_loss: 0.0566 - val_acc: 0.9301\n",
      "Epoch 22/100\n",
      "14157/14157 [==============================] - 13s 931us/step - loss: 0.0484 - acc: 0.9563 - val_loss: 0.0525 - val_acc: 0.9358 - loss: 0.0493 - a\n",
      "Epoch 23/100\n",
      "14157/14157 [==============================] - 13s 901us/step - loss: 0.0463 - acc: 0.9580 - val_loss: 0.0765 - val_acc: 0.9072\n",
      "Epoch 24/100\n",
      "14157/14157 [==============================] - 15s 1ms/step - loss: 0.0453 - acc: 0.9594 - val_loss: 0.0489 - val_acc: 0.9409acc: \n",
      "Epoch 25/100\n",
      "14157/14157 [==============================] - 14s 956us/step - loss: 0.0444 - acc: 0.9588 - val_loss: 0.0525 - val_acc: 0.9377.044\n",
      "Epoch 26/100\n",
      "14157/14157 [==============================] - 14s 958us/step - loss: 0.0424 - acc: 0.9623 - val_loss: 0.0483 - val_acc: 0.9403\n",
      "Epoch 27/100\n",
      "14157/14157 [==============================] - 13s 943us/step - loss: 0.0430 - acc: 0.9602 - val_loss: 0.0489 - val_acc: 0.9403\n",
      "Epoch 28/100\n",
      "14157/14157 [==============================] - 13s 952us/step - loss: 0.0422 - acc: 0.9619 - val_loss: 0.0575 - val_acc: 0.9301\n",
      "Epoch 29/100\n",
      "14157/14157 [==============================] - 13s 951us/step - loss: 0.0416 - acc: 0.9611 - val_loss: 0.0550 - val_acc: 0.9244\n",
      "Epoch 30/100\n",
      "14157/14157 [==============================] - 13s 923us/step - loss: 0.0416 - acc: 0.9606 - val_loss: 0.0532 - val_acc: 0.9371\n",
      "Epoch 31/100\n",
      "14157/14157 [==============================] - 13s 948us/step - loss: 0.0409 - acc: 0.9624 - val_loss: 0.0454 - val_acc: 0.9416\n",
      "Epoch 32/100\n",
      "14157/14157 [==============================] - 13s 936us/step - loss: 0.0397 - acc: 0.9643 - val_loss: 0.0517 - val_acc: 0.9422\n",
      "Epoch 33/100\n",
      "14157/14157 [==============================] - 13s 941us/step - loss: 0.0392 - acc: 0.9632 - val_loss: 0.0490 - val_acc: 0.9460.0389 - \n",
      "Epoch 34/100\n",
      "14157/14157 [==============================] - 13s 941us/step - loss: 0.0385 - acc: 0.9633 - val_loss: 0.0465 - val_acc: 0.9409\n",
      "Epoch 35/100\n",
      "14157/14157 [==============================] - 13s 940us/step - loss: 0.0381 - acc: 0.9643 - val_loss: 0.0518 - val_acc: 0.9371\n",
      "Epoch 36/100\n",
      "14157/14157 [==============================] - 13s 932us/step - loss: 0.0375 - acc: 0.9643 - val_loss: 0.0621 - val_acc: 0.9263\n",
      "Epoch 37/100\n",
      "14157/14157 [==============================] - 13s 937us/step - loss: 0.0368 - acc: 0.9654 - val_loss: 0.0454 - val_acc: 0.9422 7s - loss: 0. - ETA: 6s - loss: \n",
      "Epoch 38/100\n",
      "14157/14157 [==============================] - 13s 947us/step - loss: 0.0362 - acc: 0.9658 - val_loss: 0.0498 - val_acc: 0.9320\n",
      "Epoch 39/100\n",
      "14157/14157 [==============================] - 13s 947us/step - loss: 0.0362 - acc: 0.9658 - val_loss: 0.0561 - val_acc: 0.9276\n",
      "Epoch 40/100\n",
      "14157/14157 [==============================] - 13s 942us/step - loss: 0.0360 - acc: 0.9656 - val_loss: 0.0651 - val_acc: 0.9225\n",
      "Epoch 41/100\n",
      "14157/14157 [==============================] - 13s 928us/step - loss: 0.0352 - acc: 0.9659 - val_loss: 0.0500 - val_acc: 0.9422\n",
      "Epoch 42/100\n",
      "14157/14157 [==============================] - 21s 2ms/step - loss: 0.0360 - acc: 0.9648 - val_loss: 0.0509 - val_acc: 0.9320\n",
      "Epoch 43/100\n",
      "14157/14157 [==============================] - 21s 2ms/step - loss: 0.0354 - acc: 0.9652 - val_loss: 0.0480 - val_acc: 0.9358\n",
      "Epoch 44/100\n",
      "14157/14157 [==============================] - 22s 2ms/step - loss: 0.0347 - acc: 0.9664 - val_loss: 0.0490 - val_acc: 0.9441\n",
      "Epoch 45/100\n",
      "14157/14157 [==============================] - 22s 2ms/step - loss: 0.0351 - acc: 0.9664 - val_loss: 0.0531 - val_acc: 0.9327\n",
      "Epoch 46/100\n",
      "14157/14157 [==============================] - 23s 2ms/step - loss: 0.0347 - acc: 0.9658 - val_loss: 0.0496 - val_acc: 0.9396\n",
      "Epoch 47/100\n",
      "14157/14157 [==============================] - 22s 2ms/step - loss: 0.0348 - acc: 0.9670 - val_loss: 0.0414 - val_acc: 0.9460\n",
      "Epoch 48/100\n",
      "14157/14157 [==============================] - 21s 1ms/step - loss: 0.0348 - acc: 0.9658 - val_loss: 0.0530 - val_acc: 0.9314\n",
      "Epoch 49/100\n",
      "14157/14157 [==============================] - 22s 2ms/step - loss: 0.0342 - acc: 0.9672 - val_loss: 0.0394 - val_acc: 0.9466\n",
      "Epoch 50/100\n",
      "14157/14157 [==============================] - 22s 2ms/step - loss: 0.0338 - acc: 0.9669 - val_loss: 0.0464 - val_acc: 0.9441\n",
      "Epoch 51/100\n",
      "14157/14157 [==============================] - 22s 2ms/step - loss: 0.0334 - acc: 0.9664 - val_loss: 0.0425 - val_acc: 0.9498\n",
      "Epoch 52/100\n",
      "14157/14157 [==============================] - 22s 2ms/step - loss: 0.0328 - acc: 0.9672 - val_loss: 0.0431 - val_acc: 0.9454\n",
      "Epoch 53/100\n",
      "14157/14157 [==============================] - 22s 2ms/step - loss: 0.0323 - acc: 0.9686 - val_loss: 0.0378 - val_acc: 0.9536\n",
      "Epoch 54/100\n",
      "14157/14157 [==============================] - 22s 2ms/step - loss: 0.0326 - acc: 0.9694 - val_loss: 0.0477 - val_acc: 0.9428\n",
      "Epoch 55/100\n",
      "14157/14157 [==============================] - 1518s 107ms/step - loss: 0.0325 - acc: 0.9680 - val_loss: 0.0427 - val_acc: 0.9416\n",
      "Epoch 56/100\n",
      "14157/14157 [==============================] - 27327s 2s/step - loss: 0.0340 - acc: 0.9674 - val_loss: 0.0427 - val_acc: 0.9473\n",
      "Epoch 57/100\n",
      "14157/14157 [==============================] - 12s 825us/step - loss: 0.0319 - acc: 0.9697 - val_loss: 0.0425 - val_acc: 0.9435\n",
      "Epoch 58/100\n"
     ]
    },
    {
     "name": "stdout",
     "output_type": "stream",
     "text": [
      "14157/14157 [==============================] - 6s 445us/step - loss: 0.0317 - acc: 0.9684 - val_loss: 0.0415 - val_acc: 0.9416\n",
      "Epoch 59/100\n",
      "14157/14157 [==============================] - 6s 417us/step - loss: 0.0317 - acc: 0.9707 - val_loss: 0.0428 - val_acc: 0.9473\n",
      "Epoch 60/100\n",
      "14157/14157 [==============================] - 6s 402us/step - loss: 0.0309 - acc: 0.9696 - val_loss: 0.0501 - val_acc: 0.9416\n",
      "Epoch 61/100\n",
      "14157/14157 [==============================] - 6s 411us/step - loss: 0.0303 - acc: 0.9701 - val_loss: 0.0422 - val_acc: 0.9460\n",
      "Epoch 62/100\n",
      "14157/14157 [==============================] - 7s 465us/step - loss: 0.0302 - acc: 0.9695 - val_loss: 0.0432 - val_acc: 0.9454\n",
      "Epoch 63/100\n",
      "14157/14157 [==============================] - 6s 438us/step - loss: 0.0296 - acc: 0.9718 - val_loss: 0.0431 - val_acc: 0.9473\n",
      "Wall time: 8h 15min 31s\n"
     ]
    },
    {
     "data": {
      "text/plain": [
       "<keras.callbacks.History at 0x261260b28d0>"
      ]
     },
     "execution_count": 31,
     "metadata": {},
     "output_type": "execute_result"
    }
   ],
   "source": [
    "%%time\n",
    "# fit the model\n",
    "model2.fit(x_train, y_train, epochs=100, batch_size=64, validation_split=0.1, verbose=1, class_weight = cls_wt,\n",
    "          callbacks = [history,\n",
    "                       keras.callbacks.EarlyStopping(monitor='val_loss', min_delta=0, patience=10, verbose=0, mode='auto')])"
   ]
  },
  {
   "cell_type": "code",
   "execution_count": 32,
   "metadata": {},
   "outputs": [
    {
     "data": {
      "text/plain": [
       "Text(0.5, 1.0, 'Loss')"
      ]
     },
     "execution_count": 32,
     "metadata": {},
     "output_type": "execute_result"
    },
    {
     "data": {
      "image/png": "[encoded data removed]",
      "text/plain": [
       "<Figure size 720x288 with 2 Axes>"
      ]
     },
     "metadata": {
      "needs_background": "light"
     },
     "output_type": "display_data"
    }
   ],
   "source": [
    "fig, ax = plt.subplots(nrows = 1, ncols = 2, figsize = (10, 4))\n",
    "\n",
    "# Accuracy\n",
    "ax[0].plot(history.history['acc'])\n",
    "ax[0].plot(history.history['val_acc'])\n",
    "ax[0].set_ylabel('Accuracy')\n",
    "ax[0].set_xlabel('# Epoch')\n",
    "ax[0].legend(['train', 'validation'], loc='upper left')\n",
    "ax[0].set_title('Accuracy')\n",
    "\n",
    "# Loss\n",
    "ax[1].plot(history.history['loss'])\n",
    "ax[1].plot(history.history['val_loss'])\n",
    "ax[1].set_ylabel('Loss')\n",
    "ax[1].set_xlabel('# Epoch')\n",
    "ax[1].legend(['train', 'validation'], loc='upper left')\n",
    "ax[1].set_title('Loss')"
   ]
  },
  {
   "cell_type": "code",
   "execution_count": 39,
   "metadata": {},
   "outputs": [
    {
     "name": "stdout",
     "output_type": "stream",
     "text": [
      "F1 Score:  0.8923076923076922\n",
      "              precision    recall  f1-score   support\n",
      "\n",
      "           0       0.98      0.91      0.95        70\n",
      "           1       0.83      0.97      0.89        30\n",
      "\n",
      "    accuracy                           0.93       100\n",
      "   macro avg       0.91      0.94      0.92       100\n",
      "weighted avg       0.94      0.93      0.93       100\n",
      "\n",
      "Area under curve :  0.9404761904761906 \n",
      "\n"
     ]
    },
    {
     "data": {
      "image/png": "[encoded data removed]",
      "text/plain": [
       "<Figure size 864x864 with 3 Axes>"
      ]
     },
     "metadata": {
      "needs_background": "light"
     },
     "output_type": "display_data"
    }
   ],
   "source": [
    "y_pred = model2.predict_classes(x_test)\n",
    "\n",
    "print_results(y_true.failure, y_pred)"
   ]
  },
  {
   "cell_type": "code",
   "execution_count": 40,
   "metadata": {},
   "outputs": [
    {
     "data": {
      "text/plain": [
       "array([[10410,   321],\n",
       "       [  135,  4865]], dtype=int64)"
      ]
     },
     "execution_count": 40,
     "metadata": {},
     "output_type": "execute_result"
    }
   ],
   "source": [
    "confusion_matrix(y_train, model2.predict_classes(x_train))"
   ]
  },
  {
   "cell_type": "markdown",
   "metadata": {},
   "source": [
    "#### Model 3"
   ]
  },
  {
   "cell_type": "markdown",
   "metadata": {},
   "source": [
    "Model 3 is same as Model 2 but dropout is added to further reduce overfitting. "
   ]
  },
  {
   "cell_type": "code",
   "execution_count": 35,
   "metadata": {},
   "outputs": [
    {
     "name": "stdout",
     "output_type": "stream",
     "text": [
      "WARNING:tensorflow:From C:\\Users\\archd\\Anaconda3\\lib\\site-packages\\keras\\backend\\tensorflow_backend.py:3445: calling dropout (from tensorflow.python.ops.nn_ops) with keep_prob is deprecated and will be removed in a future version.\n",
      "Instructions for updating:\n",
      "Please use `rate` instead of `keep_prob`. Rate should be set to `rate = 1 - keep_prob`.\n",
      "_________________________________________________________________\n",
      "Layer (type)                 Output Shape              Param #   \n",
      "=================================================================\n",
      "lstm_3 (LSTM)                (None, 4)                 320       \n",
      "_________________________________________________________________\n",
      "dropout_1 (Dropout)          (None, 4)                 0         \n",
      "_________________________________________________________________\n",
      "dense_3 (Dense)              (None, 1)                 5         \n",
      "=================================================================\n",
      "Total params: 325\n",
      "Trainable params: 325\n",
      "Non-trainable params: 0\n",
      "_________________________________________________________________\n"
     ]
    }
   ],
   "source": [
    "history = History()\n",
    "\n",
    "model3 = Sequential()\n",
    "model3.add(LSTM(\n",
    "         units=4,\n",
    "         return_sequences=False,\n",
    "         input_shape=(sequence_length, nb_features)))\n",
    "model3.add(Dropout(0.25))\n",
    "model3.add(Dense(units=1, activation='sigmoid'))\n",
    "model3.compile(loss=\"binary_crossentropy\", optimizer=\"adam\", metrics=['accuracy'])\n",
    "\n",
    "model3.summary()"
   ]
  },
  {
   "cell_type": "code",
   "execution_count": 41,
   "metadata": {
    "scrolled": true
   },
   "outputs": [
    {
     "name": "stdout",
     "output_type": "stream",
     "text": [
      "Train on 14157 samples, validate on 1574 samples\n",
      "Epoch 1/100\n",
      "14157/14157 [==============================] - 13s 944us/step - loss: 0.1078 - acc: 0.9231 - val_loss: 0.1294 - val_acc: 0.8850\n",
      "Epoch 2/100\n",
      "14157/14157 [==============================] - 14s 958us/step - loss: 0.1022 - acc: 0.9246 - val_loss: 0.1182 - val_acc: 0.9022\n",
      "Epoch 3/100\n",
      "14157/14157 [==============================] - 14s 964us/step - loss: 0.0985 - acc: 0.9287 - val_loss: 0.1069 - val_acc: 0.9072\n",
      "Epoch 4/100\n",
      "14157/14157 [==============================] - 14s 959us/step - loss: 0.0916 - acc: 0.9333 - val_loss: 0.0995 - val_acc: 0.9161\n",
      "Epoch 5/100\n",
      "14157/14157 [==============================] - 14s 959us/step - loss: 0.0886 - acc: 0.9337 - val_loss: 0.1040 - val_acc: 0.8977\n",
      "Epoch 6/100\n",
      "14157/14157 [==============================] - 14s 967us/step - loss: 0.0826 - acc: 0.9359 - val_loss: 0.0929 - val_acc: 0.9155\n",
      "Epoch 7/100\n",
      "14157/14157 [==============================] - 14s 966us/step - loss: 0.0805 - acc: 0.9360 - val_loss: 0.1022 - val_acc: 0.8964\n",
      "Epoch 8/100\n",
      "14157/14157 [==============================] - 14s 959us/step - loss: 0.0799 - acc: 0.9376 - val_loss: 0.0898 - val_acc: 0.9136\n",
      "Epoch 9/100\n",
      "14157/14157 [==============================] - 13s 907us/step - loss: 0.0794 - acc: 0.9392 - val_loss: 0.0808 - val_acc: 0.9276- ETA: 0s - loss: 0.0796 - acc: 0\n",
      "Epoch 10/100\n",
      "14157/14157 [==============================] - 14s 966us/step - loss: 0.0763 - acc: 0.9407 - val_loss: 0.0799 - val_acc: 0.9314\n",
      "Epoch 11/100\n",
      "14157/14157 [==============================] - 14s 959us/step - loss: 0.0763 - acc: 0.9396 - val_loss: 0.0753 - val_acc: 0.9257\n",
      "Epoch 12/100\n",
      "14157/14157 [==============================] - 14s 967us/step - loss: 0.0706 - acc: 0.9428 - val_loss: 0.0791 - val_acc: 0.9219: 0.94 - ETA: 1s - los\n",
      "Epoch 13/100\n",
      "14157/14157 [==============================] - 14s 964us/step - loss: 0.0713 - acc: 0.9422 - val_loss: 0.0745 - val_acc: 0.9339\n",
      "Epoch 14/100\n",
      "14157/14157 [==============================] - 14s 969us/step - loss: 0.0680 - acc: 0.9447 - val_loss: 0.0670 - val_acc: 0.9276\n",
      "Epoch 15/100\n",
      "14157/14157 [==============================] - 14s 986us/step - loss: 0.0642 - acc: 0.9460 - val_loss: 0.0745 - val_acc: 0.9276\n",
      "Epoch 16/100\n",
      "14157/14157 [==============================] - 14s 967us/step - loss: 0.0639 - acc: 0.9484 - val_loss: 0.0694 - val_acc: 0.9384\n",
      "Epoch 17/100\n",
      "14157/14157 [==============================] - 13s 945us/step - loss: 0.0655 - acc: 0.9455 - val_loss: 0.0723 - val_acc: 0.9390\n",
      "Epoch 18/100\n",
      "14157/14157 [==============================] - 14s 956us/step - loss: 0.0617 - acc: 0.9506 - val_loss: 0.0709 - val_acc: 0.9327\n",
      "Epoch 19/100\n",
      "14157/14157 [==============================] - 14s 970us/step - loss: 0.0700 - acc: 0.9438 - val_loss: 0.0540 - val_acc: 0.9403\n",
      "Epoch 20/100\n",
      "14157/14157 [==============================] - 19s 1ms/step - loss: 0.0656 - acc: 0.9427 - val_loss: 0.0577 - val_acc: 0.9352\n",
      "Epoch 21/100\n",
      "14157/14157 [==============================] - 1808s 128ms/step - loss: 0.0589 - acc: 0.9510 - val_loss: 0.0661 - val_acc: 0.9403\n",
      "Epoch 22/100\n",
      "14157/14157 [==============================] - 179s 13ms/step - loss: 0.0597 - acc: 0.9501 - val_loss: 0.0610 - val_acc: 0.9384\n",
      "Epoch 23/100\n",
      "14157/14157 [==============================] - 6s 458us/step - loss: 0.0577 - acc: 0.9518 - val_loss: 0.0577 - val_acc: 0.9460\n",
      "Epoch 24/100\n",
      "14157/14157 [==============================] - 6s 411us/step - loss: 0.0572 - acc: 0.9499 - val_loss: 0.0689 - val_acc: 0.9320\n",
      "Epoch 25/100\n",
      "14157/14157 [==============================] - 6s 454us/step - loss: 0.0560 - acc: 0.9532 - val_loss: 0.0712 - val_acc: 0.9288\n",
      "Epoch 26/100\n",
      "14157/14157 [==============================] - 6s 441us/step - loss: 0.0567 - acc: 0.9492 - val_loss: 0.0659 - val_acc: 0.9390\n",
      "Epoch 27/100\n",
      "14157/14157 [==============================] - 6s 429us/step - loss: 0.0548 - acc: 0.9530 - val_loss: 0.0684 - val_acc: 0.9428\n",
      "Epoch 28/100\n",
      "14157/14157 [==============================] - 6s 436us/step - loss: 0.0552 - acc: 0.9526 - val_loss: 0.0700 - val_acc: 0.9333\n",
      "Epoch 29/100\n",
      "14157/14157 [==============================] - 7s 464us/step - loss: 0.0530 - acc: 0.9539 - val_loss: 0.0634 - val_acc: 0.9396\n",
      "Wall time: 38min 28s\n"
     ]
    },
    {
     "data": {
      "text/plain": [
       "<keras.callbacks.History at 0x2612c1bbd68>"
      ]
     },
     "execution_count": 41,
     "metadata": {},
     "output_type": "execute_result"
    }
   ],
   "source": [
    "%%time\n",
    "# fit the model\n",
    "model3.fit(x_train, y_train, epochs=100, batch_size=64, validation_split=0.1, verbose=1, class_weight = cls_wt,\n",
    "          callbacks = [history,\n",
    "                       keras.callbacks.EarlyStopping(monitor='val_loss', min_delta=0, patience=10, verbose=0, mode='auto')])"
   ]
  },
  {
   "cell_type": "code",
   "execution_count": 44,
   "metadata": {},
   "outputs": [
    {
     "data": {
      "text/plain": [
       "Text(0.5, 1.0, 'Loss')"
      ]
     },
     "execution_count": 44,
     "metadata": {},
     "output_type": "execute_result"
    },
    {
     "data": {
      "image/png": "[encoded data removed]",
      "text/plain": [
       "<Figure size 720x288 with 2 Axes>"
      ]
     },
     "metadata": {
      "needs_background": "light"
     },
     "output_type": "display_data"
    }
   ],
   "source": [
    "fig, ax = plt.subplots(nrows = 1, ncols = 2, figsize = (10, 4))\n",
    "\n",
    "# Accuracy\n",
    "ax[0].plot(history.history['acc'])\n",
    "ax[0].plot(history.history['val_acc'])\n",
    "ax[0].set_ylabel('Accuracy')\n",
    "ax[0].set_xlabel('# Epoch')\n",
    "ax[0].legend(['train', 'validation'], loc='upper left')\n",
    "ax[0].set_title('Accuracy')\n",
    "\n",
    "# Loss\n",
    "ax[1].plot(history.history['loss'])\n",
    "ax[1].plot(history.history['val_loss'])\n",
    "ax[1].set_ylabel('Loss')\n",
    "ax[1].set_xlabel('# Epoch')\n",
    "ax[1].legend(['train', 'validation'], loc='upper left')\n",
    "ax[1].set_title('Loss')"
   ]
  },
  {
   "cell_type": "code",
   "execution_count": 45,
   "metadata": {},
   "outputs": [
    {
     "name": "stdout",
     "output_type": "stream",
     "text": [
      "F1 Score:  0.9206349206349207\n",
      "              precision    recall  f1-score   support\n",
      "\n",
      "           0       0.99      0.94      0.96        70\n",
      "           1       0.88      0.97      0.92        30\n",
      "\n",
      "    accuracy                           0.95       100\n",
      "   macro avg       0.93      0.95      0.94       100\n",
      "weighted avg       0.95      0.95      0.95       100\n",
      "\n",
      "Area under curve :  0.9547619047619048 \n",
      "\n"
     ]
    },
    {
     "data": {
      "image/png": "[encoded data removed]",
      "text/plain": [
       "<Figure size 864x864 with 3 Axes>"
      ]
     },
     "metadata": {
      "needs_background": "light"
     },
     "output_type": "display_data"
    }
   ],
   "source": [
    "y_pred = model3.predict_classes(x_test)\n",
    "\n",
    "print_results(y_true.failure, y_pred)"
   ]
  },
  {
   "cell_type": "code",
   "execution_count": 46,
   "metadata": {},
   "outputs": [
    {
     "data": {
      "text/plain": [
       "array([[10306,   425],\n",
       "       [  214,  4786]], dtype=int64)"
      ]
     },
     "execution_count": 46,
     "metadata": {},
     "output_type": "execute_result"
    }
   ],
   "source": [
    "confusion_matrix(y_train, model3.predict_classes(x_train))"
   ]
  },
  {
   "cell_type": "markdown",
   "metadata": {},
   "source": [
    "#### Model 4"
   ]
  },
  {
   "cell_type": "markdown",
   "metadata": {},
   "source": [
    "Model 4 has two hidden layers to learn complex patterns in the data."
   ]
  },
  {
   "cell_type": "code",
   "execution_count": 47,
   "metadata": {},
   "outputs": [
    {
     "name": "stdout",
     "output_type": "stream",
     "text": [
      "_________________________________________________________________\n",
      "Layer (type)                 Output Shape              Param #   \n",
      "=================================================================\n",
      "lstm_4 (LSTM)                (None, 50, 8)             768       \n",
      "_________________________________________________________________\n",
      "dropout_2 (Dropout)          (None, 50, 8)             0         \n",
      "_________________________________________________________________\n",
      "lstm_5 (LSTM)                (None, 4)                 208       \n",
      "_________________________________________________________________\n",
      "dropout_3 (Dropout)          (None, 4)                 0         \n",
      "_________________________________________________________________\n",
      "dense_4 (Dense)              (None, 1)                 5         \n",
      "=================================================================\n",
      "Total params: 981\n",
      "Trainable params: 981\n",
      "Non-trainable params: 0\n",
      "_________________________________________________________________\n"
     ]
    }
   ],
   "source": [
    "history = History()\n",
    "\n",
    "model4 = Sequential()\n",
    "model4.add(LSTM(\n",
    "         units=8,\n",
    "         return_sequences=True,\n",
    "         input_shape=(sequence_length, nb_features)))\n",
    "model4.add(Dropout(0.2))\n",
    "model4.add(LSTM(\n",
    "         units=4,\n",
    "         return_sequences=False))\n",
    "model4.add(Dropout(0.2))\n",
    "model4.add(Dense(units=1, activation='sigmoid'))\n",
    "model4.compile(loss=\"binary_crossentropy\", optimizer=\"adam\", metrics=['accuracy'])\n",
    "\n",
    "model4.summary()"
   ]
  },
  {
   "cell_type": "code",
   "execution_count": 48,
   "metadata": {
    "scrolled": true
   },
   "outputs": [
    {
     "name": "stdout",
     "output_type": "stream",
     "text": [
      "Train on 14157 samples, validate on 1574 samples\n",
      "Epoch 1/100\n",
      "14157/14157 [==============================] - 28s 2ms/step - loss: 0.1768 - acc: 0.8827 - val_loss: 0.1422 - val_acc: 0.8710\n",
      "Epoch 2/100\n",
      "14157/14157 [==============================] - 24s 2ms/step - loss: 0.1097 - acc: 0.9196 - val_loss: 0.0770 - val_acc: 0.9384\n",
      "Epoch 3/100\n",
      "14157/14157 [==============================] - 23s 2ms/step - loss: 0.0829 - acc: 0.9386 - val_loss: 0.0713 - val_acc: 0.9263\n",
      "Epoch 4/100\n",
      "14157/14157 [==============================] - 24s 2ms/step - loss: 0.0717 - acc: 0.9442 - val_loss: 0.0714 - val_acc: 0.9269\n",
      "Epoch 5/100\n",
      "14157/14157 [==============================] - 24s 2ms/step - loss: 0.0651 - acc: 0.9501 - val_loss: 0.0638 - val_acc: 0.9371\n",
      "Epoch 6/100\n",
      "14157/14157 [==============================] - 24s 2ms/step - loss: 0.0614 - acc: 0.9520 - val_loss: 0.0642 - val_acc: 0.9269\n",
      "Epoch 7/100\n",
      "14157/14157 [==============================] - 24s 2ms/step - loss: 0.0561 - acc: 0.9544 - val_loss: 0.0628 - val_acc: 0.9422\n",
      "Epoch 8/100\n",
      "14157/14157 [==============================] - 24s 2ms/step - loss: 0.0543 - acc: 0.9544 - val_loss: 0.0667 - val_acc: 0.9384\n",
      "Epoch 9/100\n",
      "14157/14157 [==============================] - 24s 2ms/step - loss: 0.0514 - acc: 0.9582 - val_loss: 0.0737 - val_acc: 0.9390\n",
      "Epoch 10/100\n",
      "14157/14157 [==============================] - 24s 2ms/step - loss: 0.0481 - acc: 0.9602 - val_loss: 0.0640 - val_acc: 0.9416\n",
      "Epoch 11/100\n",
      "14157/14157 [==============================] - 23s 2ms/step - loss: 0.0466 - acc: 0.9610 - val_loss: 0.0622 - val_acc: 0.9441\n",
      "Epoch 12/100\n",
      "14157/14157 [==============================] - 24s 2ms/step - loss: 0.0458 - acc: 0.9612 - val_loss: 0.0690 - val_acc: 0.9346\n",
      "Epoch 13/100\n",
      "14157/14157 [==============================] - 23s 2ms/step - loss: 0.0427 - acc: 0.9636 - val_loss: 0.0702 - val_acc: 0.9365\n",
      "Epoch 14/100\n",
      "14157/14157 [==============================] - 23s 2ms/step - loss: 0.0421 - acc: 0.9644 - val_loss: 0.0841 - val_acc: 0.9307\n",
      "Epoch 15/100\n",
      "14157/14157 [==============================] - 24s 2ms/step - loss: 0.0431 - acc: 0.9649 - val_loss: 0.0777 - val_acc: 0.9365\n",
      "Epoch 16/100\n",
      "14157/14157 [==============================] - 24s 2ms/step - loss: 0.0404 - acc: 0.9654 - val_loss: 0.0637 - val_acc: 0.9479\n",
      "Epoch 17/100\n",
      "14157/14157 [==============================] - 25s 2ms/step - loss: 0.0394 - acc: 0.9664 - val_loss: 0.0799 - val_acc: 0.9314\n",
      "Epoch 18/100\n",
      "14157/14157 [==============================] - 73s 5ms/step - loss: 0.0382 - acc: 0.9683 - val_loss: 0.0733 - val_acc: 0.9422\n",
      "Epoch 19/100\n",
      "14157/14157 [==============================] - 21s 1ms/step - loss: 0.0386 - acc: 0.9677 - val_loss: 0.0722 - val_acc: 0.9339\n",
      "Epoch 20/100\n",
      "14157/14157 [==============================] - 22s 2ms/step - loss: 0.0383 - acc: 0.9676 - val_loss: 0.0740 - val_acc: 0.9428\n",
      "Epoch 21/100\n",
      "14157/14157 [==============================] - 23s 2ms/step - loss: 0.0366 - acc: 0.9684 - val_loss: 0.0863 - val_acc: 0.9327\n",
      "Wall time: 9min 14s\n"
     ]
    },
    {
     "data": {
      "text/plain": [
       "<keras.callbacks.History at 0x2612da2db70>"
      ]
     },
     "execution_count": 48,
     "metadata": {},
     "output_type": "execute_result"
    }
   ],
   "source": [
    "%%time\n",
    "# fit the model\n",
    "model4.fit(x_train, y_train, epochs=100, batch_size=64, validation_split=0.1, verbose=1, class_weight = cls_wt,\n",
    "          callbacks = [history,\n",
    "                       keras.callbacks.EarlyStopping(monitor='val_loss', min_delta=0, patience=10, verbose=0, mode='auto')])"
   ]
  },
  {
   "cell_type": "code",
   "execution_count": 49,
   "metadata": {},
   "outputs": [
    {
     "data": {
      "text/plain": [
       "Text(0.5, 1.0, 'Loss')"
      ]
     },
     "execution_count": 49,
     "metadata": {},
     "output_type": "execute_result"
    },
    {
     "data": {
      "image/png": "[encoded data removed]",
      "text/plain": [
       "<Figure size 720x288 with 2 Axes>"
      ]
     },
     "metadata": {
      "needs_background": "light"
     },
     "output_type": "display_data"
    }
   ],
   "source": [
    "fig, ax = plt.subplots(nrows = 1, ncols = 2, figsize = (10, 4))\n",
    "\n",
    "# Accuracy\n",
    "ax[0].plot(history.history['acc'])\n",
    "ax[0].plot(history.history['val_acc'])\n",
    "ax[0].set_ylabel('Accuracy')\n",
    "ax[0].set_xlabel('# Epoch')\n",
    "ax[0].legend(['train', 'validation'], loc='upper left')\n",
    "ax[0].set_title('Accuracy')\n",
    "\n",
    "# Loss\n",
    "ax[1].plot(history.history['loss'])\n",
    "ax[1].plot(history.history['val_loss'])\n",
    "ax[1].set_ylabel('Loss')\n",
    "ax[1].set_xlabel('# Epoch')\n",
    "ax[1].legend(['train', 'validation'], loc='upper left')\n",
    "ax[1].set_title('Loss')"
   ]
  },
  {
   "cell_type": "code",
   "execution_count": 52,
   "metadata": {},
   "outputs": [
    {
     "name": "stdout",
     "output_type": "stream",
     "text": [
      "F1 Score:  0.923076923076923\n",
      "              precision    recall  f1-score   support\n",
      "\n",
      "           0       1.00      0.93      0.96        70\n",
      "           1       0.86      1.00      0.92        30\n",
      "\n",
      "    accuracy                           0.95       100\n",
      "   macro avg       0.93      0.96      0.94       100\n",
      "weighted avg       0.96      0.95      0.95       100\n",
      "\n",
      "Area under curve :  0.9642857142857143 \n",
      "\n"
     ]
    },
    {
     "data": {
      "image/png": "[encoded data removed]",
      "text/plain": [
       "<Figure size 864x864 with 3 Axes>"
      ]
     },
     "metadata": {
      "needs_background": "light"
     },
     "output_type": "display_data"
    }
   ],
   "source": [
    "y_pred = model4.predict_classes(x_test)\n",
    "\n",
    "print_results(y_true.failure, y_pred)"
   ]
  },
  {
   "cell_type": "code",
   "execution_count": 53,
   "metadata": {},
   "outputs": [
    {
     "data": {
      "text/plain": [
       "array([[10276,   455],\n",
       "       [  107,  4893]], dtype=int64)"
      ]
     },
     "execution_count": 53,
     "metadata": {},
     "output_type": "execute_result"
    }
   ],
   "source": [
    "confusion_matrix(y_train, model4.predict_classes(x_train))"
   ]
  },
  {
   "cell_type": "markdown",
   "metadata": {},
   "source": [
    "#### False Positives Analysis"
   ]
  },
  {
   "cell_type": "code",
   "execution_count": 55,
   "metadata": {},
   "outputs": [
    {
     "data": {
      "text/html": [
       "<div>\n",
       "<style scoped>\n",
       "    .dataframe tbody tr th:only-of-type {\n",
       "        vertical-align: middle;\n",
       "    }\n",
       "\n",
       "    .dataframe tbody tr th {\n",
       "        vertical-align: top;\n",
       "    }\n",
       "\n",
       "    .dataframe thead th {\n",
       "        text-align: right;\n",
       "    }\n",
       "</style>\n",
       "<table border=\"1\" class=\"dataframe\">\n",
       "  <thead>\n",
       "    <tr style=\"text-align: right;\">\n",
       "      <th></th>\n",
       "      <th>RUL</th>\n",
       "      <th>UnitNumber</th>\n",
       "      <th>failure</th>\n",
       "      <th>pred</th>\n",
       "    </tr>\n",
       "  </thead>\n",
       "  <tbody>\n",
       "    <tr>\n",
       "      <th>0</th>\n",
       "      <td>112</td>\n",
       "      <td>0</td>\n",
       "      <td>0</td>\n",
       "      <td>0</td>\n",
       "    </tr>\n",
       "    <tr>\n",
       "      <th>1</th>\n",
       "      <td>98</td>\n",
       "      <td>1</td>\n",
       "      <td>0</td>\n",
       "      <td>0</td>\n",
       "    </tr>\n",
       "    <tr>\n",
       "      <th>2</th>\n",
       "      <td>69</td>\n",
       "      <td>2</td>\n",
       "      <td>0</td>\n",
       "      <td>1</td>\n",
       "    </tr>\n",
       "    <tr>\n",
       "      <th>3</th>\n",
       "      <td>82</td>\n",
       "      <td>3</td>\n",
       "      <td>0</td>\n",
       "      <td>0</td>\n",
       "    </tr>\n",
       "    <tr>\n",
       "      <th>4</th>\n",
       "      <td>91</td>\n",
       "      <td>4</td>\n",
       "      <td>0</td>\n",
       "      <td>0</td>\n",
       "    </tr>\n",
       "  </tbody>\n",
       "</table>\n",
       "</div>"
      ],
      "text/plain": [
       "   RUL  UnitNumber  failure  pred\n",
       "0  112           0        0     0\n",
       "1   98           1        0     0\n",
       "2   69           2        0     1\n",
       "3   82           3        0     0\n",
       "4   91           4        0     0"
      ]
     },
     "execution_count": 55,
     "metadata": {},
     "output_type": "execute_result"
    }
   ],
   "source": [
    "y_true['pred'] = y_pred\n",
    "y_true.head()"
   ]
  },
  {
   "cell_type": "code",
   "execution_count": 56,
   "metadata": {},
   "outputs": [
    {
     "data": {
      "text/html": [
       "<div>\n",
       "<style scoped>\n",
       "    .dataframe tbody tr th:only-of-type {\n",
       "        vertical-align: middle;\n",
       "    }\n",
       "\n",
       "    .dataframe tbody tr th {\n",
       "        vertical-align: top;\n",
       "    }\n",
       "\n",
       "    .dataframe thead th {\n",
       "        text-align: right;\n",
       "    }\n",
       "</style>\n",
       "<table border=\"1\" class=\"dataframe\">\n",
       "  <thead>\n",
       "    <tr style=\"text-align: right;\">\n",
       "      <th></th>\n",
       "      <th>RUL</th>\n",
       "      <th>UnitNumber</th>\n",
       "      <th>failure</th>\n",
       "      <th>pred</th>\n",
       "    </tr>\n",
       "  </thead>\n",
       "  <tbody>\n",
       "    <tr>\n",
       "      <th>2</th>\n",
       "      <td>69</td>\n",
       "      <td>2</td>\n",
       "      <td>0</td>\n",
       "      <td>1</td>\n",
       "    </tr>\n",
       "    <tr>\n",
       "      <th>61</th>\n",
       "      <td>54</td>\n",
       "      <td>61</td>\n",
       "      <td>0</td>\n",
       "      <td>1</td>\n",
       "    </tr>\n",
       "    <tr>\n",
       "      <th>62</th>\n",
       "      <td>72</td>\n",
       "      <td>62</td>\n",
       "      <td>0</td>\n",
       "      <td>1</td>\n",
       "    </tr>\n",
       "    <tr>\n",
       "      <th>83</th>\n",
       "      <td>58</td>\n",
       "      <td>83</td>\n",
       "      <td>0</td>\n",
       "      <td>1</td>\n",
       "    </tr>\n",
       "    <tr>\n",
       "      <th>92</th>\n",
       "      <td>85</td>\n",
       "      <td>92</td>\n",
       "      <td>0</td>\n",
       "      <td>1</td>\n",
       "    </tr>\n",
       "  </tbody>\n",
       "</table>\n",
       "</div>"
      ],
      "text/plain": [
       "    RUL  UnitNumber  failure  pred\n",
       "2    69           2        0     1\n",
       "61   54          61        0     1\n",
       "62   72          62        0     1\n",
       "83   58          83        0     1\n",
       "92   85          92        0     1"
      ]
     },
     "execution_count": 56,
     "metadata": {},
     "output_type": "execute_result"
    }
   ],
   "source": [
    "y_true[y_true.failure != y_true.pred]"
   ]
  },
  {
   "cell_type": "markdown",
   "metadata": {},
   "source": [
    "The RUL for False positives is near to 50 cycles only."
   ]
  },
  {
   "cell_type": "markdown",
   "metadata": {},
   "source": [
    "### Experiment"
   ]
  },
  {
   "cell_type": "markdown",
   "metadata": {},
   "source": [
    "LSTM models have stochasticity and the results might be different everytime. I run the model (architecture same as mdoel 4) 10 times and check the performance of model."
   ]
  },
  {
   "cell_type": "code",
   "execution_count": 57,
   "metadata": {},
   "outputs": [],
   "source": [
    "def run_exp_model(X, y, X_test, y_test, nruns = 10):\n",
    "    \n",
    "    \"\"\"\n",
    "    Parameters:\n",
    "    X, y = training pandas dataframe\n",
    "    X_test, y_test = testing pandas dataframe\n",
    "    nruns = number of time the models should rn\n",
    "    \n",
    "    return:\n",
    "    Dataframe with Model Run, Accuracy, Precision, Recall, F1 Score, AUC Score\n",
    "    \"\"\"\n",
    "    \n",
    "    score_df = pd.DataFrame(columns=[\"Model\", \"Accuracy\", \"Precision\", \"Recall\", \"F1 score\", \"AUC Score\"])\n",
    "\n",
    "    for i in range(0, nruns):\n",
    "        start = time.time()\n",
    "\n",
    "        model = Sequential()\n",
    "        model.add(LSTM(\n",
    "                 units=8,\n",
    "                 return_sequences=True,\n",
    "                 input_shape=(sequence_length, nb_features)))\n",
    "        model.add(Dropout(0.2))\n",
    "        model.add(LSTM(\n",
    "                  units=4,\n",
    "                  return_sequences=False))\n",
    "        model.add(Dropout(0.2))\n",
    "        model.add(Dense(units=1, activation='sigmoid'))\n",
    "\n",
    "        model.compile(loss='binary_crossentropy', optimizer = \"adam\", metrics=[\"accuracy\"])\n",
    "\n",
    "        model.fit(X, y, epochs=100, batch_size=64, validation_split = 0.1, verbose=0, class_weight=cls_wt,\n",
    "              shuffle= True ,callbacks = [keras.callbacks.EarlyStopping(monitor='val_loss', min_delta=0, patience=10, \n",
    "                                                                  verbose=0, mode='auto')])\n",
    "\n",
    "        predictions = model.predict_classes(X_test)\n",
    "\n",
    "        acc = accuracy_score(y_test,predictions)\n",
    "        pr = precision_score(y_test,predictions)\n",
    "        rc = recall_score(y_test,predictions)\n",
    "        f1 = f1_score(y_test,predictions)\n",
    "        auc = roc_auc_score(y_test,predictions)\n",
    "\n",
    "        score_df = score_df.append({'Model':i + 1, 'Accuracy': acc, 'Precision': pr, 'Recall': rc,\n",
    "                                    'F1 Score': f1, 'AUC Score': auc}, ignore_index=True)\n",
    "        end = time.time()\n",
    "        print(\"Run:\", i+1, \" and Runtime:\", np.round(end - start, 3), \" Seconds\", sep = \"\")        \n",
    "    \n",
    "    return score_df"
   ]
  },
  {
   "cell_type": "code",
   "execution_count": 62,
   "metadata": {},
   "outputs": [
    {
     "name": "stdout",
     "output_type": "stream",
     "text": [
      "Run:1 and Runtime:502.499 Seconds\n",
      "Run:2 and Runtime:228.779 Seconds\n",
      "Run:3 and Runtime:233.553 Seconds\n",
      "Run:4 and Runtime:251.012 Seconds\n",
      "Run:5 and Runtime:339.89 Seconds\n",
      "Run:6 and Runtime:271.501 Seconds\n",
      "Run:7 and Runtime:481.365 Seconds\n",
      "Run:8 and Runtime:256.01 Seconds\n",
      "Run:9 and Runtime:360.233 Seconds\n",
      "Run:10 and Runtime:361.427 Seconds\n"
     ]
    }
   ],
   "source": [
    "result_df = run_exp_model(x_train, y_train, x_test, y_true.failure, nruns = 10)"
   ]
  },
  {
   "cell_type": "code",
   "execution_count": 81,
   "metadata": {},
   "outputs": [
    {
     "data": {
      "text/html": [
       "<div>\n",
       "<style scoped>\n",
       "    .dataframe tbody tr th:only-of-type {\n",
       "        vertical-align: middle;\n",
       "    }\n",
       "\n",
       "    .dataframe tbody tr th {\n",
       "        vertical-align: top;\n",
       "    }\n",
       "\n",
       "    .dataframe thead th {\n",
       "        text-align: right;\n",
       "    }\n",
       "</style>\n",
       "<table border=\"1\" class=\"dataframe\">\n",
       "  <thead>\n",
       "    <tr style=\"text-align: right;\">\n",
       "      <th></th>\n",
       "      <th>Model</th>\n",
       "      <th>Accuracy</th>\n",
       "      <th>Precision</th>\n",
       "      <th>Recall</th>\n",
       "      <th>AUC Score</th>\n",
       "      <th>F1 Score</th>\n",
       "    </tr>\n",
       "  </thead>\n",
       "  <tbody>\n",
       "    <tr>\n",
       "      <th>0</th>\n",
       "      <td>1.0</td>\n",
       "      <td>0.97</td>\n",
       "      <td>0.909091</td>\n",
       "      <td>1.0</td>\n",
       "      <td>0.978571</td>\n",
       "      <td>0.952381</td>\n",
       "    </tr>\n",
       "    <tr>\n",
       "      <th>1</th>\n",
       "      <td>2.0</td>\n",
       "      <td>0.97</td>\n",
       "      <td>0.909091</td>\n",
       "      <td>1.0</td>\n",
       "      <td>0.978571</td>\n",
       "      <td>0.952381</td>\n",
       "    </tr>\n",
       "    <tr>\n",
       "      <th>2</th>\n",
       "      <td>3.0</td>\n",
       "      <td>0.98</td>\n",
       "      <td>0.937500</td>\n",
       "      <td>1.0</td>\n",
       "      <td>0.985714</td>\n",
       "      <td>0.967742</td>\n",
       "    </tr>\n",
       "    <tr>\n",
       "      <th>3</th>\n",
       "      <td>4.0</td>\n",
       "      <td>0.96</td>\n",
       "      <td>0.882353</td>\n",
       "      <td>1.0</td>\n",
       "      <td>0.971429</td>\n",
       "      <td>0.937500</td>\n",
       "    </tr>\n",
       "    <tr>\n",
       "      <th>4</th>\n",
       "      <td>5.0</td>\n",
       "      <td>0.97</td>\n",
       "      <td>0.909091</td>\n",
       "      <td>1.0</td>\n",
       "      <td>0.978571</td>\n",
       "      <td>0.952381</td>\n",
       "    </tr>\n",
       "    <tr>\n",
       "      <th>5</th>\n",
       "      <td>6.0</td>\n",
       "      <td>0.96</td>\n",
       "      <td>0.882353</td>\n",
       "      <td>1.0</td>\n",
       "      <td>0.971429</td>\n",
       "      <td>0.937500</td>\n",
       "    </tr>\n",
       "    <tr>\n",
       "      <th>6</th>\n",
       "      <td>7.0</td>\n",
       "      <td>0.98</td>\n",
       "      <td>0.937500</td>\n",
       "      <td>1.0</td>\n",
       "      <td>0.985714</td>\n",
       "      <td>0.967742</td>\n",
       "    </tr>\n",
       "    <tr>\n",
       "      <th>7</th>\n",
       "      <td>8.0</td>\n",
       "      <td>0.95</td>\n",
       "      <td>0.857143</td>\n",
       "      <td>1.0</td>\n",
       "      <td>0.964286</td>\n",
       "      <td>0.923077</td>\n",
       "    </tr>\n",
       "    <tr>\n",
       "      <th>8</th>\n",
       "      <td>9.0</td>\n",
       "      <td>0.99</td>\n",
       "      <td>0.967742</td>\n",
       "      <td>1.0</td>\n",
       "      <td>0.992857</td>\n",
       "      <td>0.983607</td>\n",
       "    </tr>\n",
       "    <tr>\n",
       "      <th>9</th>\n",
       "      <td>10.0</td>\n",
       "      <td>0.97</td>\n",
       "      <td>0.909091</td>\n",
       "      <td>1.0</td>\n",
       "      <td>0.978571</td>\n",
       "      <td>0.952381</td>\n",
       "    </tr>\n",
       "  </tbody>\n",
       "</table>\n",
       "</div>"
      ],
      "text/plain": [
       "   Model  Accuracy  Precision  Recall  AUC Score  F1 Score\n",
       "0    1.0      0.97   0.909091     1.0   0.978571  0.952381\n",
       "1    2.0      0.97   0.909091     1.0   0.978571  0.952381\n",
       "2    3.0      0.98   0.937500     1.0   0.985714  0.967742\n",
       "3    4.0      0.96   0.882353     1.0   0.971429  0.937500\n",
       "4    5.0      0.97   0.909091     1.0   0.978571  0.952381\n",
       "5    6.0      0.96   0.882353     1.0   0.971429  0.937500\n",
       "6    7.0      0.98   0.937500     1.0   0.985714  0.967742\n",
       "7    8.0      0.95   0.857143     1.0   0.964286  0.923077\n",
       "8    9.0      0.99   0.967742     1.0   0.992857  0.983607\n",
       "9   10.0      0.97   0.909091     1.0   0.978571  0.952381"
      ]
     },
     "execution_count": 81,
     "metadata": {},
     "output_type": "execute_result"
    }
   ],
   "source": [
    "result_df"
   ]
  },
  {
   "cell_type": "code",
   "execution_count": 86,
   "metadata": {},
   "outputs": [
    {
     "data": {
      "text/plain": [
       "Text(0, 0.5, 'Value')"
      ]
     },
     "execution_count": 86,
     "metadata": {},
     "output_type": "execute_result"
    },
    {
     "data": {
      "image/png": "[encoded data removed]",
      "text/plain": [
       "<Figure size 640x480 with 1 Axes>"
      ]
     },
     "metadata": {},
     "output_type": "display_data"
    }
   ],
   "source": [
    "fig, ax = plt.subplots()\n",
    "result_df.drop(['Model'], axis = 1).boxplot(vert = 1, ax = ax)\n",
    "ax.set_title('Binary Claasification Model Performance on Test Data')\n",
    "ax.grid(b=None)\n",
    "ax.set_ylabel('Value')"
   ]
  },
  {
   "cell_type": "code",
   "execution_count": 83,
   "metadata": {},
   "outputs": [
    {
     "data": {
      "text/plain": [
       "Model        5.500000\n",
       "Accuracy     0.970000\n",
       "Precision    0.910095\n",
       "Recall       1.000000\n",
       "AUC Score    0.978571\n",
       "F1 Score     0.952669\n",
       "dtype: float64"
      ]
     },
     "execution_count": 83,
     "metadata": {},
     "output_type": "execute_result"
    }
   ],
   "source": [
    "result_df.mean()"
   ]
  },
  {
   "cell_type": "code",
   "execution_count": null,
   "metadata": {},
   "outputs": [],
   "source": []
  }
 ],
 "metadata": {
  "kernelspec": {
   "display_name": "Python 3",
   "language": "python",
   "name": "python3"
  },
  "language_info": {
   "codemirror_mode": {
    "name": "ipython",
    "version": 3
   },
   "file_extension": ".py",
   "mimetype": "text/x-python",
   "name": "python",
   "nbconvert_exporter": "python",
   "pygments_lexer": "ipython3",
   "version": "3.7.3"
  }
 },
 "nbformat": 4,
 "nbformat_minor": 2
}
